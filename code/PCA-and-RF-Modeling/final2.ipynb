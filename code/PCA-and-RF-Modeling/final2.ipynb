{
 "cells": [
  {
   "cell_type": "code",
   "execution_count": 29,
   "metadata": {},
   "outputs": [],
   "source": [
    "import seaborn as sns \n",
    "import pandas as pd\n",
    "import numpy as np\n",
    "import matplotlib.pyplot as plt\n",
    "import pandas as pd\n",
    "import numpy as np\n",
    "import matplotlib.pyplot as plt\n",
    "from sklearn.model_selection import train_test_split\n",
    "from pandas.plotting import register_matplotlib_converters\n",
    "register_matplotlib_converters()\n",
    "plt.style.use('seaborn')\n",
    "from sklearn.model_selection import train_test_split, GridSearchCV\n",
    "from sklearn.preprocessing import StandardScaler\n",
    "from sklearn.pipeline import Pipeline\n",
    "from sklearn.cluster import KMeans\n",
    "from sklearn.decomposition import PCA\n",
    "from sklearn.linear_model import LinearRegression, LogisticRegression\n",
    "from sklearn.model_selection import train_test_split\n",
    "from sklearn.linear_model import LinearRegression\n",
    "from sklearn.preprocessing import PolynomialFeatures, StandardScaler\n"
   ]
  },
  {
   "cell_type": "markdown",
   "metadata": {},
   "source": [
    "### Wage prediction for construction and renovation businesses "
   ]
  },
  {
   "cell_type": "code",
   "execution_count": 30,
   "metadata": {},
   "outputs": [
    {
     "data": {
      "text/html": [
       "<div>\n",
       "<style scoped>\n",
       "    .dataframe tbody tr th:only-of-type {\n",
       "        vertical-align: middle;\n",
       "    }\n",
       "\n",
       "    .dataframe tbody tr th {\n",
       "        vertical-align: top;\n",
       "    }\n",
       "\n",
       "    .dataframe thead th {\n",
       "        text-align: right;\n",
       "    }\n",
       "</style>\n",
       "<table border=\"1\" class=\"dataframe\">\n",
       "  <thead>\n",
       "    <tr style=\"text-align: right;\">\n",
       "      <th></th>\n",
       "      <th>disasterNumber</th>\n",
       "      <th>state</th>\n",
       "      <th>incidentType</th>\n",
       "      <th>year</th>\n",
       "      <th>month</th>\n",
       "      <th>occ_code</th>\n",
       "      <th>occ_title</th>\n",
       "      <th>tot_emp</th>\n",
       "      <th>h_mean</th>\n",
       "      <th>a_mean</th>\n",
       "      <th>...</th>\n",
       "      <th>Mud/Landslide.1</th>\n",
       "      <th>Other.1</th>\n",
       "      <th>Severe Ice Storm.1</th>\n",
       "      <th>Severe Storm(s).1</th>\n",
       "      <th>Snow.1</th>\n",
       "      <th>Terrorist.1</th>\n",
       "      <th>Tornado.1</th>\n",
       "      <th>Toxic Substances.1</th>\n",
       "      <th>Tsunami.1</th>\n",
       "      <th>Volcano.1</th>\n",
       "    </tr>\n",
       "  </thead>\n",
       "  <tbody>\n",
       "    <tr>\n",
       "      <td>0</td>\n",
       "      <td>1190</td>\n",
       "      <td>NE</td>\n",
       "      <td>Severe Storm(s)</td>\n",
       "      <td>1997.0</td>\n",
       "      <td>11.0</td>\n",
       "      <td>41002</td>\n",
       "      <td>First-Line Supervisors and Managers/Supervisor...</td>\n",
       "      <td>10980.0</td>\n",
       "      <td>14.29</td>\n",
       "      <td>29720</td>\n",
       "      <td>...</td>\n",
       "      <td>0</td>\n",
       "      <td>0</td>\n",
       "      <td>0</td>\n",
       "      <td>1</td>\n",
       "      <td>0</td>\n",
       "      <td>0</td>\n",
       "      <td>0</td>\n",
       "      <td>0</td>\n",
       "      <td>0</td>\n",
       "      <td>0</td>\n",
       "    </tr>\n",
       "    <tr>\n",
       "      <td>1</td>\n",
       "      <td>1190</td>\n",
       "      <td>NE</td>\n",
       "      <td>Severe Storm(s)</td>\n",
       "      <td>1997.0</td>\n",
       "      <td>11.0</td>\n",
       "      <td>49002</td>\n",
       "      <td>Sales Engineers</td>\n",
       "      <td>360.0</td>\n",
       "      <td>26.54</td>\n",
       "      <td>55210</td>\n",
       "      <td>...</td>\n",
       "      <td>0</td>\n",
       "      <td>0</td>\n",
       "      <td>0</td>\n",
       "      <td>1</td>\n",
       "      <td>0</td>\n",
       "      <td>0</td>\n",
       "      <td>0</td>\n",
       "      <td>0</td>\n",
       "      <td>0</td>\n",
       "      <td>0</td>\n",
       "    </tr>\n",
       "  </tbody>\n",
       "</table>\n",
       "<p>2 rows × 103 columns</p>\n",
       "</div>"
      ],
      "text/plain": [
       "   disasterNumber state     incidentType    year  month occ_code  \\\n",
       "0            1190    NE  Severe Storm(s)  1997.0   11.0    41002   \n",
       "1            1190    NE  Severe Storm(s)  1997.0   11.0    49002   \n",
       "\n",
       "                                           occ_title  tot_emp  h_mean  a_mean  \\\n",
       "0  First-Line Supervisors and Managers/Supervisor...  10980.0   14.29   29720   \n",
       "1                                    Sales Engineers    360.0   26.54   55210   \n",
       "\n",
       "   ...  Mud/Landslide.1  Other.1  Severe Ice Storm.1  Severe Storm(s).1  \\\n",
       "0  ...                0        0                   0                  1   \n",
       "1  ...                0        0                   0                  1   \n",
       "\n",
       "   Snow.1  Terrorist.1  Tornado.1  Toxic Substances.1  Tsunami.1  Volcano.1  \n",
       "0       0            0          0                   0          0          0  \n",
       "1       0            0          0                   0          0          0  \n",
       "\n",
       "[2 rows x 103 columns]"
      ]
     },
     "execution_count": 30,
     "metadata": {},
     "output_type": "execute_result"
    }
   ],
   "source": [
    "df = pd.read_csv('./pc_df.csv')\n",
    "df.head(2)"
   ]
  },
  {
   "cell_type": "code",
   "execution_count": null,
   "metadata": {},
   "outputs": [],
   "source": []
  },
  {
   "cell_type": "code",
   "execution_count": 31,
   "metadata": {},
   "outputs": [],
   "source": [
    "y = df['wage_change']\n",
    "#X = df.drop(['disasterNumber', 'year','occ_code'], axis = 1 , inplace = True)\n",
    "X = df[[ 'month','tot_emp', 'h_mean',\n",
    "       'a_mean', 'employment_rate_during', 'employment_rate_before',\n",
    "       'employment_rate_after', 'employment_rate_change', 'wage_change',\n",
    "       'impact_on_business', 'AK', 'AL', 'AR', 'AZ', 'CA',\n",
    "       'CO', 'CT', 'DC', 'DE', 'FL', 'GA', 'HI', 'IA', 'ID', 'IL', 'IN', 'KS',\n",
    "       'KY', 'LA', 'MA', 'MD', 'ME', 'MI', 'MN', 'MO', 'MS', 'MT', 'NC', 'ND',\n",
    "       'NE', 'NH', 'NJ', 'NM', 'NV', 'NY', 'OH', 'OK', 'OR', 'PA', 'RI', 'SC',\n",
    "       'SD', 'TN', 'TX', 'UT', 'VA', 'VT', 'WA', 'WI', 'WV', 'WY', 'Chemical',\n",
    "       'Coastal Storm', 'Dam/Levee Break', 'Earthquake', 'Fire', 'Flood',\n",
    "       'Freezing', 'Hurricane', 'Mud/Landslide', 'Other', 'Severe Ice Storm',\n",
    "       'Severe Storm(s)', 'Snow', 'Terrorist', 'Tornado', 'Toxic Substances',\n",
    "       'Tsunami', 'Volcano', 'Chemical.1', 'Coastal Storm.1',\n",
    "       'Dam/Levee Break.1', 'Earthquake.1', 'Fire.1', 'Flood.1', 'Freezing.1',\n",
    "       'Hurricane.1', 'Mud/Landslide.1', 'Other.1', 'Severe Ice Storm.1',\n",
    "       'Severe Storm(s).1', 'Snow.1', 'Terrorist.1', 'Tornado.1',\n",
    "       'Toxic Substances.1', 'Tsunami.1', 'Volcano.1']]"
   ]
  },
  {
   "cell_type": "code",
   "execution_count": 32,
   "metadata": {},
   "outputs": [
    {
     "data": {
      "text/plain": [
       "Index(['disasterNumber', 'state', 'incidentType', 'year', 'month', 'occ_code',\n",
       "       'occ_title', 'tot_emp', 'h_mean', 'a_mean',\n",
       "       ...\n",
       "       'Mud/Landslide.1', 'Other.1', 'Severe Ice Storm.1', 'Severe Storm(s).1',\n",
       "       'Snow.1', 'Terrorist.1', 'Tornado.1', 'Toxic Substances.1', 'Tsunami.1',\n",
       "       'Volcano.1'],\n",
       "      dtype='object', length=103)"
      ]
     },
     "execution_count": 32,
     "metadata": {},
     "output_type": "execute_result"
    }
   ],
   "source": [
    "df.columns "
   ]
  },
  {
   "cell_type": "code",
   "execution_count": 33,
   "metadata": {},
   "outputs": [],
   "source": [
    "X_train, X_test, y_train, y_test = train_test_split(X, y, test_size = 0.33)\n"
   ]
  },
  {
   "cell_type": "code",
   "execution_count": 34,
   "metadata": {},
   "outputs": [],
   "source": [
    "ss = StandardScaler()\n",
    "X_train = ss.fit_transform(X_train)\n",
    "X_test = ss.transform(X_test)"
   ]
  },
  {
   "cell_type": "code",
   "execution_count": 35,
   "metadata": {},
   "outputs": [
    {
     "data": {
      "text/plain": [
       "PCA(copy=True, iterated_power='auto', n_components=10, random_state=42,\n",
       "    svd_solver='auto', tol=0.0, whiten=False)"
      ]
     },
     "execution_count": 35,
     "metadata": {},
     "output_type": "execute_result"
    }
   ],
   "source": [
    "from sklearn.decomposition import PCA\n",
    "pca = PCA(n_components=10,random_state = 42)\n",
    "pca.fit(X_train)"
   ]
  },
  {
   "cell_type": "code",
   "execution_count": 36,
   "metadata": {},
   "outputs": [
    {
     "data": {
      "text/html": [
       "<div>\n",
       "<style scoped>\n",
       "    .dataframe tbody tr th:only-of-type {\n",
       "        vertical-align: middle;\n",
       "    }\n",
       "\n",
       "    .dataframe tbody tr th {\n",
       "        vertical-align: top;\n",
       "    }\n",
       "\n",
       "    .dataframe thead th {\n",
       "        text-align: right;\n",
       "    }\n",
       "</style>\n",
       "<table border=\"1\" class=\"dataframe\">\n",
       "  <thead>\n",
       "    <tr style=\"text-align: right;\">\n",
       "      <th></th>\n",
       "      <th>0</th>\n",
       "      <th>1</th>\n",
       "      <th>2</th>\n",
       "      <th>3</th>\n",
       "      <th>4</th>\n",
       "      <th>5</th>\n",
       "      <th>6</th>\n",
       "      <th>7</th>\n",
       "      <th>8</th>\n",
       "      <th>9</th>\n",
       "    </tr>\n",
       "  </thead>\n",
       "  <tbody>\n",
       "    <tr>\n",
       "      <td>count</td>\n",
       "      <td>1.013750e+05</td>\n",
       "      <td>1.013750e+05</td>\n",
       "      <td>1.013750e+05</td>\n",
       "      <td>1.013750e+05</td>\n",
       "      <td>1.013750e+05</td>\n",
       "      <td>1.013750e+05</td>\n",
       "      <td>1.013750e+05</td>\n",
       "      <td>1.013750e+05</td>\n",
       "      <td>1.013750e+05</td>\n",
       "      <td>1.013750e+05</td>\n",
       "    </tr>\n",
       "    <tr>\n",
       "      <td>mean</td>\n",
       "      <td>-4.218552e-16</td>\n",
       "      <td>-3.081651e-16</td>\n",
       "      <td>-5.815324e-17</td>\n",
       "      <td>-1.997711e-16</td>\n",
       "      <td>-4.573736e-17</td>\n",
       "      <td>-8.940485e-17</td>\n",
       "      <td>-7.433703e-18</td>\n",
       "      <td>4.655298e-17</td>\n",
       "      <td>-3.456832e-17</td>\n",
       "      <td>6.797837e-17</td>\n",
       "    </tr>\n",
       "    <tr>\n",
       "      <td>std</td>\n",
       "      <td>2.025200e+00</td>\n",
       "      <td>1.922871e+00</td>\n",
       "      <td>1.621609e+00</td>\n",
       "      <td>1.548201e+00</td>\n",
       "      <td>1.517124e+00</td>\n",
       "      <td>1.496130e+00</td>\n",
       "      <td>1.458127e+00</td>\n",
       "      <td>1.452874e+00</td>\n",
       "      <td>1.442328e+00</td>\n",
       "      <td>1.433409e+00</td>\n",
       "    </tr>\n",
       "    <tr>\n",
       "      <td>min</td>\n",
       "      <td>-5.771981e+00</td>\n",
       "      <td>-4.197195e+00</td>\n",
       "      <td>-5.416074e+00</td>\n",
       "      <td>-3.381880e+00</td>\n",
       "      <td>-8.114455e+00</td>\n",
       "      <td>-6.102662e+00</td>\n",
       "      <td>-1.206527e+01</td>\n",
       "      <td>-1.831733e+01</td>\n",
       "      <td>-2.085377e+01</td>\n",
       "      <td>-4.297421e+00</td>\n",
       "    </tr>\n",
       "    <tr>\n",
       "      <td>25%</td>\n",
       "      <td>-1.306551e+00</td>\n",
       "      <td>-1.560231e+00</td>\n",
       "      <td>-3.769685e-01</td>\n",
       "      <td>-8.692306e-01</td>\n",
       "      <td>-4.723041e-01</td>\n",
       "      <td>-1.586188e-01</td>\n",
       "      <td>-2.532282e-01</td>\n",
       "      <td>-9.635040e-02</td>\n",
       "      <td>-3.719426e-01</td>\n",
       "      <td>-3.453195e-01</td>\n",
       "    </tr>\n",
       "    <tr>\n",
       "      <td>50%</td>\n",
       "      <td>3.376924e-01</td>\n",
       "      <td>-2.675619e-01</td>\n",
       "      <td>3.437274e-01</td>\n",
       "      <td>-3.715778e-01</td>\n",
       "      <td>1.018604e-01</td>\n",
       "      <td>7.513249e-02</td>\n",
       "      <td>-6.511770e-02</td>\n",
       "      <td>3.034566e-02</td>\n",
       "      <td>-1.211232e-01</td>\n",
       "      <td>-1.327692e-01</td>\n",
       "    </tr>\n",
       "    <tr>\n",
       "      <td>75%</td>\n",
       "      <td>1.520223e+00</td>\n",
       "      <td>1.513149e+00</td>\n",
       "      <td>9.429096e-01</td>\n",
       "      <td>2.541069e-01</td>\n",
       "      <td>7.161943e-01</td>\n",
       "      <td>3.337945e-01</td>\n",
       "      <td>9.238567e-02</td>\n",
       "      <td>1.801769e-01</td>\n",
       "      <td>1.919155e-01</td>\n",
       "      <td>7.940299e-03</td>\n",
       "    </tr>\n",
       "    <tr>\n",
       "      <td>max</td>\n",
       "      <td>7.856100e+00</td>\n",
       "      <td>8.824790e+00</td>\n",
       "      <td>7.684892e+00</td>\n",
       "      <td>1.526538e+01</td>\n",
       "      <td>1.862470e+01</td>\n",
       "      <td>1.201424e+01</td>\n",
       "      <td>3.892713e+01</td>\n",
       "      <td>5.858446e+01</td>\n",
       "      <td>2.185015e+01</td>\n",
       "      <td>1.344409e+01</td>\n",
       "    </tr>\n",
       "  </tbody>\n",
       "</table>\n",
       "</div>"
      ],
      "text/plain": [
       "                  0             1             2             3             4  \\\n",
       "count  1.013750e+05  1.013750e+05  1.013750e+05  1.013750e+05  1.013750e+05   \n",
       "mean  -4.218552e-16 -3.081651e-16 -5.815324e-17 -1.997711e-16 -4.573736e-17   \n",
       "std    2.025200e+00  1.922871e+00  1.621609e+00  1.548201e+00  1.517124e+00   \n",
       "min   -5.771981e+00 -4.197195e+00 -5.416074e+00 -3.381880e+00 -8.114455e+00   \n",
       "25%   -1.306551e+00 -1.560231e+00 -3.769685e-01 -8.692306e-01 -4.723041e-01   \n",
       "50%    3.376924e-01 -2.675619e-01  3.437274e-01 -3.715778e-01  1.018604e-01   \n",
       "75%    1.520223e+00  1.513149e+00  9.429096e-01  2.541069e-01  7.161943e-01   \n",
       "max    7.856100e+00  8.824790e+00  7.684892e+00  1.526538e+01  1.862470e+01   \n",
       "\n",
       "                  5             6             7             8             9  \n",
       "count  1.013750e+05  1.013750e+05  1.013750e+05  1.013750e+05  1.013750e+05  \n",
       "mean  -8.940485e-17 -7.433703e-18  4.655298e-17 -3.456832e-17  6.797837e-17  \n",
       "std    1.496130e+00  1.458127e+00  1.452874e+00  1.442328e+00  1.433409e+00  \n",
       "min   -6.102662e+00 -1.206527e+01 -1.831733e+01 -2.085377e+01 -4.297421e+00  \n",
       "25%   -1.586188e-01 -2.532282e-01 -9.635040e-02 -3.719426e-01 -3.453195e-01  \n",
       "50%    7.513249e-02 -6.511770e-02  3.034566e-02 -1.211232e-01 -1.327692e-01  \n",
       "75%    3.337945e-01  9.238567e-02  1.801769e-01  1.919155e-01  7.940299e-03  \n",
       "max    1.201424e+01  3.892713e+01  5.858446e+01  2.185015e+01  1.344409e+01  "
      ]
     },
     "execution_count": 36,
     "metadata": {},
     "output_type": "execute_result"
    }
   ],
   "source": [
    "Z_train = pca.transform(X_train)\n",
    "pd.DataFrame(Z_train).describe()"
   ]
  },
  {
   "cell_type": "code",
   "execution_count": 37,
   "metadata": {},
   "outputs": [],
   "source": [
    "Z_test = pca.transform(X_test)"
   ]
  },
  {
   "cell_type": "code",
   "execution_count": 38,
   "metadata": {},
   "outputs": [
    {
     "name": "stdout",
     "output_type": "stream",
     "text": [
      "Explained variance (first 20 components): [0.042 0.038 0.027 0.025 0.024 0.023 0.022 0.022 0.021 0.021]\n"
     ]
    }
   ],
   "source": [
    "var_exp = pca.explained_variance_ratio_\n",
    "print(f'Explained variance (first 20 components): {np.round(var_exp[:20],3)}')"
   ]
  },
  {
   "cell_type": "code",
   "execution_count": 39,
   "metadata": {},
   "outputs": [
    {
     "name": "stdout",
     "output_type": "stream",
     "text": [
      "Cumulative explained variance (first 20 components): [0.042 0.08  0.107 0.132 0.156 0.179 0.201 0.222 0.244 0.265]\n"
     ]
    }
   ],
   "source": [
    "cum_var_exp = np.cumsum(var_exp)\n",
    "print(f'Cumulative explained variance (first 20 components): {np.round(cum_var_exp[:20],3)}')"
   ]
  },
  {
   "cell_type": "code",
   "execution_count": 40,
   "metadata": {},
   "outputs": [
    {
     "data": {
      "image/png": "[encoded data removed]",
      "text/plain": [
       "<Figure size 720x360 with 1 Axes>"
      ]
     },
     "metadata": {},
     "output_type": "display_data"
    }
   ],
   "source": [
    "plt.figure(figsize = (10,5))\n",
    "plt.boxplot(pd.DataFrame(pca.explained_variance_ratio_))\n",
    "plt.savefig('ghjj')"
   ]
  },
  {
   "cell_type": "code",
   "execution_count": 41,
   "metadata": {},
   "outputs": [
    {
     "data": {
      "image/png": "[encoded data removed]",
      "text/plain": [
       "<Figure size 576x396 with 1 Axes>"
      ]
     },
     "metadata": {},
     "output_type": "display_data"
    },
    {
     "data": {
      "text/plain": [
       "<Figure size 864x864 with 0 Axes>"
      ]
     },
     "metadata": {},
     "output_type": "display_data"
    }
   ],
   "source": [
    "plt.boxplot(pd.DataFrame(np.cumsum(var_exp)))\n",
    "plt.figure(figsize = (12,12))\n",
    "plt.savefig('dff')"
   ]
  },
  {
   "cell_type": "code",
   "execution_count": null,
   "metadata": {},
   "outputs": [],
   "source": []
  },
  {
   "cell_type": "markdown",
   "metadata": {},
   "source": [
    "### on the 6eme component , we can anly add 18 % of variability to our data frame "
   ]
  },
  {
   "cell_type": "code",
   "execution_count": 42,
   "metadata": {},
   "outputs": [
    {
     "data": {
      "text/plain": [
       "PCA(copy=True, iterated_power='auto', n_components=10, random_state=42,\n",
       "    svd_solver='auto', tol=0.0, whiten=False)"
      ]
     },
     "execution_count": 42,
     "metadata": {},
     "output_type": "execute_result"
    }
   ],
   "source": [
    "pca = PCA(n_components = 10, random_state = 42)\n",
    "pca.fit(X_train)"
   ]
  },
  {
   "cell_type": "code",
   "execution_count": 43,
   "metadata": {},
   "outputs": [
    {
     "name": "stdout",
     "output_type": "stream",
     "text": [
      "Training Score: 0.0030034668647260787\n",
      "Testing Score: 0.003959654769986498\n"
     ]
    }
   ],
   "source": [
    "lm = LinearRegression()\n",
    "Z_train = pca.transform(X_train)\n",
    "Z_test = pca.transform(X_test)\n",
    "lm.fit(Z_train, y_train)\n",
    "print(f'Training Score: {lm.score(Z_train, y_train)}')\n",
    "print(f'Testing Score: {lm.score(Z_test, y_test)}')"
   ]
  },
  {
   "cell_type": "code",
   "execution_count": 44,
   "metadata": {},
   "outputs": [],
   "source": [
    "m = lm.predict(Z_train)"
   ]
  },
  {
   "cell_type": "code",
   "execution_count": 45,
   "metadata": {},
   "outputs": [
    {
     "data": {
      "text/html": [
       "<div>\n",
       "<style scoped>\n",
       "    .dataframe tbody tr th:only-of-type {\n",
       "        vertical-align: middle;\n",
       "    }\n",
       "\n",
       "    .dataframe tbody tr th {\n",
       "        vertical-align: top;\n",
       "    }\n",
       "\n",
       "    .dataframe thead th {\n",
       "        text-align: right;\n",
       "    }\n",
       "</style>\n",
       "<table border=\"1\" class=\"dataframe\">\n",
       "  <thead>\n",
       "    <tr style=\"text-align: right;\">\n",
       "      <th></th>\n",
       "      <th>count</th>\n",
       "      <th>mean</th>\n",
       "      <th>std</th>\n",
       "      <th>min</th>\n",
       "      <th>25%</th>\n",
       "      <th>50%</th>\n",
       "      <th>75%</th>\n",
       "      <th>max</th>\n",
       "    </tr>\n",
       "  </thead>\n",
       "  <tbody>\n",
       "    <tr>\n",
       "      <td>0</td>\n",
       "      <td>101375.0</td>\n",
       "      <td>72759.090921</td>\n",
       "      <td>110864.455915</td>\n",
       "      <td>-2.384789e+06</td>\n",
       "      <td>49443.12547</td>\n",
       "      <td>99900.400606</td>\n",
       "      <td>135910.971477</td>\n",
       "      <td>666745.544243</td>\n",
       "    </tr>\n",
       "  </tbody>\n",
       "</table>\n",
       "</div>"
      ],
      "text/plain": [
       "      count          mean            std           min          25%  \\\n",
       "0  101375.0  72759.090921  110864.455915 -2.384789e+06  49443.12547   \n",
       "\n",
       "            50%            75%            max  \n",
       "0  99900.400606  135910.971477  666745.544243  "
      ]
     },
     "execution_count": 45,
     "metadata": {},
     "output_type": "execute_result"
    }
   ],
   "source": [
    "pd.DataFrame(m).describe().T"
   ]
  },
  {
   "cell_type": "code",
   "execution_count": null,
   "metadata": {},
   "outputs": [],
   "source": []
  },
  {
   "cell_type": "markdown",
   "metadata": {},
   "source": [
    "### Desicion tree regressor "
   ]
  },
  {
   "cell_type": "code",
   "execution_count": 46,
   "metadata": {},
   "outputs": [],
   "source": [
    "from sklearn.model_selection import train_test_split, cross_val_score, KFold\n",
    "from sklearn.tree import DecisionTreeRegressor"
   ]
  },
  {
   "cell_type": "code",
   "execution_count": 47,
   "metadata": {},
   "outputs": [
    {
     "data": {
      "text/plain": [
       "DecisionTreeRegressor(ccp_alpha=0.0, criterion='mse', max_depth=None,\n",
       "                      max_features=None, max_leaf_nodes=None,\n",
       "                      min_impurity_decrease=0.0, min_impurity_split=None,\n",
       "                      min_samples_leaf=1, min_samples_split=2,\n",
       "                      min_weight_fraction_leaf=0.0, presort='deprecated',\n",
       "                      random_state=0, splitter='best')"
      ]
     },
     "execution_count": 47,
     "metadata": {},
     "output_type": "execute_result"
    }
   ],
   "source": [
    "reg = DecisionTreeRegressor(random_state=0)\n",
    "reg.fit(X_train,y_train)"
   ]
  },
  {
   "cell_type": "code",
   "execution_count": 48,
   "metadata": {},
   "outputs": [
    {
     "name": "stdout",
     "output_type": "stream",
     "text": [
      "the train score is:1.0\n",
      "the test score is:0.9922405854195194\n",
      "the train cross validation score is:0.997595802426671\n",
      "the test cross validation score is:0.9900611092406175\n"
     ]
    }
   ],
   "source": [
    "print(f'the train score is:{reg.score(X_train, y_train)}')\n",
    "print(f'the test score is:{reg.score(X_test, y_test)}')\n",
    "print(f'the train cross validation score is:{cross_val_score(reg,X_train, y_train).mean()}')\n",
    "print(f'the test cross validation score is:{ cross_val_score(reg,X_test, y_test).mean()}')"
   ]
  },
  {
   "cell_type": "code",
   "execution_count": 49,
   "metadata": {},
   "outputs": [
    {
     "name": "stdout",
     "output_type": "stream",
     "text": [
      "[ 0.00000000e+00  2.17612800e+03  1.73342400e+04 ...  7.56453466e+06\n",
      " -1.69340160e+04 -1.81699200e+03]\n",
      "[ 12299.712   1773.792  78459.072 ...  -2658.096  -9320.832 -11378.736]\n"
     ]
    }
   ],
   "source": [
    "predict_train = reg.predict(X_train)\n",
    "predict_test = reg.predict(X_test)\n",
    "print(predict_train)\n",
    "print(predict_test)"
   ]
  },
  {
   "cell_type": "code",
   "execution_count": 50,
   "metadata": {},
   "outputs": [
    {
     "data": {
      "text/html": [
       "<div>\n",
       "<style scoped>\n",
       "    .dataframe tbody tr th:only-of-type {\n",
       "        vertical-align: middle;\n",
       "    }\n",
       "\n",
       "    .dataframe tbody tr th {\n",
       "        vertical-align: top;\n",
       "    }\n",
       "\n",
       "    .dataframe thead th {\n",
       "        text-align: right;\n",
       "    }\n",
       "</style>\n",
       "<table border=\"1\" class=\"dataframe\">\n",
       "  <thead>\n",
       "    <tr style=\"text-align: right;\">\n",
       "      <th></th>\n",
       "      <th>0</th>\n",
       "    </tr>\n",
       "  </thead>\n",
       "  <tbody>\n",
       "    <tr>\n",
       "      <td>0</td>\n",
       "      <td>12299.712</td>\n",
       "    </tr>\n",
       "    <tr>\n",
       "      <td>1</td>\n",
       "      <td>1773.792</td>\n",
       "    </tr>\n",
       "  </tbody>\n",
       "</table>\n",
       "</div>"
      ],
      "text/plain": [
       "           0\n",
       "0  12299.712\n",
       "1   1773.792"
      ]
     },
     "execution_count": 50,
     "metadata": {},
     "output_type": "execute_result"
    }
   ],
   "source": [
    "pd.DataFrame(predict_test).head(2)"
   ]
  },
  {
   "cell_type": "code",
   "execution_count": 51,
   "metadata": {},
   "outputs": [
    {
     "name": "stdout",
     "output_type": "stream",
     "text": [
      "[ 12299.712   1773.792  78459.072 ...  -2658.096  -9320.832 -11378.736]\n"
     ]
    }
   ],
   "source": [
    "print(predict_test)"
   ]
  },
  {
   "cell_type": "code",
   "execution_count": 52,
   "metadata": {},
   "outputs": [
    {
     "data": {
      "text/html": [
       "<div>\n",
       "<style scoped>\n",
       "    .dataframe tbody tr th:only-of-type {\n",
       "        vertical-align: middle;\n",
       "    }\n",
       "\n",
       "    .dataframe tbody tr th {\n",
       "        vertical-align: top;\n",
       "    }\n",
       "\n",
       "    .dataframe thead th {\n",
       "        text-align: right;\n",
       "    }\n",
       "</style>\n",
       "<table border=\"1\" class=\"dataframe\">\n",
       "  <thead>\n",
       "    <tr style=\"text-align: right;\">\n",
       "      <th></th>\n",
       "      <th>0</th>\n",
       "    </tr>\n",
       "  </thead>\n",
       "  <tbody>\n",
       "    <tr>\n",
       "      <td>count</td>\n",
       "      <td>4.993100e+04</td>\n",
       "    </tr>\n",
       "    <tr>\n",
       "      <td>mean</td>\n",
       "      <td>7.834591e+04</td>\n",
       "    </tr>\n",
       "    <tr>\n",
       "      <td>std</td>\n",
       "      <td>2.329386e+06</td>\n",
       "    </tr>\n",
       "    <tr>\n",
       "      <td>min</td>\n",
       "      <td>-5.584893e+07</td>\n",
       "    </tr>\n",
       "    <tr>\n",
       "      <td>25%</td>\n",
       "      <td>-9.789936e+03</td>\n",
       "    </tr>\n",
       "    <tr>\n",
       "      <td>50%</td>\n",
       "      <td>0.000000e+00</td>\n",
       "    </tr>\n",
       "    <tr>\n",
       "      <td>75%</td>\n",
       "      <td>1.394093e+04</td>\n",
       "    </tr>\n",
       "    <tr>\n",
       "      <td>max</td>\n",
       "      <td>1.280797e+08</td>\n",
       "    </tr>\n",
       "  </tbody>\n",
       "</table>\n",
       "</div>"
      ],
      "text/plain": [
       "                  0\n",
       "count  4.993100e+04\n",
       "mean   7.834591e+04\n",
       "std    2.329386e+06\n",
       "min   -5.584893e+07\n",
       "25%   -9.789936e+03\n",
       "50%    0.000000e+00\n",
       "75%    1.394093e+04\n",
       "max    1.280797e+08"
      ]
     },
     "execution_count": 52,
     "metadata": {},
     "output_type": "execute_result"
    }
   ],
   "source": [
    "pd.DataFrame(predict_test).describe()"
   ]
  },
  {
   "cell_type": "code",
   "execution_count": 56,
   "metadata": {},
   "outputs": [
    {
     "data": {
      "image/png": "[encoded data removed]",
      "text/plain": [
       "<Figure size 576x396 with 1 Axes>"
      ]
     },
     "metadata": {},
     "output_type": "display_data"
    },
    {
     "data": {
      "text/plain": [
       "<Figure size 4320x216 with 0 Axes>"
      ]
     },
     "metadata": {},
     "output_type": "display_data"
    }
   ],
   "source": [
    "sns.distplot(pd.DataFrame(predict_test))\n",
    "plt.figure(figsize = (60,3))\n",
    "plt.savefig('fig')"
   ]
  },
  {
   "cell_type": "code",
   "execution_count": 54,
   "metadata": {},
   "outputs": [
    {
     "data": {
      "text/plain": [
       "<matplotlib.axes._subplots.AxesSubplot at 0x1c6804701c8>"
      ]
     },
     "execution_count": 54,
     "metadata": {},
     "output_type": "execute_result"
    },
    {
     "data": {
      "image/png": "[encoded data removed]",
      "text/plain": [
       "<Figure size 576x396 with 1 Axes>"
      ]
     },
     "metadata": {},
     "output_type": "display_data"
    }
   ],
   "source": [
    "sns.boxplot(pd.DataFrame(predict_test),color ='r')"
   ]
  }
 ],
 "metadata": {
  "kernelspec": {
   "display_name": "Python 3",
   "language": "python",
   "name": "python3"
  },
  "language_info": {
   "codemirror_mode": {
    "name": "ipython",
    "version": 3
   },
   "file_extension": ".py",
   "mimetype": "text/x-python",
   "name": "python",
   "nbconvert_exporter": "python",
   "pygments_lexer": "ipython3",
   "version": "3.7.4"
  }
 },
 "nbformat": 4,
 "nbformat_minor": 4
}
