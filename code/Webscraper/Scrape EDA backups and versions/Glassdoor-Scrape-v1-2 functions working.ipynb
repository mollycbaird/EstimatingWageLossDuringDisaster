{
 "cells": [
  {
   "cell_type": "markdown",
   "metadata": {},
   "source": [
    "- https://www.glassdoor.com/developer/index.htm\n",
    "- https://www.glassdoor.com/Job/jobs.htm?suggestCount=0&suggestChosen=false&clickSource=searchBtn&typedKeyword=data+scientes&sc.keyword=data+scientest&locT=&locId=&jobType=\n",
    "- https://github.com/arapfaik/scraping-glassdoor-selenium\n",
    "- https://medium.com/@jamievaron/to-anyone-who-has-lost-themselves-9c5e3049cb13\n",
    "- https://git.generalassemb.ly/charles-rice/SEA-Flex-11/tree/master/08_week/selenium-webscraping\n",
    "- https://devhints.io/xpath"
   ]
  },
  {
   "cell_type": "code",
   "execution_count": 1,
   "metadata": {},
   "outputs": [],
   "source": [
    "# load in dataset\n"
   ]
  },
  {
   "cell_type": "code",
   "execution_count": 82,
   "metadata": {},
   "outputs": [],
   "source": [
    "# imports\n",
    "from selenium import webdriver\n",
    "import pandas as pd\n",
    "import numpy as np\n",
    "import requests\n",
    "from bs4 import BeautifulSoup\n",
    "from time import sleep"
   ]
  },
  {
   "cell_type": "code",
   "execution_count": 83,
   "metadata": {},
   "outputs": [],
   "source": [
    "# load in dataset\n",
    "df = pd.read_csv('../data/main_df.csv')"
   ]
  },
  {
   "cell_type": "code",
   "execution_count": 84,
   "metadata": {},
   "outputs": [
    {
     "data": {
      "text/html": [
       "<div>\n",
       "<style scoped>\n",
       "    .dataframe tbody tr th:only-of-type {\n",
       "        vertical-align: middle;\n",
       "    }\n",
       "\n",
       "    .dataframe tbody tr th {\n",
       "        vertical-align: top;\n",
       "    }\n",
       "\n",
       "    .dataframe thead th {\n",
       "        text-align: right;\n",
       "    }\n",
       "</style>\n",
       "<table border=\"1\" class=\"dataframe\">\n",
       "  <thead>\n",
       "    <tr style=\"text-align: right;\">\n",
       "      <th></th>\n",
       "      <th>disasterNumber</th>\n",
       "      <th>state</th>\n",
       "      <th>incidentType</th>\n",
       "      <th>year</th>\n",
       "      <th>month</th>\n",
       "      <th>occ_code</th>\n",
       "      <th>occ_title</th>\n",
       "      <th>tot_emp</th>\n",
       "      <th>h_mean</th>\n",
       "      <th>a_mean</th>\n",
       "      <th>employment_rate_during</th>\n",
       "      <th>employment_rate_before</th>\n",
       "      <th>employment_rate_after</th>\n",
       "      <th>employment_rate_change</th>\n",
       "      <th>wage_change</th>\n",
       "    </tr>\n",
       "  </thead>\n",
       "  <tbody>\n",
       "    <tr>\n",
       "      <th>0</th>\n",
       "      <td>1190</td>\n",
       "      <td>NE</td>\n",
       "      <td>Severe Storm(s)</td>\n",
       "      <td>1997.0</td>\n",
       "      <td>11.0</td>\n",
       "      <td>13002</td>\n",
       "      <td>Financial Managers</td>\n",
       "      <td>3730.0</td>\n",
       "      <td>24.50</td>\n",
       "      <td>50960</td>\n",
       "      <td>71.5</td>\n",
       "      <td>71.5</td>\n",
       "      <td>71.6</td>\n",
       "      <td>-0.1</td>\n",
       "      <td>-43864.800</td>\n",
       "    </tr>\n",
       "    <tr>\n",
       "      <th>1</th>\n",
       "      <td>1190</td>\n",
       "      <td>NE</td>\n",
       "      <td>Severe Storm(s)</td>\n",
       "      <td>1997.0</td>\n",
       "      <td>11.0</td>\n",
       "      <td>13005</td>\n",
       "      <td>Personnel, Training, and Labor Relations Managers</td>\n",
       "      <td>1420.0</td>\n",
       "      <td>21.41</td>\n",
       "      <td>44540</td>\n",
       "      <td>71.5</td>\n",
       "      <td>71.5</td>\n",
       "      <td>71.6</td>\n",
       "      <td>-0.1</td>\n",
       "      <td>-14593.056</td>\n",
       "    </tr>\n",
       "  </tbody>\n",
       "</table>\n",
       "</div>"
      ],
      "text/plain": [
       "   disasterNumber state     incidentType    year  month occ_code  \\\n",
       "0            1190    NE  Severe Storm(s)  1997.0   11.0    13002   \n",
       "1            1190    NE  Severe Storm(s)  1997.0   11.0    13005   \n",
       "\n",
       "                                           occ_title  tot_emp  h_mean a_mean  \\\n",
       "0                                 Financial Managers   3730.0   24.50  50960   \n",
       "1  Personnel, Training, and Labor Relations Managers   1420.0   21.41  44540   \n",
       "\n",
       "   employment_rate_during  employment_rate_before  employment_rate_after  \\\n",
       "0                    71.5                    71.5                   71.6   \n",
       "1                    71.5                    71.5                   71.6   \n",
       "\n",
       "   employment_rate_change  wage_change  \n",
       "0                    -0.1   -43864.800  \n",
       "1                    -0.1   -14593.056  "
      ]
     },
     "execution_count": 84,
     "metadata": {},
     "output_type": "execute_result"
    }
   ],
   "source": [
    "df.head(2)"
   ]
  },
  {
   "cell_type": "code",
   "execution_count": 85,
   "metadata": {},
   "outputs": [
    {
     "data": {
      "text/plain": [
       "Index(['disasterNumber', 'state', 'incidentType', 'year', 'month', 'occ_code',\n",
       "       'occ_title', 'tot_emp', 'h_mean', 'a_mean', 'employment_rate_during',\n",
       "       'employment_rate_before', 'employment_rate_after',\n",
       "       'employment_rate_change', 'wage_change'],\n",
       "      dtype='object')"
      ]
     },
     "execution_count": 85,
     "metadata": {},
     "output_type": "execute_result"
    }
   ],
   "source": [
    "df.columns"
   ]
  },
  {
   "cell_type": "code",
   "execution_count": 86,
   "metadata": {},
   "outputs": [
    {
     "data": {
      "text/plain": [
       "disasterNumber              int64\n",
       "state                      object\n",
       "incidentType               object\n",
       "year                      float64\n",
       "month                     float64\n",
       "occ_code                   object\n",
       "occ_title                  object\n",
       "tot_emp                   float64\n",
       "h_mean                    float64\n",
       "a_mean                     object\n",
       "employment_rate_during    float64\n",
       "employment_rate_before    float64\n",
       "employment_rate_after     float64\n",
       "employment_rate_change    float64\n",
       "wage_change               float64\n",
       "dtype: object"
      ]
     },
     "execution_count": 86,
     "metadata": {},
     "output_type": "execute_result"
    }
   ],
   "source": [
    "df.dtypes"
   ]
  },
  {
   "cell_type": "code",
   "execution_count": 87,
   "metadata": {},
   "outputs": [],
   "source": [
    "# create industry code categories\n",
    "# Code from Patrick Kajibale \n",
    "df['Business_type']= df['occ_code'].apply(lambda x : x[:2])\n",
    "#pd.set_option('display.max_row()',None)\n",
    "industry = {\n",
    "        '13' :'Business and Financial Operations',\n",
    "        '15' :'Computer and Mathematical',\n",
    "        '17' :'Architecture and Engineering',\n",
    "        '19' :'Life, Physical, and Social Science',\n",
    "        '21' :'Community and Social Service',\n",
    "        '23' :'Legal',\n",
    "        '25' :'Educational Instruction and Library',\n",
    "        '27' :'Arts, Design, Entertainment, Sports, and Media',\n",
    "        '29' :'Healthcare Practitioners and Technical',\n",
    "        '31' :'Healthcare Support',\n",
    "        '33' :'Protective Service',\n",
    "        '35' :'Food Preparation and Serving Related',\n",
    "        '37' :'Building and Grounds Cleaning and Maintenance',\n",
    "        '39' :'Personal Care and Service',\n",
    "        '41' :'Sales and Related',\n",
    "        '43' :'Office and Administrative Support',\n",
    "        '45' :'Farming, Fishing, and Forestry',\n",
    "        '47' :'Construction and Extraction',\n",
    "        '49' :'Installation, Maintenance, and Repair',\n",
    "        '51' :'Production',\n",
    "        '53' :'Transportation and Material Moving'}\n",
    "df['Business_type'].replace(industry, inplace = True)"
   ]
  },
  {
   "cell_type": "code",
   "execution_count": 88,
   "metadata": {},
   "outputs": [
    {
     "data": {
      "text/html": [
       "<div>\n",
       "<style scoped>\n",
       "    .dataframe tbody tr th:only-of-type {\n",
       "        vertical-align: middle;\n",
       "    }\n",
       "\n",
       "    .dataframe tbody tr th {\n",
       "        vertical-align: top;\n",
       "    }\n",
       "\n",
       "    .dataframe thead th {\n",
       "        text-align: right;\n",
       "    }\n",
       "</style>\n",
       "<table border=\"1\" class=\"dataframe\">\n",
       "  <thead>\n",
       "    <tr style=\"text-align: right;\">\n",
       "      <th></th>\n",
       "      <th>disasterNumber</th>\n",
       "      <th>state</th>\n",
       "      <th>incidentType</th>\n",
       "      <th>year</th>\n",
       "      <th>month</th>\n",
       "      <th>occ_code</th>\n",
       "      <th>occ_title</th>\n",
       "      <th>tot_emp</th>\n",
       "      <th>h_mean</th>\n",
       "      <th>a_mean</th>\n",
       "      <th>employment_rate_during</th>\n",
       "      <th>employment_rate_before</th>\n",
       "      <th>employment_rate_after</th>\n",
       "      <th>employment_rate_change</th>\n",
       "      <th>wage_change</th>\n",
       "      <th>Business_type</th>\n",
       "    </tr>\n",
       "  </thead>\n",
       "  <tbody>\n",
       "    <tr>\n",
       "      <th>0</th>\n",
       "      <td>1190</td>\n",
       "      <td>NE</td>\n",
       "      <td>Severe Storm(s)</td>\n",
       "      <td>1997.0</td>\n",
       "      <td>11.0</td>\n",
       "      <td>13002</td>\n",
       "      <td>Financial Managers</td>\n",
       "      <td>3730.0</td>\n",
       "      <td>24.50</td>\n",
       "      <td>50960</td>\n",
       "      <td>71.5</td>\n",
       "      <td>71.5</td>\n",
       "      <td>71.6</td>\n",
       "      <td>-0.1</td>\n",
       "      <td>-43864.800</td>\n",
       "      <td>Business and Financial Operations</td>\n",
       "    </tr>\n",
       "    <tr>\n",
       "      <th>1</th>\n",
       "      <td>1190</td>\n",
       "      <td>NE</td>\n",
       "      <td>Severe Storm(s)</td>\n",
       "      <td>1997.0</td>\n",
       "      <td>11.0</td>\n",
       "      <td>13005</td>\n",
       "      <td>Personnel, Training, and Labor Relations Managers</td>\n",
       "      <td>1420.0</td>\n",
       "      <td>21.41</td>\n",
       "      <td>44540</td>\n",
       "      <td>71.5</td>\n",
       "      <td>71.5</td>\n",
       "      <td>71.6</td>\n",
       "      <td>-0.1</td>\n",
       "      <td>-14593.056</td>\n",
       "      <td>Business and Financial Operations</td>\n",
       "    </tr>\n",
       "  </tbody>\n",
       "</table>\n",
       "</div>"
      ],
      "text/plain": [
       "   disasterNumber state     incidentType    year  month occ_code  \\\n",
       "0            1190    NE  Severe Storm(s)  1997.0   11.0    13002   \n",
       "1            1190    NE  Severe Storm(s)  1997.0   11.0    13005   \n",
       "\n",
       "                                           occ_title  tot_emp  h_mean a_mean  \\\n",
       "0                                 Financial Managers   3730.0   24.50  50960   \n",
       "1  Personnel, Training, and Labor Relations Managers   1420.0   21.41  44540   \n",
       "\n",
       "   employment_rate_during  employment_rate_before  employment_rate_after  \\\n",
       "0                    71.5                    71.5                   71.6   \n",
       "1                    71.5                    71.5                   71.6   \n",
       "\n",
       "   employment_rate_change  wage_change                      Business_type  \n",
       "0                    -0.1   -43864.800  Business and Financial Operations  \n",
       "1                    -0.1   -14593.056  Business and Financial Operations  "
      ]
     },
     "execution_count": 88,
     "metadata": {},
     "output_type": "execute_result"
    }
   ],
   "source": [
    "df.head(2)\n",
    "## we'll keep business_type categorization in case we need it for scrape"
   ]
  },
  {
   "cell_type": "code",
   "execution_count": null,
   "metadata": {},
   "outputs": [],
   "source": []
  },
  {
   "cell_type": "markdown",
   "metadata": {},
   "source": [
    "### Data Scrape - Selenium"
   ]
  },
  {
   "cell_type": "code",
   "execution_count": null,
   "metadata": {},
   "outputs": [],
   "source": [
    "# first step \n",
    "## scrape one full page, see what our results are"
   ]
  },
  {
   "cell_type": "markdown",
   "metadata": {},
   "source": [
    "Notes:\n",
    "- I am not experiencing a log-in prompt every time I click, I will include this code as a net in case this is dependent on mine own machine\n",
    "- `options.add_argument(‘headless’)` to bypass Chrome window opening\n",
    "- full search url example:\n",
    " - `https://www.glassdoor.com/Job/jobs.htm?suggestCount=0&suggestChosen=false&clickSource=searchBtn&typedKeyword=data+scientist&sc.keyword=data+scientist&locT=&locId=&jobType=`\n",
    " <br><br> What we need is: \n",
    " - `https://www.glassdoor.com/Job/jobs.htm?suggestCount=0&suggestChosen=false&clickSource=searchBtn&typedKeyword=` + *JOBNAME* + `'&locT=&locId=&jobType=\"`\n",
    " \n",
    " #### Blank search form:\n",
    "- https://www.glassdoor.com/Job/jobs.htm?suggestCount=0&suggestChosen=false&clickSource=searchBtn&typedKeyword=&locT=&locId=&jobType=&context=Jobs&sc.keyword=&dropdown=0"
   ]
  },
  {
   "cell_type": "markdown",
   "metadata": {},
   "source": [
    "Search Dictionary:\n",
    "- `typedKeyword=&` >> captures job search input in search bar\n",
    "- `sc.keyword=&` >> mimics above\n",
    "- `locT=&`\n",
    "- `locId=&`\n",
    "- `jobType=`"
   ]
  },
  {
   "cell_type": "code",
   "execution_count": 89,
   "metadata": {},
   "outputs": [],
   "source": [
    "# set url for test\n",
    "# this url will take us to a blank search page with 'Jobs' and 'Location' \n",
    "url = 'https://www.glassdoor.com/Job/index.htm'"
   ]
  },
  {
   "cell_type": "code",
   "execution_count": 16,
   "metadata": {},
   "outputs": [
    {
     "data": {
      "text/plain": [
       "<Response [403]>"
      ]
     },
     "execution_count": 16,
     "metadata": {},
     "output_type": "execute_result"
    }
   ],
   "source": [
    "requests.get(url)"
   ]
  },
  {
   "cell_type": "markdown",
   "metadata": {},
   "source": [
    "https://www.glassdoor.com/Job/jobs.htm?sc.keyword=\n",
    "data+scientist&\n",
    "locT=C\n"
   ]
  },
  {
   "cell_type": "code",
   "execution_count": 38,
   "metadata": {},
   "outputs": [],
   "source": [
    "driver = webdriver.Chrome(executable_path=\"./chromedriver/macos/chromedriver\")\n",
    "driver.get(url)"
   ]
  },
  {
   "cell_type": "code",
   "execution_count": 33,
   "metadata": {},
   "outputs": [],
   "source": [
    "# this opens upa. page with two search criteria, Job Title, and Area. \n",
    "# we will have to mimic clicking and entering our inputs for each category"
   ]
  },
  {
   "cell_type": "markdown",
   "metadata": {},
   "source": [
    "### Inspect Elements:\n",
    "\n",
    "#### Job Search Bar\n",
    "**Xpath**<br>`//*[@id=\"LocationSearch\"]//div[1]` <br>\n",
    "**HTML** <br> `<input id=\"LocationSearch\" class=\"loc\" type=\"text\" tabindex=\"0\" value=\"Bellevue, WA\" data-srch-type=\"popular\" data-test=\"search-bar-location-input\" placeholder=\"Location\" aria-label=\"Location\">`\n",
    "\n",
    "#### Location Search Bar\n",
    "**Xpath** <br> `//*[@id=\"LocationSearch\"]`\n",
    "**HTML** <br> `<input id=\"LocationSearch\" class=\"loc\" type=\"text\" tabindex=\"0\" value=\"Bellevue, WA\" data-srch-type=\"popular\" data-test=\"search-bar-location-input\" placeholder=\"Location\" aria-label=\"Location\">`\n",
    "\n",
    "\n",
    "## 2nd attempt, via new hyperlink\n",
    "#### Job Search Bar\n",
    "**Xpath**<br>`//*[@id=\"sc.keyword\"]` <br>\n",
    "**HTML** <br> `<input name=\"sc.keyword\" id=\"sc.keyword\" class=\"keyword\" type=\"text\" tabindex=\"0\" value=\"\" placeholder=\"Job Title, Keywords, or Company\" data-auto-complete=\"true\" data-ac-version=\"New\" data-test=\"search-bar-keyword-input\" aria-label=\"Keyword\" autocomplete=\"off\">`\n",
    "\n",
    "#### Location Search Bar\n",
    "**Xpath** <br> `//*[@id=\"sc.location\"]`\n",
    "**HTML** <br> `<input id=\"sc.location\" class=\"loc\" type=\"text\" tabindex=\"0\" value=\"Bellevue, WA\" data-srch-type=\"popular\" data-test=\"search-bar-location-input\" placeholder=\"Location\" aria-label=\"Location\" autocomplete=\"off\">`"
   ]
  },
  {
   "cell_type": "code",
   "execution_count": null,
   "metadata": {},
   "outputs": [],
   "source": [
    "## THis run is a fail "
   ]
  },
  {
   "cell_type": "code",
   "execution_count": null,
   "metadata": {},
   "outputs": [],
   "source": [
    "soup = BeautifulSoup(driver.page_source, 'lxml')\n",
    "# this is only needed if page waits too long\n",
    "# driver.find_element_by_class_name(\"qual_x_svg_X\").click()\n",
    "kw = driver.find_element_by_xpath('//*[@id=\"KeywordSearch\"]')\n",
    "loc = driver.find_element_by_xpath('//*[@id=\"LocationSearch\"]')"
   ]
  },
  {
   "cell_type": "code",
   "execution_count": 79,
   "metadata": {},
   "outputs": [],
   "source": [
    "\n",
    "def job_track(keyword, location = None):\n",
    "    # query chrome driver for selenium\n",
    "    driver = webdriver.Chrome(\n",
    "        executable_path=\"./chromedriver/macos/chromedriver\")\n",
    "    \n",
    "    # execute driver on url\n",
    "    driver.get(url)\n",
    "    \n",
    "    \n",
    "    #locates the search field specifying 'Job Title, Keyewards, or Company'\n",
    "    kw = driver.find_element_by_xpath('//*[@id=\"KeywordSearch\"]')\n",
    "    kw.clear()\n",
    "    kw.send_keys(keyword)\n",
    "    sleep(2)\n",
    "    #locates the search field specifying 'Location'\n",
    "    ## current issue is html/glassdoor default your location by mac/ip\n",
    "    ## so we are manually entering our location search as a possible field\n",
    "    loc = driver.find_element_by_xpath('//*[@id=\"LocationSearch\"]')\n",
    "    loc.clear()\n",
    "    loc.send_keys(location)\n",
    "    sleep(2)\n",
    "    loc.send_keys(Keys.RETURN)\n",
    "    \n",
    "    # and we xpath the search button to click search\n",
    "#     click = driver.find_element_by_xpath('//*[@id=\"HeroSearchButton\"]')\n",
    "#     click.click()\n",
    "#     sleep(10)\n",
    "#     driver.close()\n"
   ]
  },
  {
   "cell_type": "code",
   "execution_count": 80,
   "metadata": {
    "scrolled": true
   },
   "outputs": [
    {
     "ename": "NoSuchElementException",
     "evalue": "Message: no such element: Unable to locate element: {\"method\":\"xpath\",\"selector\":\"//*[@id=\"KeywordSearch\"]\"}\n  (Session info: chrome=81.0.4044.138)\n  (Driver info: chromedriver=2.35.528157 (4429ca2590d6988c0745c24c8858745aaaec01ef),platform=Mac OS X 10.14.6 x86_64)\n",
     "output_type": "error",
     "traceback": [
      "\u001b[0;31m---------------------------------------------------------------------------\u001b[0m",
      "\u001b[0;31mNoSuchElementException\u001b[0m                    Traceback (most recent call last)",
      "\u001b[0;32m<ipython-input-80-8b09cf765434>\u001b[0m in \u001b[0;36m<module>\u001b[0;34m\u001b[0m\n\u001b[0;32m----> 1\u001b[0;31m \u001b[0mjob_track\u001b[0m\u001b[0;34m(\u001b[0m\u001b[0;34m'data scientist'\u001b[0m\u001b[0;34m,\u001b[0m \u001b[0mlocation\u001b[0m \u001b[0;34m=\u001b[0m \u001b[0;34m'Virginia'\u001b[0m\u001b[0;34m)\u001b[0m\u001b[0;34m\u001b[0m\u001b[0;34m\u001b[0m\u001b[0m\n\u001b[0m",
      "\u001b[0;32m<ipython-input-79-acd10849d20b>\u001b[0m in \u001b[0;36mjob_track\u001b[0;34m(keyword, location)\u001b[0m\n\u001b[1;32m      9\u001b[0m \u001b[0;34m\u001b[0m\u001b[0m\n\u001b[1;32m     10\u001b[0m     \u001b[0;31m#locates the search field specifying 'Job Title, Keyewards, or Company'\u001b[0m\u001b[0;34m\u001b[0m\u001b[0;34m\u001b[0m\u001b[0;34m\u001b[0m\u001b[0m\n\u001b[0;32m---> 11\u001b[0;31m     \u001b[0mkw\u001b[0m \u001b[0;34m=\u001b[0m \u001b[0mdriver\u001b[0m\u001b[0;34m.\u001b[0m\u001b[0mfind_element_by_xpath\u001b[0m\u001b[0;34m(\u001b[0m\u001b[0;34m'//*[@id=\"KeywordSearch\"]'\u001b[0m\u001b[0;34m)\u001b[0m\u001b[0;34m\u001b[0m\u001b[0;34m\u001b[0m\u001b[0m\n\u001b[0m\u001b[1;32m     12\u001b[0m     \u001b[0mkw\u001b[0m\u001b[0;34m.\u001b[0m\u001b[0mclear\u001b[0m\u001b[0;34m(\u001b[0m\u001b[0;34m)\u001b[0m\u001b[0;34m\u001b[0m\u001b[0;34m\u001b[0m\u001b[0m\n\u001b[1;32m     13\u001b[0m     \u001b[0mkw\u001b[0m\u001b[0;34m.\u001b[0m\u001b[0msend_keys\u001b[0m\u001b[0;34m(\u001b[0m\u001b[0mkeyword\u001b[0m\u001b[0;34m)\u001b[0m\u001b[0;34m\u001b[0m\u001b[0;34m\u001b[0m\u001b[0m\n",
      "\u001b[0;32m/opt/anaconda3/lib/python3.7/site-packages/selenium/webdriver/remote/webdriver.py\u001b[0m in \u001b[0;36mfind_element_by_xpath\u001b[0;34m(self, xpath)\u001b[0m\n\u001b[1;32m    392\u001b[0m             \u001b[0melement\u001b[0m \u001b[0;34m=\u001b[0m \u001b[0mdriver\u001b[0m\u001b[0;34m.\u001b[0m\u001b[0mfind_element_by_xpath\u001b[0m\u001b[0;34m(\u001b[0m\u001b[0;34m'//div/td[1]'\u001b[0m\u001b[0;34m)\u001b[0m\u001b[0;34m\u001b[0m\u001b[0;34m\u001b[0m\u001b[0m\n\u001b[1;32m    393\u001b[0m         \"\"\"\n\u001b[0;32m--> 394\u001b[0;31m         \u001b[0;32mreturn\u001b[0m \u001b[0mself\u001b[0m\u001b[0;34m.\u001b[0m\u001b[0mfind_element\u001b[0m\u001b[0;34m(\u001b[0m\u001b[0mby\u001b[0m\u001b[0;34m=\u001b[0m\u001b[0mBy\u001b[0m\u001b[0;34m.\u001b[0m\u001b[0mXPATH\u001b[0m\u001b[0;34m,\u001b[0m \u001b[0mvalue\u001b[0m\u001b[0;34m=\u001b[0m\u001b[0mxpath\u001b[0m\u001b[0;34m)\u001b[0m\u001b[0;34m\u001b[0m\u001b[0;34m\u001b[0m\u001b[0m\n\u001b[0m\u001b[1;32m    395\u001b[0m \u001b[0;34m\u001b[0m\u001b[0m\n\u001b[1;32m    396\u001b[0m     \u001b[0;32mdef\u001b[0m \u001b[0mfind_elements_by_xpath\u001b[0m\u001b[0;34m(\u001b[0m\u001b[0mself\u001b[0m\u001b[0;34m,\u001b[0m \u001b[0mxpath\u001b[0m\u001b[0;34m)\u001b[0m\u001b[0;34m:\u001b[0m\u001b[0;34m\u001b[0m\u001b[0;34m\u001b[0m\u001b[0m\n",
      "\u001b[0;32m/opt/anaconda3/lib/python3.7/site-packages/selenium/webdriver/remote/webdriver.py\u001b[0m in \u001b[0;36mfind_element\u001b[0;34m(self, by, value)\u001b[0m\n\u001b[1;32m    976\u001b[0m         return self.execute(Command.FIND_ELEMENT, {\n\u001b[1;32m    977\u001b[0m             \u001b[0;34m'using'\u001b[0m\u001b[0;34m:\u001b[0m \u001b[0mby\u001b[0m\u001b[0;34m,\u001b[0m\u001b[0;34m\u001b[0m\u001b[0;34m\u001b[0m\u001b[0m\n\u001b[0;32m--> 978\u001b[0;31m             'value': value})['value']\n\u001b[0m\u001b[1;32m    979\u001b[0m \u001b[0;34m\u001b[0m\u001b[0m\n\u001b[1;32m    980\u001b[0m     \u001b[0;32mdef\u001b[0m \u001b[0mfind_elements\u001b[0m\u001b[0;34m(\u001b[0m\u001b[0mself\u001b[0m\u001b[0;34m,\u001b[0m \u001b[0mby\u001b[0m\u001b[0;34m=\u001b[0m\u001b[0mBy\u001b[0m\u001b[0;34m.\u001b[0m\u001b[0mID\u001b[0m\u001b[0;34m,\u001b[0m \u001b[0mvalue\u001b[0m\u001b[0;34m=\u001b[0m\u001b[0;32mNone\u001b[0m\u001b[0;34m)\u001b[0m\u001b[0;34m:\u001b[0m\u001b[0;34m\u001b[0m\u001b[0;34m\u001b[0m\u001b[0m\n",
      "\u001b[0;32m/opt/anaconda3/lib/python3.7/site-packages/selenium/webdriver/remote/webdriver.py\u001b[0m in \u001b[0;36mexecute\u001b[0;34m(self, driver_command, params)\u001b[0m\n\u001b[1;32m    319\u001b[0m         \u001b[0mresponse\u001b[0m \u001b[0;34m=\u001b[0m \u001b[0mself\u001b[0m\u001b[0;34m.\u001b[0m\u001b[0mcommand_executor\u001b[0m\u001b[0;34m.\u001b[0m\u001b[0mexecute\u001b[0m\u001b[0;34m(\u001b[0m\u001b[0mdriver_command\u001b[0m\u001b[0;34m,\u001b[0m \u001b[0mparams\u001b[0m\u001b[0;34m)\u001b[0m\u001b[0;34m\u001b[0m\u001b[0;34m\u001b[0m\u001b[0m\n\u001b[1;32m    320\u001b[0m         \u001b[0;32mif\u001b[0m \u001b[0mresponse\u001b[0m\u001b[0;34m:\u001b[0m\u001b[0;34m\u001b[0m\u001b[0;34m\u001b[0m\u001b[0m\n\u001b[0;32m--> 321\u001b[0;31m             \u001b[0mself\u001b[0m\u001b[0;34m.\u001b[0m\u001b[0merror_handler\u001b[0m\u001b[0;34m.\u001b[0m\u001b[0mcheck_response\u001b[0m\u001b[0;34m(\u001b[0m\u001b[0mresponse\u001b[0m\u001b[0;34m)\u001b[0m\u001b[0;34m\u001b[0m\u001b[0;34m\u001b[0m\u001b[0m\n\u001b[0m\u001b[1;32m    322\u001b[0m             response['value'] = self._unwrap_value(\n\u001b[1;32m    323\u001b[0m                 response.get('value', None))\n",
      "\u001b[0;32m/opt/anaconda3/lib/python3.7/site-packages/selenium/webdriver/remote/errorhandler.py\u001b[0m in \u001b[0;36mcheck_response\u001b[0;34m(self, response)\u001b[0m\n\u001b[1;32m    240\u001b[0m                 \u001b[0malert_text\u001b[0m \u001b[0;34m=\u001b[0m \u001b[0mvalue\u001b[0m\u001b[0;34m[\u001b[0m\u001b[0;34m'alert'\u001b[0m\u001b[0;34m]\u001b[0m\u001b[0;34m.\u001b[0m\u001b[0mget\u001b[0m\u001b[0;34m(\u001b[0m\u001b[0;34m'text'\u001b[0m\u001b[0;34m)\u001b[0m\u001b[0;34m\u001b[0m\u001b[0;34m\u001b[0m\u001b[0m\n\u001b[1;32m    241\u001b[0m             \u001b[0;32mraise\u001b[0m \u001b[0mexception_class\u001b[0m\u001b[0;34m(\u001b[0m\u001b[0mmessage\u001b[0m\u001b[0;34m,\u001b[0m \u001b[0mscreen\u001b[0m\u001b[0;34m,\u001b[0m \u001b[0mstacktrace\u001b[0m\u001b[0;34m,\u001b[0m \u001b[0malert_text\u001b[0m\u001b[0;34m)\u001b[0m\u001b[0;34m\u001b[0m\u001b[0;34m\u001b[0m\u001b[0m\n\u001b[0;32m--> 242\u001b[0;31m         \u001b[0;32mraise\u001b[0m \u001b[0mexception_class\u001b[0m\u001b[0;34m(\u001b[0m\u001b[0mmessage\u001b[0m\u001b[0;34m,\u001b[0m \u001b[0mscreen\u001b[0m\u001b[0;34m,\u001b[0m \u001b[0mstacktrace\u001b[0m\u001b[0;34m)\u001b[0m\u001b[0;34m\u001b[0m\u001b[0;34m\u001b[0m\u001b[0m\n\u001b[0m\u001b[1;32m    243\u001b[0m \u001b[0;34m\u001b[0m\u001b[0m\n\u001b[1;32m    244\u001b[0m     \u001b[0;32mdef\u001b[0m \u001b[0m_value_or_default\u001b[0m\u001b[0;34m(\u001b[0m\u001b[0mself\u001b[0m\u001b[0;34m,\u001b[0m \u001b[0mobj\u001b[0m\u001b[0;34m,\u001b[0m \u001b[0mkey\u001b[0m\u001b[0;34m,\u001b[0m \u001b[0mdefault\u001b[0m\u001b[0;34m)\u001b[0m\u001b[0;34m:\u001b[0m\u001b[0;34m\u001b[0m\u001b[0;34m\u001b[0m\u001b[0m\n",
      "\u001b[0;31mNoSuchElementException\u001b[0m: Message: no such element: Unable to locate element: {\"method\":\"xpath\",\"selector\":\"//*[@id=\"KeywordSearch\"]\"}\n  (Session info: chrome=81.0.4044.138)\n  (Driver info: chromedriver=2.35.528157 (4429ca2590d6988c0745c24c8858745aaaec01ef),platform=Mac OS X 10.14.6 x86_64)\n"
     ]
    }
   ],
   "source": [
    "job_track('data scientist', location = 'Virginia')"
   ]
  },
  {
   "cell_type": "markdown",
   "metadata": {},
   "source": [
    "Findings: So, this works, but regardless of location input glassdoor overwrites your location with their handling."
   ]
  },
  {
   "cell_type": "markdown",
   "metadata": {},
   "source": [
    "## changing url to that of returned results (still has access to search bars)\n",
    "Our idea is to test the autocompletion and bypass it by being able to locate and input our location query, adding lag delay and clicking first option from the search menu."
   ]
  },
  {
   "cell_type": "code",
   "execution_count": 92,
   "metadata": {},
   "outputs": [],
   "source": [
    "# changing url - this one works\n",
    "url = \"https://www.glassdoor.com/Job/jobs.htm?suggestCount=0&suggestChosen=false&clickSource=searchBtn&typedKeyword=data+scientist&sc.keyword=data+scientist&locT=C&locId=1138213&jobType=\"\n",
    "driver = webdriver.Chrome(executable_path=\"./chromedriver/macos/chromedriver\")\n",
    "driver.get(url)\n",
    "soup = BeautifulSoup(driver.page_source, 'lxml')\n",
    "sleep(2)\n",
    "driver.close()\n",
    "# this is only needed if page waits too long\n",
    "# driver.find_element_by_class_name(\"qual_x_svg_X\").click()\n",
    "# kw = driver.find_element_by_xpath('//*[@id=\"KeywordSearch\"]')\n",
    "# loc = driver.find_element_by_xpath('//*[@id=\"LocationSearch\"]')"
   ]
  },
  {
   "cell_type": "code",
   "execution_count": null,
   "metadata": {},
   "outputs": [],
   "source": [
    "# test copy/paste for testing \n",
    "driver = webdriver.Chrome(executable_path=\"./chromedriver/macos/chromedriver\")\n",
    "driver.get(url)\n",
    "soup = BeautifulSoup(driver.page_source, 'lxml')\n",
    "# this is only needed if page waits too long\n",
    "# driver.find_element_by_class_name(\"qual_x_svg_X\").click()\n",
    "# kw = driver.find_element_by_xpath('//*[@id=\"KeywordSearch\"]')\n",
    "# loc = driver.find_element_by_xpath('//*[@id=\"LocationSearch\"]')"
   ]
  },
  {
   "cell_type": "code",
   "execution_count": 95,
   "metadata": {},
   "outputs": [],
   "source": [
    "## working function!!!!\n",
    "\n",
    "def job_track(keyword, location = None):\n",
    "    ''' This function simply takes a job name and location, opens up glassdoor\n",
    "    and searches your criteria\n",
    "    \n",
    "    ensure'''\n",
    "    # query chrome driver for selenium\n",
    "    driver = webdriver.Chrome(\n",
    "        executable_path=\"./chromedriver/macos/chromedriver\")\n",
    "    \n",
    "    # execute driver on url\n",
    "    driver.get(url)\n",
    "    \n",
    "    \n",
    "    #locates the search field specifying 'Job Title, Keyewards, or Company'\n",
    "    kw = driver.find_element_by_xpath('/html/body/header/div[3]/div[2]/form/input[5]')\n",
    "    kw.clear()\n",
    "    kw.send_keys(keyword)\n",
    "    sleep(1)\n",
    "    kw.send_keys(u'\\ue015') # down arrow\n",
    "    sleep(1)\n",
    "    kw.send_keys(u'\\ue004') # tab to select closest match\n",
    "    sleep(1)\n",
    "    #locates the search field specifying 'Location'\n",
    "    ## current issue is html/glassdoor default your location by mac/ip\n",
    "    ## so we are manually entering our location search as a possible field\n",
    "    loc = driver.find_element_by_xpath('/html/body/header/div[3]/div[2]/form/input[6]')\n",
    "    loc.clear()\n",
    "    loc.send_keys(location)\n",
    "    sleep(1)\n",
    "    loc.send_keys(u'\\ue015') # down arrow\n",
    "    sleep(1)\n",
    "    loc.send_keys(u'\\ue004') # tab to select closest match\n",
    "    sleep(1)\n",
    "    \n",
    "    # and we xpath the search button to click search\n",
    "    click = driver.find_element_by_xpath('//*[@id=\"HeroSearchButton\"]/span')\n",
    "    click.click()\n",
    "#     sleep(20)\n",
    "#     driver.close()\n",
    "\n"
   ]
  },
  {
   "cell_type": "code",
   "execution_count": 98,
   "metadata": {},
   "outputs": [],
   "source": [
    "job_track(\"data scientist\", 'bellevue')"
   ]
  },
  {
   "cell_type": "code",
   "execution_count": 109,
   "metadata": {},
   "outputs": [],
   "source": [
    "# let's pull a job's total listings in a city\n",
    "def total_listings(job, location= None):\n",
    "    job_track(job, location)\n",
    "    try:\n",
    "        return driver.find_element_by_xpath('//*[@id=\"MainColSummary\"]/div/div/div[2]').text\n",
    "    except:\n",
    "        return print(\"Please check your search criteria\")"
   ]
  },
  {
   "cell_type": "code",
   "execution_count": 110,
   "metadata": {},
   "outputs": [
    {
     "name": "stdout",
     "output_type": "stream",
     "text": [
      "Please check your search criteria\n"
     ]
    }
   ],
   "source": [
    "total_listings('data scientest', 'Bellevue WA')"
   ]
  },
  {
   "cell_type": "markdown",
   "metadata": {},
   "source": [
    "#### Job Search Bar\n",
    "**Xpath**<br>`//*[@id=\"sc.keyword\"]` <br>\n",
    "**HTML** <br> `<input name=\"sc.keyword\" id=\"sc.keyword\" class=\"keyword\" type=\"text\" tabindex=\"0\" value=\"\" placeholder=\"Job Title, Keywords, or Company\" data-auto-complete=\"true\" data-ac-version=\"New\" data-test=\"search-bar-keyword-input\" aria-label=\"Keyword\" autocomplete=\"off\">`\n",
    "\n",
    "#### Location Search Bar\n",
    "**Xpath** <br> `//*[@id=\"sc.location\"]`\n",
    "**HTML** <br> `<input id=\"sc.location\" class=\"loc\" type=\"text\" tabindex=\"0\" value=\"Bellevue, WA\" data-srch-type=\"popular\" data-test=\"search-bar-location-input\" placeholder=\"Location\" aria-label=\"Location\" autocomplete=\"off\">`"
   ]
  },
  {
   "cell_type": "code",
   "execution_count": 49,
   "metadata": {},
   "outputs": [],
   "source": [
    "# second step\n",
    "## assess what information we can pull from a single page\n",
    "## guage time frames timelines - looks like one month tops for glass door selenium\n",
    "\n"
   ]
  },
  {
   "cell_type": "code",
   "execution_count": null,
   "metadata": {},
   "outputs": [],
   "source": [
    "# third step\n",
    "## build function to scrape multiple pages"
   ]
  },
  {
   "cell_type": "code",
   "execution_count": null,
   "metadata": {},
   "outputs": [],
   "source": [
    "# key points\n",
    "\n",
    "## categorize jobs\n",
    "\n",
    "## find stats on openings/hirings\n",
    "\n",
    "## count of listings\n",
    "\n",
    "\n"
   ]
  },
  {
   "cell_type": "code",
   "execution_count": null,
   "metadata": {},
   "outputs": [],
   "source": [
    "# What are we doing?\n",
    "\n",
    "# Build a scraper/tool that compiles job listings and builds a dataframe.\n",
    "\n",
    "## inputs: category, state, job name\n",
    "\n",
    "## outputs: data frame\n",
    "### columns: "
   ]
  },
  {
   "cell_type": "markdown",
   "metadata": {},
   "source": [
    "### Example Codes"
   ]
  },
  {
   "cell_type": "markdown",
   "metadata": {},
   "source": [
    "- https://github.com/arapfaik/scraping-glassdoor-selenium\n",
    "- I don't like this because it specifies location in driver. I need to fix that"
   ]
  },
  {
   "cell_type": "code",
   "execution_count": null,
   "metadata": {},
   "outputs": [],
   "source": [
    "def get_jobs(keyword, num_jobs, verbose):\n",
    "    \n",
    "    '''Gathers jobs as a dataframe, scraped from Glassdoor'''\n",
    "    \n",
    "    #Initializing the webdriver\n",
    "    options = webdriver.ChromeOptions()\n",
    "    \n",
    "    #Uncomment the line below if you'd like to scrape without a new Chrome window every time.\n",
    "    #options.add_argument('headless')\n",
    "    \n",
    "    #Change the path to where chromedriver is in your home folder.\n",
    "    driver = webdriver.Chrome(executable_path=\"./chromedriver/macos/chromedriver\", options=options)\n",
    "    driver.set_window_size(1120, 1000)\n",
    "\n",
    "    url = 'https://www.glassdoor.com/Job/jobs.htm?sc.keyword=\"' + keyword + '\"&locT=C&locId=1147401&locKeyword=San%20Francisco,%20CA&jobType=all&fromAge=-1&minSalary=0&includeNoSalaryJobs=true&radius=100&cityId=-1&minRating=0.0&industryId=-1&sgocId=-1&seniorityType=all&companyId=-1&employerSizes=0&applicationType=0&remoteWorkType=0'\n",
    "    driver.get(url)\n",
    "    jobs = []\n",
    "\n",
    "    while len(jobs) < num_jobs:  #If true, should be still looking for new jobs.\n",
    "\n",
    "        #Let the page load. Change this number based on your internet speed.\n",
    "        #Or, wait until the webpage is loaded, instead of hardcoding it.\n",
    "        time.sleep(4)\n",
    "\n",
    "        #Test for the \"Sign Up\" prompt and get rid of it.\n",
    "        try:\n",
    "            driver.find_element_by_class_name(\"selected\").click()\n",
    "        except ElementClickInterceptedException:\n",
    "            pass\n",
    "\n",
    "        time.sleep(.1)\n",
    "\n",
    "        try:\n",
    "            driver.find_element_by_class_name(\"ModalStyle__xBtn___29PT9\").click()  #clicking to the X.\n",
    "        except NoSuchElementException:\n",
    "            pass\n",
    "\n",
    "        \n",
    "        #Going through each job in this page\n",
    "        job_buttons = driver.find_elements_by_class_name(\"jl\")  #jl for Job Listing. These are the buttons we're going to click.\n",
    "        for job_button in job_buttons:  \n",
    "\n",
    "            print(\"Progress: {}\".format(\"\" + str(len(jobs)) + \"/\" + str(num_jobs)))\n",
    "            if len(jobs) >= num_jobs:\n",
    "                break\n",
    "\n",
    "            job_button.click()  #You might \n",
    "            time.sleep(1)\n",
    "            collected_successfully = False\n",
    "            \n",
    "            while not collected_successfully:\n",
    "                try:\n",
    "                    company_name = driver.find_element_by_xpath('.//div[@class=\"employerName\"]').text\n",
    "                    location = driver.find_element_by_xpath('.//div[@class=\"location\"]').text\n",
    "                    job_title = driver.find_element_by_xpath('.//div[contains(@class, \"title\")]').text\n",
    "                    job_description = driver.find_element_by_xpath('.//div[@class=\"jobDescriptionContent desc\"]').text\n",
    "                    collected_successfully = True\n",
    "                except:\n",
    "                    time.sleep(5)\n",
    "\n",
    "            try:\n",
    "                salary_estimate = driver.find_element_by_xpath('.//span[@class=\"gray small salary\"]').text\n",
    "            except NoSuchElementException:\n",
    "                salary_estimate = -1 #You need to set a \"not found value. It's important.\"\n",
    "            \n",
    "            try:\n",
    "                rating = driver.find_element_by_xpath('.//span[@class=\"rating\"]').text\n",
    "            except NoSuchElementException:\n",
    "                rating = -1 #You need to set a \"not found value. It's important.\"\n",
    "\n",
    "            #Printing for debugging\n",
    "            if verbose:\n",
    "                print(\"Job Title: {}\".format(job_title))\n",
    "                print(\"Salary Estimate: {}\".format(salary_estimate))\n",
    "                print(\"Job Description: {}\".format(job_description[:500]))\n",
    "                print(\"Rating: {}\".format(rating))\n",
    "                print(\"Company Name: {}\".format(company_name))\n",
    "                print(\"Location: {}\".format(location))\n",
    "\n",
    "            #Going to the Company tab...\n",
    "            #clicking on this:\n",
    "            #<div class=\"tab\" data-tab-type=\"overview\"><span>Company</span></div>\n",
    "            try:\n",
    "                driver.find_element_by_xpath('.//div[@class=\"tab\" and @data-tab-type=\"overview\"]').click()\n",
    "\n",
    "                try:\n",
    "                    #<div class=\"infoEntity\">\n",
    "                    #    <label>Headquarters</label>\n",
    "                    #    <span class=\"value\">San Francisco, CA</span>\n",
    "                    #</div>\n",
    "                    headquarters = driver.find_element_by_xpath('.//div[@class=\"infoEntity\"]//label[text()=\"Headquarters\"]//following-sibling::*').text\n",
    "                except NoSuchElementException:\n",
    "                    headquarters = -1\n",
    "\n",
    "                try:\n",
    "                    size = driver.find_element_by_xpath('.//div[@class=\"infoEntity\"]//label[text()=\"Size\"]//following-sibling::*').text\n",
    "                except NoSuchElementException:\n",
    "                    size = -1\n",
    "\n",
    "                try:\n",
    "                    founded = driver.find_element_by_xpath('.//div[@class=\"infoEntity\"]//label[text()=\"Founded\"]//following-sibling::*').text\n",
    "                except NoSuchElementException:\n",
    "                    founded = -1\n",
    "\n",
    "                try:\n",
    "                    type_of_ownership = driver.find_element_by_xpath('.//div[@class=\"infoEntity\"]//label[text()=\"Type\"]//following-sibling::*').text\n",
    "                except NoSuchElementException:\n",
    "                    type_of_ownership = -1\n",
    "\n",
    "                try:\n",
    "                    industry = driver.find_element_by_xpath('.//div[@class=\"infoEntity\"]//label[text()=\"Industry\"]//following-sibling::*').text\n",
    "                except NoSuchElementException:\n",
    "                    industry = -1\n",
    "\n",
    "                try:\n",
    "                    sector = driver.find_element_by_xpath('.//div[@class=\"infoEntity\"]//label[text()=\"Sector\"]//following-sibling::*').text\n",
    "                except NoSuchElementException:\n",
    "                    sector = -1\n",
    "\n",
    "                try:\n",
    "                    revenue = driver.find_element_by_xpath('.//div[@class=\"infoEntity\"]//label[text()=\"Revenue\"]//following-sibling::*').text\n",
    "                except NoSuchElementException:\n",
    "                    revenue = -1\n",
    "\n",
    "                try:\n",
    "                    competitors = driver.find_element_by_xpath('.//div[@class=\"infoEntity\"]//label[text()=\"Competitors\"]//following-sibling::*').text\n",
    "                except NoSuchElementException:\n",
    "                    competitors = -1\n",
    "\n",
    "            except NoSuchElementException:  #Rarely, some job postings do not have the \"Company\" tab.\n",
    "                headquarters = -1\n",
    "                size = -1\n",
    "                founded = -1\n",
    "                type_of_ownership = -1\n",
    "                industry = -1\n",
    "                sector = -1\n",
    "                revenue = -1\n",
    "                competitors = -1\n",
    "\n",
    "                \n",
    "            if verbose:\n",
    "                print(\"Headquarters: {}\".format(headquarters))\n",
    "                print(\"Size: {}\".format(size))\n",
    "                print(\"Founded: {}\".format(founded))\n",
    "                print(\"Type of Ownership: {}\".format(type_of_ownership))\n",
    "                print(\"Industry: {}\".format(industry))\n",
    "                print(\"Sector: {}\".format(sector))\n",
    "                print(\"Revenue: {}\".format(revenue))\n",
    "                print(\"Competitors: {}\".format(competitors))\n",
    "                print(\"@@@@@@@@@@@@@@@@@@@@@@@@@@@@@@@@@@@@@@@@@@@@@@@@@@@@\")\n",
    "\n",
    "            jobs.append({\"Job Title\" : job_title,\n",
    "            \"Salary Estimate\" : salary_estimate,\n",
    "            \"Job Description\" : job_description,\n",
    "            \"Rating\" : rating,\n",
    "            \"Company Name\" : company_name,\n",
    "            \"Location\" : location,\n",
    "            \"Headquarters\" : headquarters,\n",
    "            \"Size\" : size,\n",
    "            \"Founded\" : founded,\n",
    "            \"Type of ownership\" : type_of_ownership,\n",
    "            \"Industry\" : industry,\n",
    "            \"Sector\" : sector,\n",
    "            \"Revenue\" : revenue,\n",
    "            \"Competitors\" : competitors})\n",
    "            #add job to jobs\n",
    "\n",
    "        #Clicking on the \"next page\" button\n",
    "        try:\n",
    "            driver.find_element_by_xpath('.//li[@class=\"next\"]//a').click()\n",
    "        except NoSuchElementException:\n",
    "            print(\"Scraping terminated before reaching target number of jobs. Needed {}, got {}.\".format(num_jobs, len(jobs)))\n",
    "            break\n",
    "\n",
    "    return pd.DataFrame(jobs)  #This line converts the dictionary object into a pandas DataFrame."
   ]
  },
  {
   "cell_type": "markdown",
   "metadata": {},
   "source": [
    "- From SEA-FLEX-11 review with Charlie Rice"
   ]
  },
  {
   "cell_type": "code",
   "execution_count": null,
   "metadata": {},
   "outputs": [],
   "source": [
    "df = pd.DataFrame(columns=['name', 'location', 'price', 'cuisine','rating','reviews'])\n",
    "\n",
    "# one big for loop!\n",
    "for row in soup.find_all('div', {'class': 'rest-row-info'}):\n",
    "    name = row.find('span', {'class':'rest-row-name-text'}).text\n",
    "    loc = row.find('span',{'class':'rest-row-meta--location rest-row-meta-text sfx1388addContent'}).text\n",
    "    price = int(row.find('i', {'class':'pricing--the-price'}).text.count('$'))\n",
    "    cuisine = row.find('span', {'class':'rest-row-meta--cuisine rest-row-meta-text sfx1388addContent'}).text\n",
    "    try:\n",
    "        rating = row.find('div',{'class':'star-rating-score'}).attrs['aria-label'].rsplit('s')[0].strip()\n",
    "    except:\n",
    "        rating = 0\n",
    "    try:\n",
    "        reviews = row.find('a',{'class':'review-link'}).find('span').text.strip('()')\n",
    "    except:\n",
    "        reviews = 0\n",
    "    df.loc[len(df)] = [name, loc, price, cuisine, rating, reviews]\n",
    "    \n",
    "\n",
    "df.head()"
   ]
  },
  {
   "cell_type": "code",
   "execution_count": null,
   "metadata": {},
   "outputs": [],
   "source": []
  },
  {
   "cell_type": "code",
   "execution_count": null,
   "metadata": {},
   "outputs": [],
   "source": []
  }
 ],
 "metadata": {
  "kernelspec": {
   "display_name": "Python 3",
   "language": "python",
   "name": "python3"
  },
  "language_info": {
   "codemirror_mode": {
    "name": "ipython",
    "version": 3
   },
   "file_extension": ".py",
   "mimetype": "text/x-python",
   "name": "python",
   "nbconvert_exporter": "python",
   "pygments_lexer": "ipython3",
   "version": "3.7.6"
  }
 },
 "nbformat": 4,
 "nbformat_minor": 4
}
