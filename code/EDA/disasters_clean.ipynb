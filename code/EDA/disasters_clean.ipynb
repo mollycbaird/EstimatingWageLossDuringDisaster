{
 "cells": [
  {
   "cell_type": "markdown",
   "metadata": {},
   "source": [
    "# Exploratory data analysis on FEMA disasters list\n",
    "Importing and cleaning data from this site:\n",
    "\n",
    "\n",
    "https://www.fema.gov/openfema-dataset-disaster-declarations-summaries-v1\n"
   ]
  },
  {
   "cell_type": "code",
   "execution_count": 1,
   "metadata": {},
   "outputs": [],
   "source": [
    "import pandas as pd"
   ]
  },
  {
   "cell_type": "code",
   "execution_count": 2,
   "metadata": {},
   "outputs": [],
   "source": [
    "disaster_df = pd.read_csv('../data/DisasterDeclarationsSummaries.csv')"
   ]
  },
  {
   "cell_type": "code",
   "execution_count": 3,
   "metadata": {},
   "outputs": [
    {
     "data": {
      "text/plain": [
       "25234"
      ]
     },
     "execution_count": 3,
     "metadata": {},
     "output_type": "execute_result"
    }
   ],
   "source": [
    "disaster_df.isna().sum().sum()"
   ]
  },
  {
   "cell_type": "code",
   "execution_count": 4,
   "metadata": {},
   "outputs": [
    {
     "data": {
      "text/plain": [
       "disasterNumber              0\n",
       "ihProgramDeclared           0\n",
       "iaProgramDeclared           0\n",
       "paProgramDeclared           0\n",
       "hmProgramDeclared           0\n",
       "state                       0\n",
       "declarationDate             0\n",
       "fyDeclared                  0\n",
       "disasterType                0\n",
       "incidentType                0\n",
       "title                       0\n",
       "incidentBeginDate           0\n",
       "incidentEndDate          8033\n",
       "disasterCloseOutDate    16585\n",
       "declaredCountyArea        235\n",
       "placeCode                 235\n",
       "hash                       73\n",
       "lastRefresh                73\n",
       "id                          0\n",
       "dtype: int64"
      ]
     },
     "execution_count": 4,
     "metadata": {},
     "output_type": "execute_result"
    }
   ],
   "source": [
    "disaster_df.isna().sum()"
   ]
  },
  {
   "cell_type": "code",
   "execution_count": 5,
   "metadata": {},
   "outputs": [
    {
     "data": {
      "text/plain": [
       "(58771, 19)"
      ]
     },
     "execution_count": 5,
     "metadata": {},
     "output_type": "execute_result"
    }
   ],
   "source": [
    "disaster_df.shape"
   ]
  },
  {
   "cell_type": "code",
   "execution_count": 6,
   "metadata": {},
   "outputs": [],
   "source": [
    "def null_cleaning(df):\n",
    "    null_cols = []\n",
    "    problem_cols = []\n",
    "    \n",
    "    # looping through the columns\n",
    "    for i in range(df.shape[1]):\n",
    "        # counting the number of null vals in the column\n",
    "        num_nulls = df.isnull().sum()[i]\n",
    "        # if there are more than 0 null values, add the column to our list, and see what % of the data it is\n",
    "        if num_nulls != 0:\n",
    "            col_name = df.columns[i]\n",
    "            percent_of_data = round(num_nulls/df.shape[0], 3)\n",
    "            null_cols.append([col_name, num_nulls, percent_of_data])\n",
    "            # if this column is over 20% nulls, then mark it as a problem column\n",
    "            if percent_of_data >= 0.2:\n",
    "                problem_cols.append(col_name)\n",
    "                \n",
    "    # what happens if we drop the problem columns?\n",
    "    df_no_prob_cols = df.drop(columns = problem_cols)\n",
    "    prob_cols_percent = df_no_prob_cols.shape[1] / df.shape[1]\n",
    "    \n",
    "    #what happens is we drop the problem rows too?\n",
    "    df_no_nulls = df_no_prob_cols.dropna()\n",
    "    prob_rows_percent = df_no_nulls.shape[0]/df_no_prob_cols.shape[0]\n",
    "    \n",
    "    print(\"The problem columns are: \", problem_cols)\n",
    "    print(\"After dropping the problem columns, you are left with \", prob_cols_percent, \"% of your columns.\")\n",
    "    print(\"After dropping the problem columns, and then dropping all rows containing nulls,\\n you are left with \", \n",
    "          prob_rows_percent, \"% of your rows.\")\n",
    "    return null_cols\n"
   ]
  },
  {
   "cell_type": "code",
   "execution_count": 7,
   "metadata": {},
   "outputs": [
    {
     "name": "stdout",
     "output_type": "stream",
     "text": [
      "The problem columns are:  ['disasterCloseOutDate']\n",
      "After dropping the problem columns, you are left with  0.9473684210526315 % of your columns.\n",
      "After dropping the problem columns, and then dropping all rows containing nulls,\n",
      " you are left with  0.8585356723554134 % of your rows.\n"
     ]
    },
    {
     "data": {
      "text/plain": [
       "[['incidentEndDate', 8033, 0.137],\n",
       " ['disasterCloseOutDate', 16585, 0.282],\n",
       " ['declaredCountyArea', 235, 0.004],\n",
       " ['placeCode', 235, 0.004],\n",
       " ['hash', 73, 0.001],\n",
       " ['lastRefresh', 73, 0.001]]"
      ]
     },
     "execution_count": 7,
     "metadata": {},
     "output_type": "execute_result"
    }
   ],
   "source": [
    "null_cleaning(disaster_df)"
   ]
  },
  {
   "cell_type": "code",
   "execution_count": 8,
   "metadata": {},
   "outputs": [],
   "source": [
    "begin_vs_end_date = disaster_df[(disaster_df['incidentBeginDate']) != (disaster_df['incidentEndDate'])]"
   ]
  },
  {
   "cell_type": "code",
   "execution_count": 9,
   "metadata": {},
   "outputs": [
    {
     "data": {
      "text/plain": [
       "(50576, 19)"
      ]
     },
     "execution_count": 9,
     "metadata": {},
     "output_type": "execute_result"
    }
   ],
   "source": [
    "begin_vs_end_date.shape"
   ]
  },
  {
   "cell_type": "code",
   "execution_count": 10,
   "metadata": {},
   "outputs": [],
   "source": [
    "# begin and end date are only different on 18 out of over 50,000 entries, \n",
    "# and end date has many nans\n",
    "# so I will drop this col\n",
    "disaster_df.drop(columns = ['incidentEndDate'], inplace = True)"
   ]
  },
  {
   "cell_type": "code",
   "execution_count": 11,
   "metadata": {},
   "outputs": [],
   "source": [
    "# incidentType and title are redundant, incidentType is more generic and what would be an input into the model\n",
    "# so let's drop title\n",
    "disaster_df.drop(columns = ['title'], inplace = True)"
   ]
  },
  {
   "cell_type": "code",
   "execution_count": 12,
   "metadata": {},
   "outputs": [
    {
     "data": {
      "text/plain": [
       "'1953-05-02T00:00:00.000Z'"
      ]
     },
     "execution_count": 12,
     "metadata": {},
     "output_type": "execute_result"
    }
   ],
   "source": [
    "# changing declaration date to date time\n",
    "disaster_df['declarationDate'][0]"
   ]
  },
  {
   "cell_type": "code",
   "execution_count": 13,
   "metadata": {},
   "outputs": [],
   "source": [
    "first_time = pd.to_datetime(disaster_df['declarationDate'][0])"
   ]
  },
  {
   "cell_type": "code",
   "execution_count": 14,
   "metadata": {},
   "outputs": [
    {
     "data": {
      "text/plain": [
       "1953"
      ]
     },
     "execution_count": 14,
     "metadata": {},
     "output_type": "execute_result"
    }
   ],
   "source": [
    "first_time.year"
   ]
  },
  {
   "cell_type": "code",
   "execution_count": 15,
   "metadata": {},
   "outputs": [
    {
     "data": {
      "text/plain": [
       "5"
      ]
     },
     "execution_count": 15,
     "metadata": {},
     "output_type": "execute_result"
    }
   ],
   "source": [
    "first_time.month"
   ]
  },
  {
   "cell_type": "code",
   "execution_count": 16,
   "metadata": {},
   "outputs": [
    {
     "data": {
      "text/plain": [
       "True"
      ]
     },
     "execution_count": 16,
     "metadata": {},
     "output_type": "execute_result"
    }
   ],
   "source": [
    "first_time.month == 5"
   ]
  },
  {
   "cell_type": "code",
   "execution_count": 17,
   "metadata": {},
   "outputs": [],
   "source": [
    "disaster_df['declaration_dt'] = pd.to_datetime(disaster_df['declarationDate'])"
   ]
  },
  {
   "cell_type": "code",
   "execution_count": 18,
   "metadata": {},
   "outputs": [],
   "source": [
    "disaster_df['year'] = [date.year for date in disaster_df['declaration_dt']]"
   ]
  },
  {
   "cell_type": "code",
   "execution_count": 19,
   "metadata": {},
   "outputs": [
    {
     "data": {
      "text/plain": [
       "0    1953\n",
       "1    1953\n",
       "2    1953\n",
       "3    1953\n",
       "4    1953\n",
       "Name: year, dtype: int64"
      ]
     },
     "execution_count": 19,
     "metadata": {},
     "output_type": "execute_result"
    }
   ],
   "source": [
    "disaster_df['year'].head()"
   ]
  },
  {
   "cell_type": "code",
   "execution_count": 20,
   "metadata": {},
   "outputs": [],
   "source": [
    "disaster_df_1976_on = disaster_df[disaster_df['year'] > 1975]"
   ]
  },
  {
   "cell_type": "code",
   "execution_count": 21,
   "metadata": {},
   "outputs": [
    {
     "data": {
      "text/html": [
       "<div>\n",
       "<style scoped>\n",
       "    .dataframe tbody tr th:only-of-type {\n",
       "        vertical-align: middle;\n",
       "    }\n",
       "\n",
       "    .dataframe tbody tr th {\n",
       "        vertical-align: top;\n",
       "    }\n",
       "\n",
       "    .dataframe thead th {\n",
       "        text-align: right;\n",
       "    }\n",
       "</style>\n",
       "<table border=\"1\" class=\"dataframe\">\n",
       "  <thead>\n",
       "    <tr style=\"text-align: right;\">\n",
       "      <th></th>\n",
       "      <th>disasterNumber</th>\n",
       "      <th>ihProgramDeclared</th>\n",
       "      <th>iaProgramDeclared</th>\n",
       "      <th>paProgramDeclared</th>\n",
       "      <th>hmProgramDeclared</th>\n",
       "      <th>state</th>\n",
       "      <th>declarationDate</th>\n",
       "      <th>fyDeclared</th>\n",
       "      <th>disasterType</th>\n",
       "      <th>incidentType</th>\n",
       "      <th>incidentBeginDate</th>\n",
       "      <th>disasterCloseOutDate</th>\n",
       "      <th>declaredCountyArea</th>\n",
       "      <th>placeCode</th>\n",
       "      <th>hash</th>\n",
       "      <th>lastRefresh</th>\n",
       "      <th>id</th>\n",
       "      <th>declaration_dt</th>\n",
       "      <th>year</th>\n",
       "    </tr>\n",
       "  </thead>\n",
       "  <tbody>\n",
       "    <tr>\n",
       "      <th>4478</th>\n",
       "      <td>495</td>\n",
       "      <td>0</td>\n",
       "      <td>1</td>\n",
       "      <td>1</td>\n",
       "      <td>0</td>\n",
       "      <td>MI</td>\n",
       "      <td>1976-03-19T00:00:00.000Z</td>\n",
       "      <td>1976</td>\n",
       "      <td>DR</td>\n",
       "      <td>Severe Storm(s)</td>\n",
       "      <td>1976-03-19T00:00:00.000Z</td>\n",
       "      <td>1980-06-26T00:00:00.000Z</td>\n",
       "      <td>Gladwin (County)</td>\n",
       "      <td>99051.0</td>\n",
       "      <td>efebbaba7017650dd16dc65a3ad8a718</td>\n",
       "      <td>2019-07-26T18:09:01.198Z</td>\n",
       "      <td>5d1bbd9e8bdcfa6efb330f30</td>\n",
       "      <td>1976-03-19 00:00:00+00:00</td>\n",
       "      <td>1976</td>\n",
       "    </tr>\n",
       "    <tr>\n",
       "      <th>4484</th>\n",
       "      <td>495</td>\n",
       "      <td>0</td>\n",
       "      <td>1</td>\n",
       "      <td>1</td>\n",
       "      <td>0</td>\n",
       "      <td>MI</td>\n",
       "      <td>1976-03-19T00:00:00.000Z</td>\n",
       "      <td>1976</td>\n",
       "      <td>DR</td>\n",
       "      <td>Severe Storm(s)</td>\n",
       "      <td>1976-03-19T00:00:00.000Z</td>\n",
       "      <td>1980-06-26T00:00:00.000Z</td>\n",
       "      <td>Clare (County)</td>\n",
       "      <td>99035.0</td>\n",
       "      <td>e296ea5530ecb58080328e8fee2c1a54</td>\n",
       "      <td>2019-07-26T18:09:01.198Z</td>\n",
       "      <td>5d1bbd9e8bdcfa6efb330f40</td>\n",
       "      <td>1976-03-19 00:00:00+00:00</td>\n",
       "      <td>1976</td>\n",
       "    </tr>\n",
       "    <tr>\n",
       "      <th>4485</th>\n",
       "      <td>494</td>\n",
       "      <td>0</td>\n",
       "      <td>1</td>\n",
       "      <td>1</td>\n",
       "      <td>0</td>\n",
       "      <td>NY</td>\n",
       "      <td>1976-03-19T00:00:00.000Z</td>\n",
       "      <td>1976</td>\n",
       "      <td>DR</td>\n",
       "      <td>Severe Ice Storm</td>\n",
       "      <td>1976-03-19T00:00:00.000Z</td>\n",
       "      <td>1991-09-27T00:00:00.000Z</td>\n",
       "      <td>Chautauqua (County)</td>\n",
       "      <td>99013.0</td>\n",
       "      <td>14841f57e66b7b871250c134ee7791f3</td>\n",
       "      <td>2019-07-26T18:09:01.198Z</td>\n",
       "      <td>5d1bbd9e8bdcfa6efb330f27</td>\n",
       "      <td>1976-03-19 00:00:00+00:00</td>\n",
       "      <td>1976</td>\n",
       "    </tr>\n",
       "    <tr>\n",
       "      <th>4487</th>\n",
       "      <td>494</td>\n",
       "      <td>0</td>\n",
       "      <td>1</td>\n",
       "      <td>1</td>\n",
       "      <td>0</td>\n",
       "      <td>NY</td>\n",
       "      <td>1976-03-19T00:00:00.000Z</td>\n",
       "      <td>1976</td>\n",
       "      <td>DR</td>\n",
       "      <td>Severe Ice Storm</td>\n",
       "      <td>1976-03-19T00:00:00.000Z</td>\n",
       "      <td>1991-09-27T00:00:00.000Z</td>\n",
       "      <td>Genesee (County)</td>\n",
       "      <td>99037.0</td>\n",
       "      <td>eea03bc9b9317a92e4a5dd549ba4b93a</td>\n",
       "      <td>2019-07-26T18:09:01.202Z</td>\n",
       "      <td>5d1bbd9e8bdcfa6efb330f29</td>\n",
       "      <td>1976-03-19 00:00:00+00:00</td>\n",
       "      <td>1976</td>\n",
       "    </tr>\n",
       "    <tr>\n",
       "      <th>4488</th>\n",
       "      <td>494</td>\n",
       "      <td>0</td>\n",
       "      <td>1</td>\n",
       "      <td>1</td>\n",
       "      <td>0</td>\n",
       "      <td>NY</td>\n",
       "      <td>1976-03-19T00:00:00.000Z</td>\n",
       "      <td>1976</td>\n",
       "      <td>DR</td>\n",
       "      <td>Severe Ice Storm</td>\n",
       "      <td>1976-03-19T00:00:00.000Z</td>\n",
       "      <td>1991-09-27T00:00:00.000Z</td>\n",
       "      <td>Wyoming (County)</td>\n",
       "      <td>99121.0</td>\n",
       "      <td>a45ed7f6c6a3d9e4d3ec659fe73f9cab</td>\n",
       "      <td>2019-07-26T18:09:01.200Z</td>\n",
       "      <td>5d1bbd9e8bdcfa6efb330f2a</td>\n",
       "      <td>1976-03-19 00:00:00+00:00</td>\n",
       "      <td>1976</td>\n",
       "    </tr>\n",
       "  </tbody>\n",
       "</table>\n",
       "</div>"
      ],
      "text/plain": [
       "      disasterNumber  ihProgramDeclared  iaProgramDeclared  paProgramDeclared  \\\n",
       "4478             495                  0                  1                  1   \n",
       "4484             495                  0                  1                  1   \n",
       "4485             494                  0                  1                  1   \n",
       "4487             494                  0                  1                  1   \n",
       "4488             494                  0                  1                  1   \n",
       "\n",
       "      hmProgramDeclared state           declarationDate  fyDeclared  \\\n",
       "4478                  0    MI  1976-03-19T00:00:00.000Z        1976   \n",
       "4484                  0    MI  1976-03-19T00:00:00.000Z        1976   \n",
       "4485                  0    NY  1976-03-19T00:00:00.000Z        1976   \n",
       "4487                  0    NY  1976-03-19T00:00:00.000Z        1976   \n",
       "4488                  0    NY  1976-03-19T00:00:00.000Z        1976   \n",
       "\n",
       "     disasterType      incidentType         incidentBeginDate  \\\n",
       "4478           DR   Severe Storm(s)  1976-03-19T00:00:00.000Z   \n",
       "4484           DR   Severe Storm(s)  1976-03-19T00:00:00.000Z   \n",
       "4485           DR  Severe Ice Storm  1976-03-19T00:00:00.000Z   \n",
       "4487           DR  Severe Ice Storm  1976-03-19T00:00:00.000Z   \n",
       "4488           DR  Severe Ice Storm  1976-03-19T00:00:00.000Z   \n",
       "\n",
       "          disasterCloseOutDate   declaredCountyArea  placeCode  \\\n",
       "4478  1980-06-26T00:00:00.000Z     Gladwin (County)    99051.0   \n",
       "4484  1980-06-26T00:00:00.000Z       Clare (County)    99035.0   \n",
       "4485  1991-09-27T00:00:00.000Z  Chautauqua (County)    99013.0   \n",
       "4487  1991-09-27T00:00:00.000Z     Genesee (County)    99037.0   \n",
       "4488  1991-09-27T00:00:00.000Z     Wyoming (County)    99121.0   \n",
       "\n",
       "                                  hash               lastRefresh  \\\n",
       "4478  efebbaba7017650dd16dc65a3ad8a718  2019-07-26T18:09:01.198Z   \n",
       "4484  e296ea5530ecb58080328e8fee2c1a54  2019-07-26T18:09:01.198Z   \n",
       "4485  14841f57e66b7b871250c134ee7791f3  2019-07-26T18:09:01.198Z   \n",
       "4487  eea03bc9b9317a92e4a5dd549ba4b93a  2019-07-26T18:09:01.202Z   \n",
       "4488  a45ed7f6c6a3d9e4d3ec659fe73f9cab  2019-07-26T18:09:01.200Z   \n",
       "\n",
       "                            id            declaration_dt  year  \n",
       "4478  5d1bbd9e8bdcfa6efb330f30 1976-03-19 00:00:00+00:00  1976  \n",
       "4484  5d1bbd9e8bdcfa6efb330f40 1976-03-19 00:00:00+00:00  1976  \n",
       "4485  5d1bbd9e8bdcfa6efb330f27 1976-03-19 00:00:00+00:00  1976  \n",
       "4487  5d1bbd9e8bdcfa6efb330f29 1976-03-19 00:00:00+00:00  1976  \n",
       "4488  5d1bbd9e8bdcfa6efb330f2a 1976-03-19 00:00:00+00:00  1976  "
      ]
     },
     "execution_count": 21,
     "metadata": {},
     "output_type": "execute_result"
    }
   ],
   "source": [
    "disaster_df_1976_on.head()"
   ]
  },
  {
   "cell_type": "code",
   "execution_count": 22,
   "metadata": {},
   "outputs": [
    {
     "data": {
      "text/plain": [
       "2020"
      ]
     },
     "execution_count": 22,
     "metadata": {},
     "output_type": "execute_result"
    }
   ],
   "source": [
    "max(disaster_df_1976_on['year'])"
   ]
  },
  {
   "cell_type": "code",
   "execution_count": 23,
   "metadata": {},
   "outputs": [
    {
     "data": {
      "text/plain": [
       "1976"
      ]
     },
     "execution_count": 23,
     "metadata": {},
     "output_type": "execute_result"
    }
   ],
   "source": [
    "min(disaster_df_1976_on['year'])"
   ]
  },
  {
   "cell_type": "code",
   "execution_count": 24,
   "metadata": {},
   "outputs": [
    {
     "data": {
      "text/plain": [
       "(54202, 19)"
      ]
     },
     "execution_count": 24,
     "metadata": {},
     "output_type": "execute_result"
    }
   ],
   "source": [
    "disaster_df_1976_on.shape"
   ]
  },
  {
   "cell_type": "code",
   "execution_count": 25,
   "metadata": {},
   "outputs": [
    {
     "data": {
      "text/plain": [
       "(58771, 19)"
      ]
     },
     "execution_count": 25,
     "metadata": {},
     "output_type": "execute_result"
    }
   ],
   "source": [
    "disaster_df.shape"
   ]
  },
  {
   "cell_type": "code",
   "execution_count": 26,
   "metadata": {},
   "outputs": [],
   "source": [
    "df = disaster_df_1976_on.copy()"
   ]
  },
  {
   "cell_type": "code",
   "execution_count": 27,
   "metadata": {},
   "outputs": [
    {
     "name": "stdout",
     "output_type": "stream",
     "text": [
      "The problem columns are:  ['disasterCloseOutDate']\n",
      "After dropping the problem columns, you are left with  0.9473684210526315 % of your columns.\n",
      "After dropping the problem columns, and then dropping all rows containing nulls,\n",
      " you are left with  0.9977122615401646 % of your rows.\n"
     ]
    },
    {
     "data": {
      "text/plain": [
       "[['disasterCloseOutDate', 16585, 0.306],\n",
       " ['declaredCountyArea', 54, 0.001],\n",
       " ['placeCode', 54, 0.001],\n",
       " ['hash', 73, 0.001],\n",
       " ['lastRefresh', 73, 0.001]]"
      ]
     },
     "execution_count": 27,
     "metadata": {},
     "output_type": "execute_result"
    }
   ],
   "source": [
    "null_cleaning(df)"
   ]
  },
  {
   "cell_type": "code",
   "execution_count": 28,
   "metadata": {},
   "outputs": [],
   "source": [
    "# we are just specifying state, not county, so I will drop the county col\n",
    "# also don't need last refresh or hash\n",
    "df.drop(columns = ['declaredCountyArea', 'lastRefresh', 'hash'], inplace = True)"
   ]
  },
  {
   "cell_type": "code",
   "execution_count": 29,
   "metadata": {},
   "outputs": [],
   "source": [
    "df.drop(columns = ['id', 'placeCode','declarationDate', 'fyDeclared'], inplace = True)"
   ]
  },
  {
   "cell_type": "code",
   "execution_count": 30,
   "metadata": {},
   "outputs": [
    {
     "name": "stdout",
     "output_type": "stream",
     "text": [
      "The problem columns are:  ['disasterCloseOutDate']\n",
      "After dropping the problem columns, you are left with  0.9166666666666666 % of your columns.\n",
      "After dropping the problem columns, and then dropping all rows containing nulls,\n",
      " you are left with  1.0 % of your rows.\n"
     ]
    },
    {
     "data": {
      "text/plain": [
       "[['disasterCloseOutDate', 16585, 0.306]]"
      ]
     },
     "execution_count": 30,
     "metadata": {},
     "output_type": "execute_result"
    }
   ],
   "source": [
    "null_cleaning(df)"
   ]
  },
  {
   "cell_type": "code",
   "execution_count": 31,
   "metadata": {},
   "outputs": [
    {
     "data": {
      "text/plain": [
       "0.3059850190029888"
      ]
     },
     "execution_count": 31,
     "metadata": {},
     "output_type": "execute_result"
    }
   ],
   "source": [
    "# what percent of our data is missing the closeout date?\n",
    "16585/df.shape[0]"
   ]
  },
  {
   "cell_type": "code",
   "execution_count": 32,
   "metadata": {},
   "outputs": [],
   "source": [
    "# a third of our data would be lost so let's just drop the closeout date column\n",
    "df.drop(columns = ['disasterCloseOutDate'], inplace = True)"
   ]
  },
  {
   "cell_type": "code",
   "execution_count": 33,
   "metadata": {},
   "outputs": [
    {
     "data": {
      "text/plain": [
       "0"
      ]
     },
     "execution_count": 33,
     "metadata": {},
     "output_type": "execute_result"
    }
   ],
   "source": [
    "df.isna().sum().sum()"
   ]
  },
  {
   "cell_type": "code",
   "execution_count": 34,
   "metadata": {},
   "outputs": [],
   "source": [
    "# dropping nans is done!"
   ]
  },
  {
   "cell_type": "code",
   "execution_count": 35,
   "metadata": {},
   "outputs": [
    {
     "data": {
      "text/plain": [
       "0    45035\n",
       "1     9167\n",
       "Name: ihProgramDeclared, dtype: int64"
      ]
     },
     "execution_count": 35,
     "metadata": {},
     "output_type": "execute_result"
    }
   ],
   "source": [
    "# is df['ihProgramDeclared'] the same for every row?\n",
    "df['ihProgramDeclared'].value_counts()"
   ]
  },
  {
   "cell_type": "code",
   "execution_count": 36,
   "metadata": {},
   "outputs": [
    {
     "data": {
      "text/plain": [
       "(50484, 19)"
      ]
     },
     "execution_count": 36,
     "metadata": {},
     "output_type": "execute_result"
    }
   ],
   "source": [
    "disaster_df[disaster_df['incidentBeginDate'] != disaster_df['declarationDate']].shape"
   ]
  },
  {
   "cell_type": "code",
   "execution_count": 37,
   "metadata": {},
   "outputs": [],
   "source": [
    "# dropping incident begin date\n",
    "# it's same as declaration date for all but 19 rows\n",
    "df.drop(columns = ['incidentBeginDate'], inplace = True)"
   ]
  },
  {
   "cell_type": "code",
   "execution_count": 40,
   "metadata": {},
   "outputs": [
    {
     "data": {
      "text/html": [
       "<div>\n",
       "<style scoped>\n",
       "    .dataframe tbody tr th:only-of-type {\n",
       "        vertical-align: middle;\n",
       "    }\n",
       "\n",
       "    .dataframe tbody tr th {\n",
       "        vertical-align: top;\n",
       "    }\n",
       "\n",
       "    .dataframe thead th {\n",
       "        text-align: right;\n",
       "    }\n",
       "</style>\n",
       "<table border=\"1\" class=\"dataframe\">\n",
       "  <thead>\n",
       "    <tr style=\"text-align: right;\">\n",
       "      <th></th>\n",
       "      <th>disasterNumber</th>\n",
       "      <th>ihProgramDeclared</th>\n",
       "      <th>iaProgramDeclared</th>\n",
       "      <th>paProgramDeclared</th>\n",
       "      <th>hmProgramDeclared</th>\n",
       "      <th>state</th>\n",
       "      <th>declarationDate</th>\n",
       "      <th>fyDeclared</th>\n",
       "      <th>disasterType</th>\n",
       "      <th>incidentType</th>\n",
       "      <th>incidentBeginDate</th>\n",
       "      <th>disasterCloseOutDate</th>\n",
       "      <th>declaredCountyArea</th>\n",
       "      <th>placeCode</th>\n",
       "      <th>hash</th>\n",
       "      <th>lastRefresh</th>\n",
       "      <th>id</th>\n",
       "      <th>declaration_dt</th>\n",
       "      <th>year</th>\n",
       "    </tr>\n",
       "  </thead>\n",
       "  <tbody>\n",
       "    <tr>\n",
       "      <th>4478</th>\n",
       "      <td>495</td>\n",
       "      <td>0</td>\n",
       "      <td>1</td>\n",
       "      <td>1</td>\n",
       "      <td>0</td>\n",
       "      <td>MI</td>\n",
       "      <td>1976-03-19T00:00:00.000Z</td>\n",
       "      <td>1976</td>\n",
       "      <td>DR</td>\n",
       "      <td>Severe Storm(s)</td>\n",
       "      <td>1976-03-19T00:00:00.000Z</td>\n",
       "      <td>1980-06-26T00:00:00.000Z</td>\n",
       "      <td>Gladwin (County)</td>\n",
       "      <td>99051.0</td>\n",
       "      <td>efebbaba7017650dd16dc65a3ad8a718</td>\n",
       "      <td>2019-07-26T18:09:01.198Z</td>\n",
       "      <td>5d1bbd9e8bdcfa6efb330f30</td>\n",
       "      <td>1976-03-19 00:00:00+00:00</td>\n",
       "      <td>1976</td>\n",
       "    </tr>\n",
       "    <tr>\n",
       "      <th>4484</th>\n",
       "      <td>495</td>\n",
       "      <td>0</td>\n",
       "      <td>1</td>\n",
       "      <td>1</td>\n",
       "      <td>0</td>\n",
       "      <td>MI</td>\n",
       "      <td>1976-03-19T00:00:00.000Z</td>\n",
       "      <td>1976</td>\n",
       "      <td>DR</td>\n",
       "      <td>Severe Storm(s)</td>\n",
       "      <td>1976-03-19T00:00:00.000Z</td>\n",
       "      <td>1980-06-26T00:00:00.000Z</td>\n",
       "      <td>Clare (County)</td>\n",
       "      <td>99035.0</td>\n",
       "      <td>e296ea5530ecb58080328e8fee2c1a54</td>\n",
       "      <td>2019-07-26T18:09:01.198Z</td>\n",
       "      <td>5d1bbd9e8bdcfa6efb330f40</td>\n",
       "      <td>1976-03-19 00:00:00+00:00</td>\n",
       "      <td>1976</td>\n",
       "    </tr>\n",
       "    <tr>\n",
       "      <th>4490</th>\n",
       "      <td>495</td>\n",
       "      <td>0</td>\n",
       "      <td>1</td>\n",
       "      <td>1</td>\n",
       "      <td>0</td>\n",
       "      <td>MI</td>\n",
       "      <td>1976-03-19T00:00:00.000Z</td>\n",
       "      <td>1976</td>\n",
       "      <td>DR</td>\n",
       "      <td>Severe Storm(s)</td>\n",
       "      <td>1976-03-19T00:00:00.000Z</td>\n",
       "      <td>1980-06-26T00:00:00.000Z</td>\n",
       "      <td>Allegan (County)</td>\n",
       "      <td>99005.0</td>\n",
       "      <td>98cd5c9663b101763e19111e08120e48</td>\n",
       "      <td>2019-07-26T18:09:01.198Z</td>\n",
       "      <td>5d1bbd9e8bdcfa6efb330f2d</td>\n",
       "      <td>1976-03-19 00:00:00+00:00</td>\n",
       "      <td>1976</td>\n",
       "    </tr>\n",
       "    <tr>\n",
       "      <th>4494</th>\n",
       "      <td>495</td>\n",
       "      <td>0</td>\n",
       "      <td>1</td>\n",
       "      <td>1</td>\n",
       "      <td>0</td>\n",
       "      <td>MI</td>\n",
       "      <td>1976-03-19T00:00:00.000Z</td>\n",
       "      <td>1976</td>\n",
       "      <td>DR</td>\n",
       "      <td>Severe Storm(s)</td>\n",
       "      <td>1976-03-19T00:00:00.000Z</td>\n",
       "      <td>1980-06-26T00:00:00.000Z</td>\n",
       "      <td>Clinton (County)</td>\n",
       "      <td>99037.0</td>\n",
       "      <td>be0c73cf6cb57d74e2d51898bc613d90</td>\n",
       "      <td>2019-07-26T18:09:01.202Z</td>\n",
       "      <td>5d1bbd9e8bdcfa6efb330f33</td>\n",
       "      <td>1976-03-19 00:00:00+00:00</td>\n",
       "      <td>1976</td>\n",
       "    </tr>\n",
       "    <tr>\n",
       "      <th>4500</th>\n",
       "      <td>495</td>\n",
       "      <td>0</td>\n",
       "      <td>1</td>\n",
       "      <td>1</td>\n",
       "      <td>0</td>\n",
       "      <td>MI</td>\n",
       "      <td>1976-03-19T00:00:00.000Z</td>\n",
       "      <td>1976</td>\n",
       "      <td>DR</td>\n",
       "      <td>Severe Storm(s)</td>\n",
       "      <td>1976-03-19T00:00:00.000Z</td>\n",
       "      <td>1980-06-26T00:00:00.000Z</td>\n",
       "      <td>St. Clair (County)</td>\n",
       "      <td>99147.0</td>\n",
       "      <td>5a4c394af5ebb6a52fb5f690abccb73a</td>\n",
       "      <td>2019-07-26T18:09:01.198Z</td>\n",
       "      <td>5d1bbd9e8bdcfa6efb330f53</td>\n",
       "      <td>1976-03-19 00:00:00+00:00</td>\n",
       "      <td>1976</td>\n",
       "    </tr>\n",
       "  </tbody>\n",
       "</table>\n",
       "</div>"
      ],
      "text/plain": [
       "      disasterNumber  ihProgramDeclared  iaProgramDeclared  paProgramDeclared  \\\n",
       "4478             495                  0                  1                  1   \n",
       "4484             495                  0                  1                  1   \n",
       "4490             495                  0                  1                  1   \n",
       "4494             495                  0                  1                  1   \n",
       "4500             495                  0                  1                  1   \n",
       "\n",
       "      hmProgramDeclared state           declarationDate  fyDeclared  \\\n",
       "4478                  0    MI  1976-03-19T00:00:00.000Z        1976   \n",
       "4484                  0    MI  1976-03-19T00:00:00.000Z        1976   \n",
       "4490                  0    MI  1976-03-19T00:00:00.000Z        1976   \n",
       "4494                  0    MI  1976-03-19T00:00:00.000Z        1976   \n",
       "4500                  0    MI  1976-03-19T00:00:00.000Z        1976   \n",
       "\n",
       "     disasterType     incidentType         incidentBeginDate  \\\n",
       "4478           DR  Severe Storm(s)  1976-03-19T00:00:00.000Z   \n",
       "4484           DR  Severe Storm(s)  1976-03-19T00:00:00.000Z   \n",
       "4490           DR  Severe Storm(s)  1976-03-19T00:00:00.000Z   \n",
       "4494           DR  Severe Storm(s)  1976-03-19T00:00:00.000Z   \n",
       "4500           DR  Severe Storm(s)  1976-03-19T00:00:00.000Z   \n",
       "\n",
       "          disasterCloseOutDate  declaredCountyArea  placeCode  \\\n",
       "4478  1980-06-26T00:00:00.000Z    Gladwin (County)    99051.0   \n",
       "4484  1980-06-26T00:00:00.000Z      Clare (County)    99035.0   \n",
       "4490  1980-06-26T00:00:00.000Z    Allegan (County)    99005.0   \n",
       "4494  1980-06-26T00:00:00.000Z    Clinton (County)    99037.0   \n",
       "4500  1980-06-26T00:00:00.000Z  St. Clair (County)    99147.0   \n",
       "\n",
       "                                  hash               lastRefresh  \\\n",
       "4478  efebbaba7017650dd16dc65a3ad8a718  2019-07-26T18:09:01.198Z   \n",
       "4484  e296ea5530ecb58080328e8fee2c1a54  2019-07-26T18:09:01.198Z   \n",
       "4490  98cd5c9663b101763e19111e08120e48  2019-07-26T18:09:01.198Z   \n",
       "4494  be0c73cf6cb57d74e2d51898bc613d90  2019-07-26T18:09:01.202Z   \n",
       "4500  5a4c394af5ebb6a52fb5f690abccb73a  2019-07-26T18:09:01.198Z   \n",
       "\n",
       "                            id            declaration_dt  year  \n",
       "4478  5d1bbd9e8bdcfa6efb330f30 1976-03-19 00:00:00+00:00  1976  \n",
       "4484  5d1bbd9e8bdcfa6efb330f40 1976-03-19 00:00:00+00:00  1976  \n",
       "4490  5d1bbd9e8bdcfa6efb330f2d 1976-03-19 00:00:00+00:00  1976  \n",
       "4494  5d1bbd9e8bdcfa6efb330f33 1976-03-19 00:00:00+00:00  1976  \n",
       "4500  5d1bbd9e8bdcfa6efb330f53 1976-03-19 00:00:00+00:00  1976  "
      ]
     },
     "execution_count": 40,
     "metadata": {},
     "output_type": "execute_result"
    }
   ],
   "source": [
    "disaster_df[disaster_df['disasterNumber'] == 495].head()"
   ]
  },
  {
   "cell_type": "code",
   "execution_count": 41,
   "metadata": {},
   "outputs": [],
   "source": [
    "df['month'] = [date.month for date in df['declaration_dt']]"
   ]
  },
  {
   "cell_type": "code",
   "execution_count": 42,
   "metadata": {},
   "outputs": [],
   "source": [
    "# dropping delcaration date because we already have the \n",
    "# year and month\n",
    "df.drop(columns = ['declaration_dt'], inplace = True)"
   ]
  },
  {
   "cell_type": "code",
   "execution_count": 43,
   "metadata": {},
   "outputs": [],
   "source": [
    "# dropping program declared cols\n",
    "df.drop(columns = ['ihProgramDeclared','iaProgramDeclared','paProgramDeclared','hmProgramDeclared'], inplace = True)"
   ]
  },
  {
   "cell_type": "code",
   "execution_count": 44,
   "metadata": {},
   "outputs": [
    {
     "data": {
      "text/html": [
       "<div>\n",
       "<style scoped>\n",
       "    .dataframe tbody tr th:only-of-type {\n",
       "        vertical-align: middle;\n",
       "    }\n",
       "\n",
       "    .dataframe tbody tr th {\n",
       "        vertical-align: top;\n",
       "    }\n",
       "\n",
       "    .dataframe thead th {\n",
       "        text-align: right;\n",
       "    }\n",
       "</style>\n",
       "<table border=\"1\" class=\"dataframe\">\n",
       "  <thead>\n",
       "    <tr style=\"text-align: right;\">\n",
       "      <th></th>\n",
       "      <th>disasterNumber</th>\n",
       "      <th>state</th>\n",
       "      <th>disasterType</th>\n",
       "      <th>incidentType</th>\n",
       "      <th>year</th>\n",
       "      <th>month</th>\n",
       "    </tr>\n",
       "  </thead>\n",
       "  <tbody>\n",
       "    <tr>\n",
       "      <th>4478</th>\n",
       "      <td>495</td>\n",
       "      <td>MI</td>\n",
       "      <td>DR</td>\n",
       "      <td>Severe Storm(s)</td>\n",
       "      <td>1976</td>\n",
       "      <td>3</td>\n",
       "    </tr>\n",
       "    <tr>\n",
       "      <th>4484</th>\n",
       "      <td>495</td>\n",
       "      <td>MI</td>\n",
       "      <td>DR</td>\n",
       "      <td>Severe Storm(s)</td>\n",
       "      <td>1976</td>\n",
       "      <td>3</td>\n",
       "    </tr>\n",
       "    <tr>\n",
       "      <th>4490</th>\n",
       "      <td>495</td>\n",
       "      <td>MI</td>\n",
       "      <td>DR</td>\n",
       "      <td>Severe Storm(s)</td>\n",
       "      <td>1976</td>\n",
       "      <td>3</td>\n",
       "    </tr>\n",
       "    <tr>\n",
       "      <th>4494</th>\n",
       "      <td>495</td>\n",
       "      <td>MI</td>\n",
       "      <td>DR</td>\n",
       "      <td>Severe Storm(s)</td>\n",
       "      <td>1976</td>\n",
       "      <td>3</td>\n",
       "    </tr>\n",
       "    <tr>\n",
       "      <th>4500</th>\n",
       "      <td>495</td>\n",
       "      <td>MI</td>\n",
       "      <td>DR</td>\n",
       "      <td>Severe Storm(s)</td>\n",
       "      <td>1976</td>\n",
       "      <td>3</td>\n",
       "    </tr>\n",
       "  </tbody>\n",
       "</table>\n",
       "</div>"
      ],
      "text/plain": [
       "      disasterNumber state disasterType     incidentType  year  month\n",
       "4478             495    MI           DR  Severe Storm(s)  1976      3\n",
       "4484             495    MI           DR  Severe Storm(s)  1976      3\n",
       "4490             495    MI           DR  Severe Storm(s)  1976      3\n",
       "4494             495    MI           DR  Severe Storm(s)  1976      3\n",
       "4500             495    MI           DR  Severe Storm(s)  1976      3"
      ]
     },
     "execution_count": 44,
     "metadata": {},
     "output_type": "execute_result"
    }
   ],
   "source": [
    "df[df['disasterNumber'] == 495].head()"
   ]
  },
  {
   "cell_type": "code",
   "execution_count": 45,
   "metadata": {},
   "outputs": [
    {
     "data": {
      "text/plain": [
       "(3613, 6)"
      ]
     },
     "execution_count": 45,
     "metadata": {},
     "output_type": "execute_result"
    }
   ],
   "source": [
    "df.drop_duplicates().shape"
   ]
  },
  {
   "cell_type": "code",
   "execution_count": 46,
   "metadata": {},
   "outputs": [],
   "source": [
    "df.drop_duplicates(inplace = True)"
   ]
  },
  {
   "cell_type": "code",
   "execution_count": 47,
   "metadata": {},
   "outputs": [
    {
     "data": {
      "text/html": [
       "<div>\n",
       "<style scoped>\n",
       "    .dataframe tbody tr th:only-of-type {\n",
       "        vertical-align: middle;\n",
       "    }\n",
       "\n",
       "    .dataframe tbody tr th {\n",
       "        vertical-align: top;\n",
       "    }\n",
       "\n",
       "    .dataframe thead th {\n",
       "        text-align: right;\n",
       "    }\n",
       "</style>\n",
       "<table border=\"1\" class=\"dataframe\">\n",
       "  <thead>\n",
       "    <tr style=\"text-align: right;\">\n",
       "      <th></th>\n",
       "      <th>disasterNumber</th>\n",
       "      <th>state</th>\n",
       "      <th>disasterType</th>\n",
       "      <th>incidentType</th>\n",
       "      <th>year</th>\n",
       "      <th>month</th>\n",
       "    </tr>\n",
       "  </thead>\n",
       "  <tbody>\n",
       "    <tr>\n",
       "      <th>4478</th>\n",
       "      <td>495</td>\n",
       "      <td>MI</td>\n",
       "      <td>DR</td>\n",
       "      <td>Severe Storm(s)</td>\n",
       "      <td>1976</td>\n",
       "      <td>3</td>\n",
       "    </tr>\n",
       "    <tr>\n",
       "      <th>4485</th>\n",
       "      <td>494</td>\n",
       "      <td>NY</td>\n",
       "      <td>DR</td>\n",
       "      <td>Severe Ice Storm</td>\n",
       "      <td>1976</td>\n",
       "      <td>3</td>\n",
       "    </tr>\n",
       "    <tr>\n",
       "      <th>4525</th>\n",
       "      <td>496</td>\n",
       "      <td>WI</td>\n",
       "      <td>DR</td>\n",
       "      <td>Flood</td>\n",
       "      <td>1976</td>\n",
       "      <td>3</td>\n",
       "    </tr>\n",
       "    <tr>\n",
       "      <th>4570</th>\n",
       "      <td>497</td>\n",
       "      <td>OK</td>\n",
       "      <td>DR</td>\n",
       "      <td>Tornado</td>\n",
       "      <td>1976</td>\n",
       "      <td>4</td>\n",
       "    </tr>\n",
       "    <tr>\n",
       "      <th>4574</th>\n",
       "      <td>498</td>\n",
       "      <td>AR</td>\n",
       "      <td>DR</td>\n",
       "      <td>Tornado</td>\n",
       "      <td>1976</td>\n",
       "      <td>4</td>\n",
       "    </tr>\n",
       "  </tbody>\n",
       "</table>\n",
       "</div>"
      ],
      "text/plain": [
       "      disasterNumber state disasterType      incidentType  year  month\n",
       "4478             495    MI           DR   Severe Storm(s)  1976      3\n",
       "4485             494    NY           DR  Severe Ice Storm  1976      3\n",
       "4525             496    WI           DR             Flood  1976      3\n",
       "4570             497    OK           DR           Tornado  1976      4\n",
       "4574             498    AR           DR           Tornado  1976      4"
      ]
     },
     "execution_count": 47,
     "metadata": {},
     "output_type": "execute_result"
    }
   ],
   "source": [
    "df.head()"
   ]
  },
  {
   "cell_type": "code",
   "execution_count": 48,
   "metadata": {},
   "outputs": [
    {
     "data": {
      "text/plain": [
       "DR    2050\n",
       "FM     842\n",
       "EM     508\n",
       "FS     213\n",
       "Name: disasterType, dtype: int64"
      ]
     },
     "execution_count": 48,
     "metadata": {},
     "output_type": "execute_result"
    }
   ],
   "source": [
    "df['disasterType'].value_counts()"
   ]
  },
  {
   "cell_type": "code",
   "execution_count": 49,
   "metadata": {},
   "outputs": [
    {
     "data": {
      "text/plain": [
       "Fire                1128\n",
       "Severe Storm(s)      953\n",
       "Flood                515\n",
       "Hurricane            327\n",
       "Snow                 163\n",
       "Biological           151\n",
       "Tornado              107\n",
       "Severe Ice Storm      61\n",
       "Typhoon               56\n",
       "Drought               36\n",
       "Earthquake            27\n",
       "Coastal Storm         25\n",
       "Other                 16\n",
       "Freezing              16\n",
       "Mud/Landslide          6\n",
       "Toxic Substances       6\n",
       "Volcano                5\n",
       "Fishing Losses         4\n",
       "Human Cause            3\n",
       "Tsunami                3\n",
       "Terrorist              2\n",
       "Dam/Levee Break        2\n",
       "Chemical               1\n",
       "Name: incidentType, dtype: int64"
      ]
     },
     "execution_count": 49,
     "metadata": {},
     "output_type": "execute_result"
    }
   ],
   "source": [
    "df['incidentType'].value_counts()"
   ]
  },
  {
   "cell_type": "code",
   "execution_count": 50,
   "metadata": {},
   "outputs": [],
   "source": [
    "# dropping disasterType\n",
    "# incidentType is going to be input into model\n",
    "df.drop(columns = ['disasterType'], inplace = True)"
   ]
  },
  {
   "cell_type": "code",
   "execution_count": 51,
   "metadata": {},
   "outputs": [
    {
     "data": {
      "text/html": [
       "<div>\n",
       "<style scoped>\n",
       "    .dataframe tbody tr th:only-of-type {\n",
       "        vertical-align: middle;\n",
       "    }\n",
       "\n",
       "    .dataframe tbody tr th {\n",
       "        vertical-align: top;\n",
       "    }\n",
       "\n",
       "    .dataframe thead th {\n",
       "        text-align: right;\n",
       "    }\n",
       "</style>\n",
       "<table border=\"1\" class=\"dataframe\">\n",
       "  <thead>\n",
       "    <tr style=\"text-align: right;\">\n",
       "      <th></th>\n",
       "      <th>disasterNumber</th>\n",
       "      <th>state</th>\n",
       "      <th>incidentType</th>\n",
       "      <th>year</th>\n",
       "      <th>month</th>\n",
       "    </tr>\n",
       "  </thead>\n",
       "  <tbody>\n",
       "    <tr>\n",
       "      <th>4478</th>\n",
       "      <td>495</td>\n",
       "      <td>MI</td>\n",
       "      <td>Severe Storm(s)</td>\n",
       "      <td>1976</td>\n",
       "      <td>3</td>\n",
       "    </tr>\n",
       "    <tr>\n",
       "      <th>4485</th>\n",
       "      <td>494</td>\n",
       "      <td>NY</td>\n",
       "      <td>Severe Ice Storm</td>\n",
       "      <td>1976</td>\n",
       "      <td>3</td>\n",
       "    </tr>\n",
       "    <tr>\n",
       "      <th>4525</th>\n",
       "      <td>496</td>\n",
       "      <td>WI</td>\n",
       "      <td>Flood</td>\n",
       "      <td>1976</td>\n",
       "      <td>3</td>\n",
       "    </tr>\n",
       "    <tr>\n",
       "      <th>4570</th>\n",
       "      <td>497</td>\n",
       "      <td>OK</td>\n",
       "      <td>Tornado</td>\n",
       "      <td>1976</td>\n",
       "      <td>4</td>\n",
       "    </tr>\n",
       "    <tr>\n",
       "      <th>4574</th>\n",
       "      <td>498</td>\n",
       "      <td>AR</td>\n",
       "      <td>Tornado</td>\n",
       "      <td>1976</td>\n",
       "      <td>4</td>\n",
       "    </tr>\n",
       "  </tbody>\n",
       "</table>\n",
       "</div>"
      ],
      "text/plain": [
       "      disasterNumber state      incidentType  year  month\n",
       "4478             495    MI   Severe Storm(s)  1976      3\n",
       "4485             494    NY  Severe Ice Storm  1976      3\n",
       "4525             496    WI             Flood  1976      3\n",
       "4570             497    OK           Tornado  1976      4\n",
       "4574             498    AR           Tornado  1976      4"
      ]
     },
     "execution_count": 51,
     "metadata": {},
     "output_type": "execute_result"
    }
   ],
   "source": [
    "df.head()"
   ]
  },
  {
   "cell_type": "code",
   "execution_count": 52,
   "metadata": {},
   "outputs": [],
   "source": [
    "df.to_csv('../data/disasters_clean.csv')"
   ]
  },
  {
   "cell_type": "code",
   "execution_count": null,
   "metadata": {},
   "outputs": [],
   "source": []
  }
 ],
 "metadata": {
  "kernelspec": {
   "display_name": "Python 3",
   "language": "python",
   "name": "python3"
  },
  "language_info": {
   "codemirror_mode": {
    "name": "ipython",
    "version": 3
   },
   "file_extension": ".py",
   "mimetype": "text/x-python",
   "name": "python",
   "nbconvert_exporter": "python",
   "pygments_lexer": "ipython3",
   "version": "3.7.4"
  }
 },
 "nbformat": 4,
 "nbformat_minor": 2
}
