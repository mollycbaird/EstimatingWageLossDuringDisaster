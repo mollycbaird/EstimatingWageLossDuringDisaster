{
 "cells": [
  {
   "cell_type": "markdown",
   "metadata": {},
   "source": [
    "## Creating the main (historic) dataframe"
   ]
  },
  {
   "cell_type": "markdown",
   "metadata": {},
   "source": [
    "In this notebook, we join the FEMA Disasters data, Bureau of Labor Statistics' employment statistics by state, and the Bureau of Labor Statistics' occupational employment statistics by state. Each of these three datasets has been initially cleaned in other notebooks."
   ]
  },
  {
   "cell_type": "markdown",
   "metadata": {},
   "source": [
    "### Imports and Useful Functions:"
   ]
  },
  {
   "cell_type": "code",
   "execution_count": 1,
   "metadata": {},
   "outputs": [],
   "source": [
    "import pandas as pd"
   ]
  },
  {
   "cell_type": "code",
   "execution_count": 2,
   "metadata": {},
   "outputs": [],
   "source": [
    "def null_cleaning(df):\n",
    "    null_cols = []\n",
    "    problem_cols = []\n",
    "    \n",
    "    # looping through the columns\n",
    "    for i in range(df.shape[1]):\n",
    "        # counting the number of null vals in the column\n",
    "        num_nulls = df.isnull().sum()[i]\n",
    "        # if there are more than 0 null values, add the column to our list, and see what % of the data it is\n",
    "        if num_nulls != 0:\n",
    "            col_name = df.columns[i]\n",
    "            percent_of_data = round(num_nulls/df.shape[0], 3)\n",
    "            null_cols.append([col_name, num_nulls, percent_of_data])\n",
    "            # if this column is over 20% nulls, then mark it as a problem column\n",
    "            if percent_of_data >= 0.2:\n",
    "                problem_cols.append(col_name)\n",
    "                \n",
    "    # what happens if we drop the problem columns?\n",
    "    df_no_prob_cols = df.drop(columns = problem_cols)\n",
    "    prob_cols_percent = df_no_prob_cols.shape[1] / df.shape[1]\n",
    "    \n",
    "    #what happens is we drop the problem rows too?\n",
    "    df_no_nulls = df_no_prob_cols.dropna()\n",
    "    prob_rows_percent = df_no_nulls.shape[0]/df_no_prob_cols.shape[0]\n",
    "    \n",
    "    print(\"The problem columns are: \", problem_cols)\n",
    "    print(\"After dropping the problem columns, you are left with \", prob_cols_percent, \"% of your columns.\")\n",
    "    print(\"After dropping the problem columns, and then dropping all rows containing nulls,\\n you are left with \", \n",
    "          prob_rows_percent, \"% of your rows.\")\n",
    "    return null_cols\n"
   ]
  },
  {
   "cell_type": "markdown",
   "metadata": {},
   "source": [
    "### FEMA Disasters list"
   ]
  },
  {
   "cell_type": "markdown",
   "metadata": {},
   "source": [
    "We will join the other data onto this one, so that each row (eventually) represents one disaster event, in one state, and its impact on one specific occupation."
   ]
  },
  {
   "cell_type": "code",
   "execution_count": 33,
   "metadata": {},
   "outputs": [],
   "source": [
    "disasters = pd.read_csv('../data/disasters_clean.csv')"
   ]
  },
  {
   "cell_type": "code",
   "execution_count": 35,
   "metadata": {},
   "outputs": [],
   "source": [
    "disasters.drop(columns = ['Unnamed: 0'], inplace = True)"
   ]
  },
  {
   "cell_type": "code",
   "execution_count": 36,
   "metadata": {},
   "outputs": [
    {
     "data": {
      "text/html": [
       "<div>\n",
       "<style scoped>\n",
       "    .dataframe tbody tr th:only-of-type {\n",
       "        vertical-align: middle;\n",
       "    }\n",
       "\n",
       "    .dataframe tbody tr th {\n",
       "        vertical-align: top;\n",
       "    }\n",
       "\n",
       "    .dataframe thead th {\n",
       "        text-align: right;\n",
       "    }\n",
       "</style>\n",
       "<table border=\"1\" class=\"dataframe\">\n",
       "  <thead>\n",
       "    <tr style=\"text-align: right;\">\n",
       "      <th></th>\n",
       "      <th>disasterNumber</th>\n",
       "      <th>state</th>\n",
       "      <th>incidentType</th>\n",
       "      <th>year</th>\n",
       "      <th>month</th>\n",
       "    </tr>\n",
       "  </thead>\n",
       "  <tbody>\n",
       "    <tr>\n",
       "      <th>0</th>\n",
       "      <td>495</td>\n",
       "      <td>MI</td>\n",
       "      <td>Severe Storm(s)</td>\n",
       "      <td>1976</td>\n",
       "      <td>3</td>\n",
       "    </tr>\n",
       "    <tr>\n",
       "      <th>1</th>\n",
       "      <td>494</td>\n",
       "      <td>NY</td>\n",
       "      <td>Severe Ice Storm</td>\n",
       "      <td>1976</td>\n",
       "      <td>3</td>\n",
       "    </tr>\n",
       "    <tr>\n",
       "      <th>2</th>\n",
       "      <td>496</td>\n",
       "      <td>WI</td>\n",
       "      <td>Flood</td>\n",
       "      <td>1976</td>\n",
       "      <td>3</td>\n",
       "    </tr>\n",
       "    <tr>\n",
       "      <th>3</th>\n",
       "      <td>497</td>\n",
       "      <td>OK</td>\n",
       "      <td>Tornado</td>\n",
       "      <td>1976</td>\n",
       "      <td>4</td>\n",
       "    </tr>\n",
       "    <tr>\n",
       "      <th>4</th>\n",
       "      <td>498</td>\n",
       "      <td>AR</td>\n",
       "      <td>Tornado</td>\n",
       "      <td>1976</td>\n",
       "      <td>4</td>\n",
       "    </tr>\n",
       "  </tbody>\n",
       "</table>\n",
       "</div>"
      ],
      "text/plain": [
       "   disasterNumber state      incidentType  year  month\n",
       "0             495    MI   Severe Storm(s)  1976      3\n",
       "1             494    NY  Severe Ice Storm  1976      3\n",
       "2             496    WI             Flood  1976      3\n",
       "3             497    OK           Tornado  1976      4\n",
       "4             498    AR           Tornado  1976      4"
      ]
     },
     "execution_count": 36,
     "metadata": {},
     "output_type": "execute_result"
    }
   ],
   "source": [
    "disasters.head()"
   ]
  },
  {
   "cell_type": "markdown",
   "metadata": {},
   "source": [
    "Our other data only goes as far back as 1997, so we restrict to 1997 on:"
   ]
  },
  {
   "cell_type": "code",
   "execution_count": 37,
   "metadata": {},
   "outputs": [],
   "source": [
    "disaster_df = disasters[(disasters['year'] >= 1997) & (disasters['year'] < 2020)]"
   ]
  },
  {
   "cell_type": "code",
   "execution_count": 39,
   "metadata": {},
   "outputs": [
    {
     "data": {
      "text/plain": [
       "(2675, 5)"
      ]
     },
     "execution_count": 39,
     "metadata": {},
     "output_type": "execute_result"
    }
   ],
   "source": [
    "disaster_df.shape"
   ]
  },
  {
   "cell_type": "code",
   "execution_count": 40,
   "metadata": {},
   "outputs": [
    {
     "data": {
      "text/plain": [
       "disasterNumber     int64\n",
       "state             object\n",
       "incidentType      object\n",
       "year               int64\n",
       "month              int64\n",
       "dtype: object"
      ]
     },
     "execution_count": 40,
     "metadata": {},
     "output_type": "execute_result"
    }
   ],
   "source": [
    "disaster_df.dtypes"
   ]
  },
  {
   "cell_type": "markdown",
   "metadata": {},
   "source": [
    "The following lines of code with the dataframe \"d\" process the declaration date as a datetime object, and save the date one month before adn two months after each event so that wage change can be (eventually) calculated across that time period"
   ]
  },
  {
   "cell_type": "code",
   "execution_count": 41,
   "metadata": {},
   "outputs": [],
   "source": [
    "d = disaster_df.astype({'year':'str','month':'str'})"
   ]
  },
  {
   "cell_type": "code",
   "execution_count": 43,
   "metadata": {},
   "outputs": [],
   "source": [
    "d['y_m'] = d['year']+d['month']"
   ]
  },
  {
   "cell_type": "code",
   "execution_count": 44,
   "metadata": {},
   "outputs": [],
   "source": [
    "d['y_m'] = pd.to_datetime(d['y_m'],format = '%Y%m')"
   ]
  },
  {
   "cell_type": "code",
   "execution_count": 45,
   "metadata": {},
   "outputs": [
    {
     "data": {
      "text/plain": [
       "disasterNumber             int64\n",
       "state                     object\n",
       "incidentType              object\n",
       "year                      object\n",
       "month                     object\n",
       "y_m               datetime64[ns]\n",
       "dtype: object"
      ]
     },
     "execution_count": 45,
     "metadata": {},
     "output_type": "execute_result"
    }
   ],
   "source": [
    "d.dtypes"
   ]
  },
  {
   "cell_type": "code",
   "execution_count": 47,
   "metadata": {},
   "outputs": [],
   "source": [
    "d['date_month_before'] = d['y_m'] - pd.DateOffset(months=1)"
   ]
  },
  {
   "cell_type": "code",
   "execution_count": 49,
   "metadata": {},
   "outputs": [],
   "source": [
    "d['date_two_months_after'] = d['y_m'] + pd.DateOffset(months=2)"
   ]
  },
  {
   "cell_type": "code",
   "execution_count": 51,
   "metadata": {},
   "outputs": [],
   "source": [
    "d['month_before'] = [t.month for t in d['date_month_before']]"
   ]
  },
  {
   "cell_type": "code",
   "execution_count": 52,
   "metadata": {},
   "outputs": [],
   "source": [
    "d['year_before'] = [t.year for t in d['date_month_before']]"
   ]
  },
  {
   "cell_type": "code",
   "execution_count": 53,
   "metadata": {},
   "outputs": [],
   "source": [
    "d['two_months_after'] = [t.month for t in d['date_two_months_after']]"
   ]
  },
  {
   "cell_type": "code",
   "execution_count": 54,
   "metadata": {},
   "outputs": [],
   "source": [
    "d['year_two_months_after'] = [t.year for t in d['date_two_months_after']]"
   ]
  },
  {
   "cell_type": "code",
   "execution_count": 55,
   "metadata": {},
   "outputs": [
    {
     "data": {
      "text/html": [
       "<div>\n",
       "<style scoped>\n",
       "    .dataframe tbody tr th:only-of-type {\n",
       "        vertical-align: middle;\n",
       "    }\n",
       "\n",
       "    .dataframe tbody tr th {\n",
       "        vertical-align: top;\n",
       "    }\n",
       "\n",
       "    .dataframe thead th {\n",
       "        text-align: right;\n",
       "    }\n",
       "</style>\n",
       "<table border=\"1\" class=\"dataframe\">\n",
       "  <thead>\n",
       "    <tr style=\"text-align: right;\">\n",
       "      <th></th>\n",
       "      <th>disasterNumber</th>\n",
       "      <th>state</th>\n",
       "      <th>incidentType</th>\n",
       "      <th>year</th>\n",
       "      <th>month</th>\n",
       "      <th>y_m</th>\n",
       "      <th>date_month_before</th>\n",
       "      <th>date_two_months_after</th>\n",
       "      <th>month_before</th>\n",
       "      <th>year_before</th>\n",
       "      <th>two_months_after</th>\n",
       "      <th>year_two_months_after</th>\n",
       "    </tr>\n",
       "  </thead>\n",
       "  <tbody>\n",
       "    <tr>\n",
       "      <th>392</th>\n",
       "      <td>1190</td>\n",
       "      <td>NE</td>\n",
       "      <td>Severe Storm(s)</td>\n",
       "      <td>1997</td>\n",
       "      <td>11</td>\n",
       "      <td>1997-11-01</td>\n",
       "      <td>1997-10-01</td>\n",
       "      <td>1998-01-01</td>\n",
       "      <td>10</td>\n",
       "      <td>1997</td>\n",
       "      <td>1</td>\n",
       "      <td>1998</td>\n",
       "    </tr>\n",
       "    <tr>\n",
       "      <th>399</th>\n",
       "      <td>1173</td>\n",
       "      <td>SD</td>\n",
       "      <td>Flood</td>\n",
       "      <td>1997</td>\n",
       "      <td>4</td>\n",
       "      <td>1997-04-01</td>\n",
       "      <td>1997-03-01</td>\n",
       "      <td>1997-06-01</td>\n",
       "      <td>3</td>\n",
       "      <td>1997</td>\n",
       "      <td>6</td>\n",
       "      <td>1997</td>\n",
       "    </tr>\n",
       "    <tr>\n",
       "      <th>401</th>\n",
       "      <td>1174</td>\n",
       "      <td>ND</td>\n",
       "      <td>Flood</td>\n",
       "      <td>1997</td>\n",
       "      <td>4</td>\n",
       "      <td>1997-04-01</td>\n",
       "      <td>1997-03-01</td>\n",
       "      <td>1997-06-01</td>\n",
       "      <td>3</td>\n",
       "      <td>1997</td>\n",
       "      <td>6</td>\n",
       "      <td>1997</td>\n",
       "    </tr>\n",
       "    <tr>\n",
       "      <th>408</th>\n",
       "      <td>1157</td>\n",
       "      <td>ND</td>\n",
       "      <td>Severe Storm(s)</td>\n",
       "      <td>1997</td>\n",
       "      <td>1</td>\n",
       "      <td>1997-01-01</td>\n",
       "      <td>1996-12-01</td>\n",
       "      <td>1997-03-01</td>\n",
       "      <td>12</td>\n",
       "      <td>1996</td>\n",
       "      <td>3</td>\n",
       "      <td>1997</td>\n",
       "    </tr>\n",
       "    <tr>\n",
       "      <th>421</th>\n",
       "      <td>1208</td>\n",
       "      <td>AL</td>\n",
       "      <td>Severe Storm(s)</td>\n",
       "      <td>1998</td>\n",
       "      <td>3</td>\n",
       "      <td>1998-03-01</td>\n",
       "      <td>1998-02-01</td>\n",
       "      <td>1998-05-01</td>\n",
       "      <td>2</td>\n",
       "      <td>1998</td>\n",
       "      <td>5</td>\n",
       "      <td>1998</td>\n",
       "    </tr>\n",
       "  </tbody>\n",
       "</table>\n",
       "</div>"
      ],
      "text/plain": [
       "     disasterNumber state     incidentType  year month        y_m  \\\n",
       "392            1190    NE  Severe Storm(s)  1997    11 1997-11-01   \n",
       "399            1173    SD            Flood  1997     4 1997-04-01   \n",
       "401            1174    ND            Flood  1997     4 1997-04-01   \n",
       "408            1157    ND  Severe Storm(s)  1997     1 1997-01-01   \n",
       "421            1208    AL  Severe Storm(s)  1998     3 1998-03-01   \n",
       "\n",
       "    date_month_before date_two_months_after  month_before  year_before  \\\n",
       "392        1997-10-01            1998-01-01            10         1997   \n",
       "399        1997-03-01            1997-06-01             3         1997   \n",
       "401        1997-03-01            1997-06-01             3         1997   \n",
       "408        1996-12-01            1997-03-01            12         1996   \n",
       "421        1998-02-01            1998-05-01             2         1998   \n",
       "\n",
       "     two_months_after  year_two_months_after  \n",
       "392                 1                   1998  \n",
       "399                 6                   1997  \n",
       "401                 6                   1997  \n",
       "408                 3                   1997  \n",
       "421                 5                   1998  "
      ]
     },
     "execution_count": 55,
     "metadata": {},
     "output_type": "execute_result"
    }
   ],
   "source": [
    "d.head()"
   ]
  },
  {
   "cell_type": "code",
   "execution_count": 56,
   "metadata": {},
   "outputs": [],
   "source": [
    "d.drop(columns = ['y_m','date_month_before','date_two_months_after'], inplace = True)"
   ]
  },
  {
   "cell_type": "code",
   "execution_count": 57,
   "metadata": {},
   "outputs": [
    {
     "data": {
      "text/html": [
       "<div>\n",
       "<style scoped>\n",
       "    .dataframe tbody tr th:only-of-type {\n",
       "        vertical-align: middle;\n",
       "    }\n",
       "\n",
       "    .dataframe tbody tr th {\n",
       "        vertical-align: top;\n",
       "    }\n",
       "\n",
       "    .dataframe thead th {\n",
       "        text-align: right;\n",
       "    }\n",
       "</style>\n",
       "<table border=\"1\" class=\"dataframe\">\n",
       "  <thead>\n",
       "    <tr style=\"text-align: right;\">\n",
       "      <th></th>\n",
       "      <th>disasterNumber</th>\n",
       "      <th>state</th>\n",
       "      <th>incidentType</th>\n",
       "      <th>year</th>\n",
       "      <th>month</th>\n",
       "      <th>month_before</th>\n",
       "      <th>year_before</th>\n",
       "      <th>two_months_after</th>\n",
       "      <th>year_two_months_after</th>\n",
       "    </tr>\n",
       "  </thead>\n",
       "  <tbody>\n",
       "    <tr>\n",
       "      <th>392</th>\n",
       "      <td>1190</td>\n",
       "      <td>NE</td>\n",
       "      <td>Severe Storm(s)</td>\n",
       "      <td>1997</td>\n",
       "      <td>11</td>\n",
       "      <td>10</td>\n",
       "      <td>1997</td>\n",
       "      <td>1</td>\n",
       "      <td>1998</td>\n",
       "    </tr>\n",
       "    <tr>\n",
       "      <th>399</th>\n",
       "      <td>1173</td>\n",
       "      <td>SD</td>\n",
       "      <td>Flood</td>\n",
       "      <td>1997</td>\n",
       "      <td>4</td>\n",
       "      <td>3</td>\n",
       "      <td>1997</td>\n",
       "      <td>6</td>\n",
       "      <td>1997</td>\n",
       "    </tr>\n",
       "    <tr>\n",
       "      <th>401</th>\n",
       "      <td>1174</td>\n",
       "      <td>ND</td>\n",
       "      <td>Flood</td>\n",
       "      <td>1997</td>\n",
       "      <td>4</td>\n",
       "      <td>3</td>\n",
       "      <td>1997</td>\n",
       "      <td>6</td>\n",
       "      <td>1997</td>\n",
       "    </tr>\n",
       "    <tr>\n",
       "      <th>408</th>\n",
       "      <td>1157</td>\n",
       "      <td>ND</td>\n",
       "      <td>Severe Storm(s)</td>\n",
       "      <td>1997</td>\n",
       "      <td>1</td>\n",
       "      <td>12</td>\n",
       "      <td>1996</td>\n",
       "      <td>3</td>\n",
       "      <td>1997</td>\n",
       "    </tr>\n",
       "    <tr>\n",
       "      <th>421</th>\n",
       "      <td>1208</td>\n",
       "      <td>AL</td>\n",
       "      <td>Severe Storm(s)</td>\n",
       "      <td>1998</td>\n",
       "      <td>3</td>\n",
       "      <td>2</td>\n",
       "      <td>1998</td>\n",
       "      <td>5</td>\n",
       "      <td>1998</td>\n",
       "    </tr>\n",
       "  </tbody>\n",
       "</table>\n",
       "</div>"
      ],
      "text/plain": [
       "     disasterNumber state     incidentType  year month  month_before  \\\n",
       "392            1190    NE  Severe Storm(s)  1997    11            10   \n",
       "399            1173    SD            Flood  1997     4             3   \n",
       "401            1174    ND            Flood  1997     4             3   \n",
       "408            1157    ND  Severe Storm(s)  1997     1            12   \n",
       "421            1208    AL  Severe Storm(s)  1998     3             2   \n",
       "\n",
       "     year_before  two_months_after  year_two_months_after  \n",
       "392         1997                 1                   1998  \n",
       "399         1997                 6                   1997  \n",
       "401         1997                 6                   1997  \n",
       "408         1996                 3                   1997  \n",
       "421         1998                 5                   1998  "
      ]
     },
     "execution_count": 57,
     "metadata": {},
     "output_type": "execute_result"
    }
   ],
   "source": [
    "d.head()"
   ]
  },
  {
   "cell_type": "code",
   "execution_count": 68,
   "metadata": {},
   "outputs": [],
   "source": [
    "d = d.astype({'year':'float64','month':'float64'})"
   ]
  },
  {
   "cell_type": "markdown",
   "metadata": {},
   "source": [
    "### Joining occupational (job) statistics:"
   ]
  },
  {
   "cell_type": "code",
   "execution_count": 58,
   "metadata": {},
   "outputs": [],
   "source": [
    "jobs_df = pd.read_csv('../data/occupation_99_to_19.csv')"
   ]
  },
  {
   "cell_type": "code",
   "execution_count": 59,
   "metadata": {},
   "outputs": [
    {
     "data": {
      "text/html": [
       "<div>\n",
       "<style scoped>\n",
       "    .dataframe tbody tr th:only-of-type {\n",
       "        vertical-align: middle;\n",
       "    }\n",
       "\n",
       "    .dataframe tbody tr th {\n",
       "        vertical-align: top;\n",
       "    }\n",
       "\n",
       "    .dataframe thead th {\n",
       "        text-align: right;\n",
       "    }\n",
       "</style>\n",
       "<table border=\"1\" class=\"dataframe\">\n",
       "  <thead>\n",
       "    <tr style=\"text-align: right;\">\n",
       "      <th></th>\n",
       "      <th>st</th>\n",
       "      <th>occ_code</th>\n",
       "      <th>occ_title</th>\n",
       "      <th>tot_emp</th>\n",
       "      <th>h_mean</th>\n",
       "      <th>a_mean</th>\n",
       "      <th>year</th>\n",
       "    </tr>\n",
       "  </thead>\n",
       "  <tbody>\n",
       "    <tr>\n",
       "      <th>0</th>\n",
       "      <td>AL</td>\n",
       "      <td>10000</td>\n",
       "      <td>Managerial and Administrative Occupations</td>\n",
       "      <td>NaN</td>\n",
       "      <td>NaN</td>\n",
       "      <td>NaN</td>\n",
       "      <td>NaN</td>\n",
       "    </tr>\n",
       "    <tr>\n",
       "      <th>1</th>\n",
       "      <td>AL</td>\n",
       "      <td>13000</td>\n",
       "      <td>Staff and Administrative Specialty Managerial ...</td>\n",
       "      <td>**</td>\n",
       "      <td>18.04</td>\n",
       "      <td>37530</td>\n",
       "      <td>1997.0</td>\n",
       "    </tr>\n",
       "    <tr>\n",
       "      <th>2</th>\n",
       "      <td>AL</td>\n",
       "      <td>13002</td>\n",
       "      <td>Financial Managers</td>\n",
       "      <td>8140</td>\n",
       "      <td>24.23</td>\n",
       "      <td>50400</td>\n",
       "      <td>1997.0</td>\n",
       "    </tr>\n",
       "    <tr>\n",
       "      <th>3</th>\n",
       "      <td>AL</td>\n",
       "      <td>13005</td>\n",
       "      <td>Personnel, Training, and Labor Relations Managers</td>\n",
       "      <td>2760</td>\n",
       "      <td>20.84</td>\n",
       "      <td>43350</td>\n",
       "      <td>1997.0</td>\n",
       "    </tr>\n",
       "    <tr>\n",
       "      <th>4</th>\n",
       "      <td>AL</td>\n",
       "      <td>13008</td>\n",
       "      <td>Purchasing Managers</td>\n",
       "      <td>2370</td>\n",
       "      <td>19.07</td>\n",
       "      <td>39660</td>\n",
       "      <td>1997.0</td>\n",
       "    </tr>\n",
       "  </tbody>\n",
       "</table>\n",
       "</div>"
      ],
      "text/plain": [
       "   st occ_code                                          occ_title tot_emp  \\\n",
       "0  AL    10000          Managerial and Administrative Occupations     NaN   \n",
       "1  AL    13000  Staff and Administrative Specialty Managerial ...      **   \n",
       "2  AL    13002                                 Financial Managers    8140   \n",
       "3  AL    13005  Personnel, Training, and Labor Relations Managers    2760   \n",
       "4  AL    13008                                Purchasing Managers    2370   \n",
       "\n",
       "  h_mean a_mean    year  \n",
       "0    NaN    NaN     NaN  \n",
       "1  18.04  37530  1997.0  \n",
       "2  24.23  50400  1997.0  \n",
       "3  20.84  43350  1997.0  \n",
       "4  19.07  39660  1997.0  "
      ]
     },
     "execution_count": 59,
     "metadata": {},
     "output_type": "execute_result"
    }
   ],
   "source": [
    "jobs_df.head()"
   ]
  },
  {
   "cell_type": "markdown",
   "metadata": {},
   "source": [
    "Checking null values and what percentage of the data they are: "
   ]
  },
  {
   "cell_type": "code",
   "execution_count": 60,
   "metadata": {},
   "outputs": [
    {
     "name": "stdout",
     "output_type": "stream",
     "text": [
      "The problem columns are:  []\n",
      "After dropping the problem columns, you are left with  1.0 % of your columns.\n",
      "After dropping the problem columns, and then dropping all rows containing nulls,\n",
      " you are left with  0.9990797288365021 % of your rows.\n"
     ]
    },
    {
     "data": {
      "text/plain": [
       "[['tot_emp', 756, 0.001],\n",
       " ['h_mean', 756, 0.001],\n",
       " ['a_mean', 756, 0.001],\n",
       " ['year', 756, 0.001]]"
      ]
     },
     "execution_count": 60,
     "metadata": {},
     "output_type": "execute_result"
    }
   ],
   "source": [
    "null_cleaning(jobs_df)"
   ]
  },
  {
   "cell_type": "markdown",
   "metadata": {},
   "source": [
    "Nulls make up less than 1% of the occupational data, so we drop them: "
   ]
  },
  {
   "cell_type": "code",
   "execution_count": 61,
   "metadata": {},
   "outputs": [],
   "source": [
    "jobs_df.dropna(inplace = True)"
   ]
  },
  {
   "cell_type": "code",
   "execution_count": 62,
   "metadata": {},
   "outputs": [],
   "source": [
    "# renaming so that we can join on the state and year columns\n",
    "jobs_df.rename(columns = {'st':'state'}, inplace = True)"
   ]
  },
  {
   "cell_type": "code",
   "execution_count": 69,
   "metadata": {},
   "outputs": [],
   "source": [
    "df = d.merge(jobs_df, on = ['state','year'])"
   ]
  },
  {
   "cell_type": "code",
   "execution_count": 71,
   "metadata": {},
   "outputs": [
    {
     "data": {
      "text/plain": [
       "(1780516, 14)"
      ]
     },
     "execution_count": 71,
     "metadata": {},
     "output_type": "execute_result"
    }
   ],
   "source": [
    "df.shape"
   ]
  },
  {
   "cell_type": "code",
   "execution_count": 72,
   "metadata": {},
   "outputs": [
    {
     "data": {
      "text/plain": [
       "Index(['disasterNumber', 'state', 'incidentType', 'year', 'month',\n",
       "       'month_before', 'year_before', 'two_months_after',\n",
       "       'year_two_months_after', 'occ_code', 'occ_title', 'tot_emp', 'h_mean',\n",
       "       'a_mean'],\n",
       "      dtype='object')"
      ]
     },
     "execution_count": 72,
     "metadata": {},
     "output_type": "execute_result"
    }
   ],
   "source": [
    "df.columns"
   ]
  },
  {
   "cell_type": "code",
   "execution_count": null,
   "metadata": {},
   "outputs": [],
   "source": [
    "# saving this as data in case we want to play around with it\n",
    "df.to_csv('../data/disasters_occupations_clean.csv', index = False)"
   ]
  },
  {
   "cell_type": "markdown",
   "metadata": {},
   "source": [
    "### Joining unemployment rates: "
   ]
  },
  {
   "cell_type": "code",
   "execution_count": 89,
   "metadata": {},
   "outputs": [],
   "source": [
    "unemployment_df = pd.read_csv('../data/unemployment_by_state_1976.csv')"
   ]
  },
  {
   "cell_type": "code",
   "execution_count": 90,
   "metadata": {},
   "outputs": [
    {
     "data": {
      "text/html": [
       "<div>\n",
       "<style scoped>\n",
       "    .dataframe tbody tr th:only-of-type {\n",
       "        vertical-align: middle;\n",
       "    }\n",
       "\n",
       "    .dataframe tbody tr th {\n",
       "        vertical-align: top;\n",
       "    }\n",
       "\n",
       "    .dataframe thead th {\n",
       "        text-align: right;\n",
       "    }\n",
       "</style>\n",
       "<table border=\"1\" class=\"dataframe\">\n",
       "  <thead>\n",
       "    <tr style=\"text-align: right;\">\n",
       "      <th></th>\n",
       "      <th>FIPS_Code</th>\n",
       "      <th>state_and_area</th>\n",
       "      <th>period_year</th>\n",
       "      <th>period_month</th>\n",
       "      <th>area_population</th>\n",
       "      <th>civ_lf_total</th>\n",
       "      <th>civ_lf_total_%</th>\n",
       "      <th>civ_lf_employed</th>\n",
       "      <th>civ_lf_employed_%</th>\n",
       "      <th>civ_lf_unemployed</th>\n",
       "      <th>civ_lf_unemployed_%</th>\n",
       "    </tr>\n",
       "  </thead>\n",
       "  <tbody>\n",
       "    <tr>\n",
       "      <th>0</th>\n",
       "      <td>1</td>\n",
       "      <td>Alabama</td>\n",
       "      <td>1976</td>\n",
       "      <td>1</td>\n",
       "      <td>2605000</td>\n",
       "      <td>1492409</td>\n",
       "      <td>57.3</td>\n",
       "      <td>1392154</td>\n",
       "      <td>53.4</td>\n",
       "      <td>100255</td>\n",
       "      <td>6.7</td>\n",
       "    </tr>\n",
       "    <tr>\n",
       "      <th>1</th>\n",
       "      <td>2</td>\n",
       "      <td>Alaska</td>\n",
       "      <td>1976</td>\n",
       "      <td>1</td>\n",
       "      <td>232000</td>\n",
       "      <td>159154</td>\n",
       "      <td>68.6</td>\n",
       "      <td>147809</td>\n",
       "      <td>63.7</td>\n",
       "      <td>11345</td>\n",
       "      <td>7.1</td>\n",
       "    </tr>\n",
       "    <tr>\n",
       "      <th>2</th>\n",
       "      <td>4</td>\n",
       "      <td>Arizona</td>\n",
       "      <td>1976</td>\n",
       "      <td>1</td>\n",
       "      <td>1621000</td>\n",
       "      <td>972413</td>\n",
       "      <td>60.0</td>\n",
       "      <td>872738</td>\n",
       "      <td>53.8</td>\n",
       "      <td>99675</td>\n",
       "      <td>10.3</td>\n",
       "    </tr>\n",
       "    <tr>\n",
       "      <th>3</th>\n",
       "      <td>5</td>\n",
       "      <td>Arkansas</td>\n",
       "      <td>1976</td>\n",
       "      <td>1</td>\n",
       "      <td>1536000</td>\n",
       "      <td>882835</td>\n",
       "      <td>57.5</td>\n",
       "      <td>817756</td>\n",
       "      <td>53.2</td>\n",
       "      <td>65079</td>\n",
       "      <td>7.4</td>\n",
       "    </tr>\n",
       "    <tr>\n",
       "      <th>4</th>\n",
       "      <td>6</td>\n",
       "      <td>California</td>\n",
       "      <td>1976</td>\n",
       "      <td>1</td>\n",
       "      <td>15621000</td>\n",
       "      <td>9781720</td>\n",
       "      <td>62.6</td>\n",
       "      <td>8892663</td>\n",
       "      <td>56.9</td>\n",
       "      <td>889057</td>\n",
       "      <td>9.1</td>\n",
       "    </tr>\n",
       "  </tbody>\n",
       "</table>\n",
       "</div>"
      ],
      "text/plain": [
       "   FIPS_Code state_and_area  period_year  period_month  area_population  \\\n",
       "0          1        Alabama         1976             1          2605000   \n",
       "1          2         Alaska         1976             1           232000   \n",
       "2          4        Arizona         1976             1          1621000   \n",
       "3          5       Arkansas         1976             1          1536000   \n",
       "4          6     California         1976             1         15621000   \n",
       "\n",
       "   civ_lf_total  civ_lf_total_%  civ_lf_employed  civ_lf_employed_%  \\\n",
       "0       1492409            57.3          1392154               53.4   \n",
       "1        159154            68.6           147809               63.7   \n",
       "2        972413            60.0           872738               53.8   \n",
       "3        882835            57.5           817756               53.2   \n",
       "4       9781720            62.6          8892663               56.9   \n",
       "\n",
       "   civ_lf_unemployed  civ_lf_unemployed_%  \n",
       "0             100255                  6.7  \n",
       "1              11345                  7.1  \n",
       "2              99675                 10.3  \n",
       "3              65079                  7.4  \n",
       "4             889057                  9.1  "
      ]
     },
     "execution_count": 90,
     "metadata": {},
     "output_type": "execute_result"
    }
   ],
   "source": [
    "unemployment_df.head()"
   ]
  },
  {
   "cell_type": "code",
   "execution_count": 91,
   "metadata": {},
   "outputs": [],
   "source": [
    "unemployment_df.rename(columns = {'state_and_area':'state',\n",
    "                                  'period_year':'year',\n",
    "                                  'period_month':'month'}, \n",
    "                       inplace = True)"
   ]
  },
  {
   "cell_type": "code",
   "execution_count": 92,
   "metadata": {},
   "outputs": [
    {
     "data": {
      "text/plain": [
       "Index(['FIPS_Code', 'state', 'year', 'month', 'area_population',\n",
       "       'civ_lf_total', 'civ_lf_total_%', 'civ_lf_employed',\n",
       "       'civ_lf_employed_%', 'civ_lf_unemployed', 'civ_lf_unemployed_%'],\n",
       "      dtype='object')"
      ]
     },
     "execution_count": 92,
     "metadata": {},
     "output_type": "execute_result"
    }
   ],
   "source": [
    "unemployment_df.columns"
   ]
  },
  {
   "cell_type": "code",
   "execution_count": 93,
   "metadata": {},
   "outputs": [],
   "source": [
    "features = ['state', 'year', 'month', 'area_population','civ_lf_employed_%']\n",
    "unemployment_df = unemployment_df[features].copy()"
   ]
  },
  {
   "cell_type": "code",
   "execution_count": 94,
   "metadata": {},
   "outputs": [
    {
     "data": {
      "text/html": [
       "<div>\n",
       "<style scoped>\n",
       "    .dataframe tbody tr th:only-of-type {\n",
       "        vertical-align: middle;\n",
       "    }\n",
       "\n",
       "    .dataframe tbody tr th {\n",
       "        vertical-align: top;\n",
       "    }\n",
       "\n",
       "    .dataframe thead th {\n",
       "        text-align: right;\n",
       "    }\n",
       "</style>\n",
       "<table border=\"1\" class=\"dataframe\">\n",
       "  <thead>\n",
       "    <tr style=\"text-align: right;\">\n",
       "      <th></th>\n",
       "      <th>state</th>\n",
       "      <th>year</th>\n",
       "      <th>month</th>\n",
       "      <th>area_population</th>\n",
       "      <th>civ_lf_employed_%</th>\n",
       "    </tr>\n",
       "  </thead>\n",
       "  <tbody>\n",
       "    <tr>\n",
       "      <th>0</th>\n",
       "      <td>Alabama</td>\n",
       "      <td>1976</td>\n",
       "      <td>1</td>\n",
       "      <td>2605000</td>\n",
       "      <td>53.4</td>\n",
       "    </tr>\n",
       "    <tr>\n",
       "      <th>1</th>\n",
       "      <td>Alaska</td>\n",
       "      <td>1976</td>\n",
       "      <td>1</td>\n",
       "      <td>232000</td>\n",
       "      <td>63.7</td>\n",
       "    </tr>\n",
       "    <tr>\n",
       "      <th>2</th>\n",
       "      <td>Arizona</td>\n",
       "      <td>1976</td>\n",
       "      <td>1</td>\n",
       "      <td>1621000</td>\n",
       "      <td>53.8</td>\n",
       "    </tr>\n",
       "    <tr>\n",
       "      <th>3</th>\n",
       "      <td>Arkansas</td>\n",
       "      <td>1976</td>\n",
       "      <td>1</td>\n",
       "      <td>1536000</td>\n",
       "      <td>53.2</td>\n",
       "    </tr>\n",
       "    <tr>\n",
       "      <th>4</th>\n",
       "      <td>California</td>\n",
       "      <td>1976</td>\n",
       "      <td>1</td>\n",
       "      <td>15621000</td>\n",
       "      <td>56.9</td>\n",
       "    </tr>\n",
       "  </tbody>\n",
       "</table>\n",
       "</div>"
      ],
      "text/plain": [
       "        state  year  month  area_population  civ_lf_employed_%\n",
       "0     Alabama  1976      1          2605000               53.4\n",
       "1      Alaska  1976      1           232000               63.7\n",
       "2     Arizona  1976      1          1621000               53.8\n",
       "3    Arkansas  1976      1          1536000               53.2\n",
       "4  California  1976      1         15621000               56.9"
      ]
     },
     "execution_count": 94,
     "metadata": {},
     "output_type": "execute_result"
    }
   ],
   "source": [
    "unemployment_df.head()"
   ]
  },
  {
   "cell_type": "markdown",
   "metadata": {},
   "source": [
    "The states are recorded by their abbreviations in all other dataframes except the employment stats data, so we must change that:"
   ]
  },
  {
   "cell_type": "code",
   "execution_count": 95,
   "metadata": {},
   "outputs": [],
   "source": [
    "# I got this from http://code.activestate.com/recipes/577305-python-dictionary-of-us-states-and-territories/\n",
    "\n",
    "states_dict = {\n",
    "        'AK': 'Alaska',\n",
    "        'AL': 'Alabama',\n",
    "        'AR': 'Arkansas',\n",
    "        'AS': 'American Samoa',\n",
    "        'AZ': 'Arizona',\n",
    "        'CA': 'California',\n",
    "        'CO': 'Colorado',\n",
    "        'CT': 'Connecticut',\n",
    "        'DC': 'District of Columbia',\n",
    "        'DE': 'Delaware',\n",
    "        'FL': 'Florida',\n",
    "        'GA': 'Georgia',\n",
    "        'GU': 'Guam',\n",
    "        'HI': 'Hawaii',\n",
    "        'IA': 'Iowa',\n",
    "        'ID': 'Idaho',\n",
    "        'IL': 'Illinois',\n",
    "        'IN': 'Indiana',\n",
    "        'KS': 'Kansas',\n",
    "        'KY': 'Kentucky',\n",
    "        'LA': 'Louisiana',\n",
    "        'MA': 'Massachusetts',\n",
    "        'MD': 'Maryland',\n",
    "        'ME': 'Maine',\n",
    "        'MI': 'Michigan',\n",
    "        'MN': 'Minnesota',\n",
    "        'MO': 'Missouri',\n",
    "        'MP': 'Northern Mariana Islands',\n",
    "        'MS': 'Mississippi',\n",
    "        'MT': 'Montana',\n",
    "        'NA': 'National',\n",
    "        'NC': 'North Carolina',\n",
    "        'ND': 'North Dakota',\n",
    "        'NE': 'Nebraska',\n",
    "        'NH': 'New Hampshire',\n",
    "        'NJ': 'New Jersey',\n",
    "        'NM': 'New Mexico',\n",
    "        'NV': 'Nevada',\n",
    "        'NY': 'New York',\n",
    "        'OH': 'Ohio',\n",
    "        'OK': 'Oklahoma',\n",
    "        'OR': 'Oregon',\n",
    "        'PA': 'Pennsylvania',\n",
    "        'PR': 'Puerto Rico',\n",
    "        'RI': 'Rhode Island',\n",
    "        'SC': 'South Carolina',\n",
    "        'SD': 'South Dakota',\n",
    "        'TN': 'Tennessee',\n",
    "        'TX': 'Texas',\n",
    "        'UT': 'Utah',\n",
    "        'VA': 'Virginia',\n",
    "        'VI': 'Virgin Islands',\n",
    "        'VT': 'Vermont',\n",
    "        'WA': 'Washington',\n",
    "        'WI': 'Wisconsin',\n",
    "        'WV': 'West Virginia',\n",
    "        'WY': 'Wyoming'\n",
    "}"
   ]
  },
  {
   "cell_type": "code",
   "execution_count": 96,
   "metadata": {},
   "outputs": [
    {
     "data": {
      "text/plain": [
       "{'Alaska': 'AK',\n",
       " 'Alabama': 'AL',\n",
       " 'Arkansas': 'AR',\n",
       " 'American Samoa': 'AS',\n",
       " 'Arizona': 'AZ',\n",
       " 'California': 'CA',\n",
       " 'Colorado': 'CO',\n",
       " 'Connecticut': 'CT',\n",
       " 'District of Columbia': 'DC',\n",
       " 'Delaware': 'DE',\n",
       " 'Florida': 'FL',\n",
       " 'Georgia': 'GA',\n",
       " 'Guam': 'GU',\n",
       " 'Hawaii': 'HI',\n",
       " 'Iowa': 'IA',\n",
       " 'Idaho': 'ID',\n",
       " 'Illinois': 'IL',\n",
       " 'Indiana': 'IN',\n",
       " 'Kansas': 'KS',\n",
       " 'Kentucky': 'KY',\n",
       " 'Louisiana': 'LA',\n",
       " 'Massachusetts': 'MA',\n",
       " 'Maryland': 'MD',\n",
       " 'Maine': 'ME',\n",
       " 'Michigan': 'MI',\n",
       " 'Minnesota': 'MN',\n",
       " 'Missouri': 'MO',\n",
       " 'Northern Mariana Islands': 'MP',\n",
       " 'Mississippi': 'MS',\n",
       " 'Montana': 'MT',\n",
       " 'National': 'NA',\n",
       " 'North Carolina': 'NC',\n",
       " 'North Dakota': 'ND',\n",
       " 'Nebraska': 'NE',\n",
       " 'New Hampshire': 'NH',\n",
       " 'New Jersey': 'NJ',\n",
       " 'New Mexico': 'NM',\n",
       " 'Nevada': 'NV',\n",
       " 'New York': 'NY',\n",
       " 'Ohio': 'OH',\n",
       " 'Oklahoma': 'OK',\n",
       " 'Oregon': 'OR',\n",
       " 'Pennsylvania': 'PA',\n",
       " 'Puerto Rico': 'PR',\n",
       " 'Rhode Island': 'RI',\n",
       " 'South Carolina': 'SC',\n",
       " 'South Dakota': 'SD',\n",
       " 'Tennessee': 'TN',\n",
       " 'Texas': 'TX',\n",
       " 'Utah': 'UT',\n",
       " 'Virginia': 'VA',\n",
       " 'Virgin Islands': 'VI',\n",
       " 'Vermont': 'VT',\n",
       " 'Washington': 'WA',\n",
       " 'Wisconsin': 'WI',\n",
       " 'West Virginia': 'WV',\n",
       " 'Wyoming': 'WY'}"
      ]
     },
     "execution_count": 96,
     "metadata": {},
     "output_type": "execute_result"
    }
   ],
   "source": [
    "# swapping the key-value pairs:\n",
    "\n",
    "new_states_dict = dict([(value, key) for key, value in states_dict.items()])\n",
    "new_states_dict"
   ]
  },
  {
   "cell_type": "code",
   "execution_count": 97,
   "metadata": {},
   "outputs": [],
   "source": [
    "unemployment_df['state'] = unemployment_df['state'].map(new_states_dict)"
   ]
  },
  {
   "cell_type": "code",
   "execution_count": 98,
   "metadata": {},
   "outputs": [
    {
     "data": {
      "text/html": [
       "<div>\n",
       "<style scoped>\n",
       "    .dataframe tbody tr th:only-of-type {\n",
       "        vertical-align: middle;\n",
       "    }\n",
       "\n",
       "    .dataframe tbody tr th {\n",
       "        vertical-align: top;\n",
       "    }\n",
       "\n",
       "    .dataframe thead th {\n",
       "        text-align: right;\n",
       "    }\n",
       "</style>\n",
       "<table border=\"1\" class=\"dataframe\">\n",
       "  <thead>\n",
       "    <tr style=\"text-align: right;\">\n",
       "      <th></th>\n",
       "      <th>state</th>\n",
       "      <th>year</th>\n",
       "      <th>month</th>\n",
       "      <th>area_population</th>\n",
       "      <th>civ_lf_employed_%</th>\n",
       "    </tr>\n",
       "  </thead>\n",
       "  <tbody>\n",
       "    <tr>\n",
       "      <th>0</th>\n",
       "      <td>AL</td>\n",
       "      <td>1976</td>\n",
       "      <td>1</td>\n",
       "      <td>2605000</td>\n",
       "      <td>53.4</td>\n",
       "    </tr>\n",
       "    <tr>\n",
       "      <th>1</th>\n",
       "      <td>AK</td>\n",
       "      <td>1976</td>\n",
       "      <td>1</td>\n",
       "      <td>232000</td>\n",
       "      <td>63.7</td>\n",
       "    </tr>\n",
       "    <tr>\n",
       "      <th>2</th>\n",
       "      <td>AZ</td>\n",
       "      <td>1976</td>\n",
       "      <td>1</td>\n",
       "      <td>1621000</td>\n",
       "      <td>53.8</td>\n",
       "    </tr>\n",
       "    <tr>\n",
       "      <th>3</th>\n",
       "      <td>AR</td>\n",
       "      <td>1976</td>\n",
       "      <td>1</td>\n",
       "      <td>1536000</td>\n",
       "      <td>53.2</td>\n",
       "    </tr>\n",
       "    <tr>\n",
       "      <th>4</th>\n",
       "      <td>CA</td>\n",
       "      <td>1976</td>\n",
       "      <td>1</td>\n",
       "      <td>15621000</td>\n",
       "      <td>56.9</td>\n",
       "    </tr>\n",
       "  </tbody>\n",
       "</table>\n",
       "</div>"
      ],
      "text/plain": [
       "  state  year  month  area_population  civ_lf_employed_%\n",
       "0    AL  1976      1          2605000               53.4\n",
       "1    AK  1976      1           232000               63.7\n",
       "2    AZ  1976      1          1621000               53.8\n",
       "3    AR  1976      1          1536000               53.2\n",
       "4    CA  1976      1         15621000               56.9"
      ]
     },
     "execution_count": 98,
     "metadata": {},
     "output_type": "execute_result"
    }
   ],
   "source": [
    "unemployment_df.head()"
   ]
  },
  {
   "cell_type": "code",
   "execution_count": 100,
   "metadata": {},
   "outputs": [],
   "source": [
    "# cutting to 1996 and on:\n",
    "\n",
    "unemployment_df = unemployment_df[(unemployment_df['year'] >= 1996)].copy()"
   ]
  },
  {
   "cell_type": "code",
   "execution_count": 101,
   "metadata": {},
   "outputs": [
    {
     "data": {
      "text/html": [
       "<div>\n",
       "<style scoped>\n",
       "    .dataframe tbody tr th:only-of-type {\n",
       "        vertical-align: middle;\n",
       "    }\n",
       "\n",
       "    .dataframe tbody tr th {\n",
       "        vertical-align: top;\n",
       "    }\n",
       "\n",
       "    .dataframe thead th {\n",
       "        text-align: right;\n",
       "    }\n",
       "</style>\n",
       "<table border=\"1\" class=\"dataframe\">\n",
       "  <thead>\n",
       "    <tr style=\"text-align: right;\">\n",
       "      <th></th>\n",
       "      <th>state</th>\n",
       "      <th>year</th>\n",
       "      <th>month</th>\n",
       "      <th>area_population</th>\n",
       "      <th>civ_lf_employed_%</th>\n",
       "    </tr>\n",
       "  </thead>\n",
       "  <tbody>\n",
       "    <tr>\n",
       "      <th>12720</th>\n",
       "      <td>AL</td>\n",
       "      <td>1996</td>\n",
       "      <td>1</td>\n",
       "      <td>3270552</td>\n",
       "      <td>59.8</td>\n",
       "    </tr>\n",
       "    <tr>\n",
       "      <th>12721</th>\n",
       "      <td>AK</td>\n",
       "      <td>1996</td>\n",
       "      <td>1</td>\n",
       "      <td>418371</td>\n",
       "      <td>67.8</td>\n",
       "    </tr>\n",
       "    <tr>\n",
       "      <th>12722</th>\n",
       "      <td>AZ</td>\n",
       "      <td>1996</td>\n",
       "      <td>1</td>\n",
       "      <td>3412217</td>\n",
       "      <td>62.6</td>\n",
       "    </tr>\n",
       "    <tr>\n",
       "      <th>12723</th>\n",
       "      <td>AR</td>\n",
       "      <td>1996</td>\n",
       "      <td>1</td>\n",
       "      <td>1927059</td>\n",
       "      <td>61.4</td>\n",
       "    </tr>\n",
       "    <tr>\n",
       "      <th>12724</th>\n",
       "      <td>CA</td>\n",
       "      <td>1996</td>\n",
       "      <td>1</td>\n",
       "      <td>23347682</td>\n",
       "      <td>60.4</td>\n",
       "    </tr>\n",
       "  </tbody>\n",
       "</table>\n",
       "</div>"
      ],
      "text/plain": [
       "      state  year  month  area_population  civ_lf_employed_%\n",
       "12720    AL  1996      1          3270552               59.8\n",
       "12721    AK  1996      1           418371               67.8\n",
       "12722    AZ  1996      1          3412217               62.6\n",
       "12723    AR  1996      1          1927059               61.4\n",
       "12724    CA  1996      1         23347682               60.4"
      ]
     },
     "execution_count": 101,
     "metadata": {},
     "output_type": "execute_result"
    }
   ],
   "source": [
    "unemployment_df.head()"
   ]
  },
  {
   "cell_type": "code",
   "execution_count": 86,
   "metadata": {},
   "outputs": [
    {
     "name": "stdout",
     "output_type": "stream",
     "text": [
      "The problem columns are:  []\n",
      "After dropping the problem columns, you are left with  1.0 % of your columns.\n",
      "After dropping the problem columns, and then dropping all rows containing nulls,\n",
      " you are left with  0.9622641509433962 % of your rows.\n"
     ]
    },
    {
     "data": {
      "text/plain": [
       "[['state', 552, 0.038]]"
      ]
     },
     "execution_count": 86,
     "metadata": {},
     "output_type": "execute_result"
    }
   ],
   "source": [
    "# checking null values:\n",
    "null_cleaning(unemployment_df)"
   ]
  },
  {
   "cell_type": "markdown",
   "metadata": {},
   "source": [
    "Now we merge the employment stats to the disasters and occupations data along year, state, and month. We do this three times, first on the declaration date of the disaster, again on the date the month before each disaster, and finally on the date two months after each disaster. This way we can calculate wage change across this time period:"
   ]
  },
  {
   "cell_type": "code",
   "execution_count": 104,
   "metadata": {},
   "outputs": [],
   "source": [
    "df1 = df.merge(unemployment_df, on = ['state','year','month'])"
   ]
  },
  {
   "cell_type": "code",
   "execution_count": 105,
   "metadata": {},
   "outputs": [
    {
     "data": {
      "text/html": [
       "<div>\n",
       "<style scoped>\n",
       "    .dataframe tbody tr th:only-of-type {\n",
       "        vertical-align: middle;\n",
       "    }\n",
       "\n",
       "    .dataframe tbody tr th {\n",
       "        vertical-align: top;\n",
       "    }\n",
       "\n",
       "    .dataframe thead th {\n",
       "        text-align: right;\n",
       "    }\n",
       "</style>\n",
       "<table border=\"1\" class=\"dataframe\">\n",
       "  <thead>\n",
       "    <tr style=\"text-align: right;\">\n",
       "      <th></th>\n",
       "      <th>disasterNumber</th>\n",
       "      <th>state</th>\n",
       "      <th>incidentType</th>\n",
       "      <th>year</th>\n",
       "      <th>month</th>\n",
       "      <th>month_before</th>\n",
       "      <th>year_before</th>\n",
       "      <th>two_months_after</th>\n",
       "      <th>year_two_months_after</th>\n",
       "      <th>occ_code</th>\n",
       "      <th>occ_title</th>\n",
       "      <th>tot_emp</th>\n",
       "      <th>h_mean</th>\n",
       "      <th>a_mean</th>\n",
       "      <th>area_population</th>\n",
       "      <th>civ_lf_employed_%</th>\n",
       "    </tr>\n",
       "  </thead>\n",
       "  <tbody>\n",
       "    <tr>\n",
       "      <th>0</th>\n",
       "      <td>1190</td>\n",
       "      <td>NE</td>\n",
       "      <td>Severe Storm(s)</td>\n",
       "      <td>1997.0</td>\n",
       "      <td>11.0</td>\n",
       "      <td>10</td>\n",
       "      <td>1997</td>\n",
       "      <td>1</td>\n",
       "      <td>1998</td>\n",
       "      <td>13000</td>\n",
       "      <td>Staff and Administrative Specialty Managerial ...</td>\n",
       "      <td>**</td>\n",
       "      <td>16.9</td>\n",
       "      <td>35150</td>\n",
       "      <td>1261157</td>\n",
       "      <td>71.5</td>\n",
       "    </tr>\n",
       "    <tr>\n",
       "      <th>1</th>\n",
       "      <td>1190</td>\n",
       "      <td>NE</td>\n",
       "      <td>Severe Storm(s)</td>\n",
       "      <td>1997.0</td>\n",
       "      <td>11.0</td>\n",
       "      <td>10</td>\n",
       "      <td>1997</td>\n",
       "      <td>1</td>\n",
       "      <td>1998</td>\n",
       "      <td>13002</td>\n",
       "      <td>Financial Managers</td>\n",
       "      <td>3730</td>\n",
       "      <td>24.50</td>\n",
       "      <td>50960</td>\n",
       "      <td>1261157</td>\n",
       "      <td>71.5</td>\n",
       "    </tr>\n",
       "    <tr>\n",
       "      <th>2</th>\n",
       "      <td>1190</td>\n",
       "      <td>NE</td>\n",
       "      <td>Severe Storm(s)</td>\n",
       "      <td>1997.0</td>\n",
       "      <td>11.0</td>\n",
       "      <td>10</td>\n",
       "      <td>1997</td>\n",
       "      <td>1</td>\n",
       "      <td>1998</td>\n",
       "      <td>13005</td>\n",
       "      <td>Personnel, Training, and Labor Relations Managers</td>\n",
       "      <td>1420</td>\n",
       "      <td>21.41</td>\n",
       "      <td>44540</td>\n",
       "      <td>1261157</td>\n",
       "      <td>71.5</td>\n",
       "    </tr>\n",
       "    <tr>\n",
       "      <th>3</th>\n",
       "      <td>1190</td>\n",
       "      <td>NE</td>\n",
       "      <td>Severe Storm(s)</td>\n",
       "      <td>1997.0</td>\n",
       "      <td>11.0</td>\n",
       "      <td>10</td>\n",
       "      <td>1997</td>\n",
       "      <td>1</td>\n",
       "      <td>1998</td>\n",
       "      <td>13008</td>\n",
       "      <td>Purchasing Managers</td>\n",
       "      <td>1300</td>\n",
       "      <td>18.76</td>\n",
       "      <td>39030</td>\n",
       "      <td>1261157</td>\n",
       "      <td>71.5</td>\n",
       "    </tr>\n",
       "    <tr>\n",
       "      <th>4</th>\n",
       "      <td>1190</td>\n",
       "      <td>NE</td>\n",
       "      <td>Severe Storm(s)</td>\n",
       "      <td>1997.0</td>\n",
       "      <td>11.0</td>\n",
       "      <td>10</td>\n",
       "      <td>1997</td>\n",
       "      <td>1</td>\n",
       "      <td>1998</td>\n",
       "      <td>13011</td>\n",
       "      <td>Marketing, Advertising, and Public Relations M...</td>\n",
       "      <td>3380</td>\n",
       "      <td>23.06</td>\n",
       "      <td>47970</td>\n",
       "      <td>1261157</td>\n",
       "      <td>71.5</td>\n",
       "    </tr>\n",
       "  </tbody>\n",
       "</table>\n",
       "</div>"
      ],
      "text/plain": [
       "   disasterNumber state     incidentType    year  month  month_before  \\\n",
       "0            1190    NE  Severe Storm(s)  1997.0   11.0            10   \n",
       "1            1190    NE  Severe Storm(s)  1997.0   11.0            10   \n",
       "2            1190    NE  Severe Storm(s)  1997.0   11.0            10   \n",
       "3            1190    NE  Severe Storm(s)  1997.0   11.0            10   \n",
       "4            1190    NE  Severe Storm(s)  1997.0   11.0            10   \n",
       "\n",
       "   year_before  two_months_after  year_two_months_after occ_code  \\\n",
       "0         1997                 1                   1998    13000   \n",
       "1         1997                 1                   1998    13002   \n",
       "2         1997                 1                   1998    13005   \n",
       "3         1997                 1                   1998    13008   \n",
       "4         1997                 1                   1998    13011   \n",
       "\n",
       "                                           occ_title tot_emp h_mean a_mean  \\\n",
       "0  Staff and Administrative Specialty Managerial ...      **   16.9  35150   \n",
       "1                                 Financial Managers    3730  24.50  50960   \n",
       "2  Personnel, Training, and Labor Relations Managers    1420  21.41  44540   \n",
       "3                                Purchasing Managers    1300  18.76  39030   \n",
       "4  Marketing, Advertising, and Public Relations M...    3380  23.06  47970   \n",
       "\n",
       "   area_population  civ_lf_employed_%  \n",
       "0          1261157               71.5  \n",
       "1          1261157               71.5  \n",
       "2          1261157               71.5  \n",
       "3          1261157               71.5  \n",
       "4          1261157               71.5  "
      ]
     },
     "execution_count": 105,
     "metadata": {},
     "output_type": "execute_result"
    }
   ],
   "source": [
    "df1.head()"
   ]
  },
  {
   "cell_type": "code",
   "execution_count": 106,
   "metadata": {},
   "outputs": [],
   "source": [
    "employment_before_df = unemployment_df.copy()"
   ]
  },
  {
   "cell_type": "code",
   "execution_count": 107,
   "metadata": {},
   "outputs": [],
   "source": [
    "employment_before_df.rename(columns = {'civ_lf_employed_%':'employment_rate_before',\n",
    "                                       'month':'month_before',\n",
    "                                       'year':'year_before'},\n",
    "                           inplace= True)"
   ]
  },
  {
   "cell_type": "code",
   "execution_count": 108,
   "metadata": {},
   "outputs": [],
   "source": [
    "employment_after_df = unemployment_df.copy()"
   ]
  },
  {
   "cell_type": "code",
   "execution_count": 109,
   "metadata": {},
   "outputs": [],
   "source": [
    "employment_after_df.rename(columns = {'civ_lf_employed_%':'employment_rate_after',\n",
    "                                     'month':'two_months_after',\n",
    "                                     'year':'year_two_months_after'},\n",
    "                          inplace = True)"
   ]
  },
  {
   "cell_type": "code",
   "execution_count": 112,
   "metadata": {},
   "outputs": [],
   "source": [
    "df1.rename(columns = {'civ_lf_employed_%':'employment_rate_during'}, inplace = True)"
   ]
  },
  {
   "cell_type": "code",
   "execution_count": 114,
   "metadata": {},
   "outputs": [],
   "source": [
    "df2 = df1.merge(employment_before_df, on = ['state','year_before','month_before'])"
   ]
  },
  {
   "cell_type": "code",
   "execution_count": 116,
   "metadata": {},
   "outputs": [],
   "source": [
    "df3 = df2.merge(employment_after_df, on = ['state','year_two_months_after','two_months_after'])"
   ]
  },
  {
   "cell_type": "code",
   "execution_count": 118,
   "metadata": {},
   "outputs": [],
   "source": [
    "df3.drop(columns = ['area_population_x'], inplace = True)"
   ]
  },
  {
   "cell_type": "code",
   "execution_count": 119,
   "metadata": {
    "scrolled": true
   },
   "outputs": [
    {
     "data": {
      "text/html": [
       "<div>\n",
       "<style scoped>\n",
       "    .dataframe tbody tr th:only-of-type {\n",
       "        vertical-align: middle;\n",
       "    }\n",
       "\n",
       "    .dataframe tbody tr th {\n",
       "        vertical-align: top;\n",
       "    }\n",
       "\n",
       "    .dataframe thead th {\n",
       "        text-align: right;\n",
       "    }\n",
       "</style>\n",
       "<table border=\"1\" class=\"dataframe\">\n",
       "  <thead>\n",
       "    <tr style=\"text-align: right;\">\n",
       "      <th></th>\n",
       "      <th>disasterNumber</th>\n",
       "      <th>state</th>\n",
       "      <th>incidentType</th>\n",
       "      <th>year</th>\n",
       "      <th>month</th>\n",
       "      <th>month_before</th>\n",
       "      <th>year_before</th>\n",
       "      <th>two_months_after</th>\n",
       "      <th>year_two_months_after</th>\n",
       "      <th>occ_code</th>\n",
       "      <th>occ_title</th>\n",
       "      <th>tot_emp</th>\n",
       "      <th>h_mean</th>\n",
       "      <th>a_mean</th>\n",
       "      <th>employment_rate_during</th>\n",
       "      <th>population_before</th>\n",
       "      <th>employment_rate_before</th>\n",
       "      <th>population_after</th>\n",
       "      <th>employment_rate_after</th>\n",
       "    </tr>\n",
       "  </thead>\n",
       "  <tbody>\n",
       "    <tr>\n",
       "      <th>0</th>\n",
       "      <td>1190</td>\n",
       "      <td>NE</td>\n",
       "      <td>Severe Storm(s)</td>\n",
       "      <td>1997.0</td>\n",
       "      <td>11.0</td>\n",
       "      <td>10</td>\n",
       "      <td>1997</td>\n",
       "      <td>1</td>\n",
       "      <td>1998</td>\n",
       "      <td>13000</td>\n",
       "      <td>Staff and Administrative Specialty Managerial ...</td>\n",
       "      <td>**</td>\n",
       "      <td>16.9</td>\n",
       "      <td>35150</td>\n",
       "      <td>71.5</td>\n",
       "      <td>1260913</td>\n",
       "      <td>71.5</td>\n",
       "      <td>1262644</td>\n",
       "      <td>71.6</td>\n",
       "    </tr>\n",
       "    <tr>\n",
       "      <th>1</th>\n",
       "      <td>1190</td>\n",
       "      <td>NE</td>\n",
       "      <td>Severe Storm(s)</td>\n",
       "      <td>1997.0</td>\n",
       "      <td>11.0</td>\n",
       "      <td>10</td>\n",
       "      <td>1997</td>\n",
       "      <td>1</td>\n",
       "      <td>1998</td>\n",
       "      <td>13002</td>\n",
       "      <td>Financial Managers</td>\n",
       "      <td>3730</td>\n",
       "      <td>24.50</td>\n",
       "      <td>50960</td>\n",
       "      <td>71.5</td>\n",
       "      <td>1260913</td>\n",
       "      <td>71.5</td>\n",
       "      <td>1262644</td>\n",
       "      <td>71.6</td>\n",
       "    </tr>\n",
       "    <tr>\n",
       "      <th>2</th>\n",
       "      <td>1190</td>\n",
       "      <td>NE</td>\n",
       "      <td>Severe Storm(s)</td>\n",
       "      <td>1997.0</td>\n",
       "      <td>11.0</td>\n",
       "      <td>10</td>\n",
       "      <td>1997</td>\n",
       "      <td>1</td>\n",
       "      <td>1998</td>\n",
       "      <td>13005</td>\n",
       "      <td>Personnel, Training, and Labor Relations Managers</td>\n",
       "      <td>1420</td>\n",
       "      <td>21.41</td>\n",
       "      <td>44540</td>\n",
       "      <td>71.5</td>\n",
       "      <td>1260913</td>\n",
       "      <td>71.5</td>\n",
       "      <td>1262644</td>\n",
       "      <td>71.6</td>\n",
       "    </tr>\n",
       "    <tr>\n",
       "      <th>3</th>\n",
       "      <td>1190</td>\n",
       "      <td>NE</td>\n",
       "      <td>Severe Storm(s)</td>\n",
       "      <td>1997.0</td>\n",
       "      <td>11.0</td>\n",
       "      <td>10</td>\n",
       "      <td>1997</td>\n",
       "      <td>1</td>\n",
       "      <td>1998</td>\n",
       "      <td>13008</td>\n",
       "      <td>Purchasing Managers</td>\n",
       "      <td>1300</td>\n",
       "      <td>18.76</td>\n",
       "      <td>39030</td>\n",
       "      <td>71.5</td>\n",
       "      <td>1260913</td>\n",
       "      <td>71.5</td>\n",
       "      <td>1262644</td>\n",
       "      <td>71.6</td>\n",
       "    </tr>\n",
       "    <tr>\n",
       "      <th>4</th>\n",
       "      <td>1190</td>\n",
       "      <td>NE</td>\n",
       "      <td>Severe Storm(s)</td>\n",
       "      <td>1997.0</td>\n",
       "      <td>11.0</td>\n",
       "      <td>10</td>\n",
       "      <td>1997</td>\n",
       "      <td>1</td>\n",
       "      <td>1998</td>\n",
       "      <td>13011</td>\n",
       "      <td>Marketing, Advertising, and Public Relations M...</td>\n",
       "      <td>3380</td>\n",
       "      <td>23.06</td>\n",
       "      <td>47970</td>\n",
       "      <td>71.5</td>\n",
       "      <td>1260913</td>\n",
       "      <td>71.5</td>\n",
       "      <td>1262644</td>\n",
       "      <td>71.6</td>\n",
       "    </tr>\n",
       "    <tr>\n",
       "      <th>...</th>\n",
       "      <td>...</td>\n",
       "      <td>...</td>\n",
       "      <td>...</td>\n",
       "      <td>...</td>\n",
       "      <td>...</td>\n",
       "      <td>...</td>\n",
       "      <td>...</td>\n",
       "      <td>...</td>\n",
       "      <td>...</td>\n",
       "      <td>...</td>\n",
       "      <td>...</td>\n",
       "      <td>...</td>\n",
       "      <td>...</td>\n",
       "      <td>...</td>\n",
       "      <td>...</td>\n",
       "      <td>...</td>\n",
       "      <td>...</td>\n",
       "      <td>...</td>\n",
       "      <td>...</td>\n",
       "    </tr>\n",
       "    <tr>\n",
       "      <th>1764431</th>\n",
       "      <td>5053</td>\n",
       "      <td>TX</td>\n",
       "      <td>Fire</td>\n",
       "      <td>2014.0</td>\n",
       "      <td>5.0</td>\n",
       "      <td>4</td>\n",
       "      <td>2014</td>\n",
       "      <td>7</td>\n",
       "      <td>2014</td>\n",
       "      <td>53-7072</td>\n",
       "      <td>Pump Operators, Except Wellhead Pumpers</td>\n",
       "      <td>4110</td>\n",
       "      <td>20.87</td>\n",
       "      <td>43400</td>\n",
       "      <td>61.6</td>\n",
       "      <td>19999657</td>\n",
       "      <td>61.6</td>\n",
       "      <td>20101104</td>\n",
       "      <td>61.6</td>\n",
       "    </tr>\n",
       "    <tr>\n",
       "      <th>1764432</th>\n",
       "      <td>5053</td>\n",
       "      <td>TX</td>\n",
       "      <td>Fire</td>\n",
       "      <td>2014.0</td>\n",
       "      <td>5.0</td>\n",
       "      <td>4</td>\n",
       "      <td>2014</td>\n",
       "      <td>7</td>\n",
       "      <td>2014</td>\n",
       "      <td>53-7073</td>\n",
       "      <td>Wellhead Pumpers</td>\n",
       "      <td>2900</td>\n",
       "      <td>23.55</td>\n",
       "      <td>48990</td>\n",
       "      <td>61.6</td>\n",
       "      <td>19999657</td>\n",
       "      <td>61.6</td>\n",
       "      <td>20101104</td>\n",
       "      <td>61.6</td>\n",
       "    </tr>\n",
       "    <tr>\n",
       "      <th>1764433</th>\n",
       "      <td>5053</td>\n",
       "      <td>TX</td>\n",
       "      <td>Fire</td>\n",
       "      <td>2014.0</td>\n",
       "      <td>5.0</td>\n",
       "      <td>4</td>\n",
       "      <td>2014</td>\n",
       "      <td>7</td>\n",
       "      <td>2014</td>\n",
       "      <td>53-7081</td>\n",
       "      <td>Refuse and Recyclable Material Collectors</td>\n",
       "      <td>7320</td>\n",
       "      <td>14.09</td>\n",
       "      <td>29300</td>\n",
       "      <td>61.6</td>\n",
       "      <td>19999657</td>\n",
       "      <td>61.6</td>\n",
       "      <td>20101104</td>\n",
       "      <td>61.6</td>\n",
       "    </tr>\n",
       "    <tr>\n",
       "      <th>1764434</th>\n",
       "      <td>5053</td>\n",
       "      <td>TX</td>\n",
       "      <td>Fire</td>\n",
       "      <td>2014.0</td>\n",
       "      <td>5.0</td>\n",
       "      <td>4</td>\n",
       "      <td>2014</td>\n",
       "      <td>7</td>\n",
       "      <td>2014</td>\n",
       "      <td>53-7121</td>\n",
       "      <td>Tank Car, Truck, and Ship Loaders</td>\n",
       "      <td>2680</td>\n",
       "      <td>19.77</td>\n",
       "      <td>41130</td>\n",
       "      <td>61.6</td>\n",
       "      <td>19999657</td>\n",
       "      <td>61.6</td>\n",
       "      <td>20101104</td>\n",
       "      <td>61.6</td>\n",
       "    </tr>\n",
       "    <tr>\n",
       "      <th>1764435</th>\n",
       "      <td>5053</td>\n",
       "      <td>TX</td>\n",
       "      <td>Fire</td>\n",
       "      <td>2014.0</td>\n",
       "      <td>5.0</td>\n",
       "      <td>4</td>\n",
       "      <td>2014</td>\n",
       "      <td>7</td>\n",
       "      <td>2014</td>\n",
       "      <td>53-7199</td>\n",
       "      <td>Material Moving Workers, All Other</td>\n",
       "      <td>970</td>\n",
       "      <td>19.85</td>\n",
       "      <td>41300</td>\n",
       "      <td>61.6</td>\n",
       "      <td>19999657</td>\n",
       "      <td>61.6</td>\n",
       "      <td>20101104</td>\n",
       "      <td>61.6</td>\n",
       "    </tr>\n",
       "  </tbody>\n",
       "</table>\n",
       "<p>1764436 rows × 19 columns</p>\n",
       "</div>"
      ],
      "text/plain": [
       "         disasterNumber state     incidentType    year  month  month_before  \\\n",
       "0                  1190    NE  Severe Storm(s)  1997.0   11.0            10   \n",
       "1                  1190    NE  Severe Storm(s)  1997.0   11.0            10   \n",
       "2                  1190    NE  Severe Storm(s)  1997.0   11.0            10   \n",
       "3                  1190    NE  Severe Storm(s)  1997.0   11.0            10   \n",
       "4                  1190    NE  Severe Storm(s)  1997.0   11.0            10   \n",
       "...                 ...   ...              ...     ...    ...           ...   \n",
       "1764431            5053    TX             Fire  2014.0    5.0             4   \n",
       "1764432            5053    TX             Fire  2014.0    5.0             4   \n",
       "1764433            5053    TX             Fire  2014.0    5.0             4   \n",
       "1764434            5053    TX             Fire  2014.0    5.0             4   \n",
       "1764435            5053    TX             Fire  2014.0    5.0             4   \n",
       "\n",
       "         year_before  two_months_after  year_two_months_after occ_code  \\\n",
       "0               1997                 1                   1998    13000   \n",
       "1               1997                 1                   1998    13002   \n",
       "2               1997                 1                   1998    13005   \n",
       "3               1997                 1                   1998    13008   \n",
       "4               1997                 1                   1998    13011   \n",
       "...              ...               ...                    ...      ...   \n",
       "1764431         2014                 7                   2014  53-7072   \n",
       "1764432         2014                 7                   2014  53-7073   \n",
       "1764433         2014                 7                   2014  53-7081   \n",
       "1764434         2014                 7                   2014  53-7121   \n",
       "1764435         2014                 7                   2014  53-7199   \n",
       "\n",
       "                                                 occ_title tot_emp h_mean  \\\n",
       "0        Staff and Administrative Specialty Managerial ...      **   16.9   \n",
       "1                                       Financial Managers    3730  24.50   \n",
       "2        Personnel, Training, and Labor Relations Managers    1420  21.41   \n",
       "3                                      Purchasing Managers    1300  18.76   \n",
       "4        Marketing, Advertising, and Public Relations M...    3380  23.06   \n",
       "...                                                    ...     ...    ...   \n",
       "1764431            Pump Operators, Except Wellhead Pumpers    4110  20.87   \n",
       "1764432                                   Wellhead Pumpers    2900  23.55   \n",
       "1764433          Refuse and Recyclable Material Collectors    7320  14.09   \n",
       "1764434                  Tank Car, Truck, and Ship Loaders    2680  19.77   \n",
       "1764435                 Material Moving Workers, All Other     970  19.85   \n",
       "\n",
       "        a_mean  employment_rate_during  population_before  \\\n",
       "0        35150                    71.5            1260913   \n",
       "1        50960                    71.5            1260913   \n",
       "2        44540                    71.5            1260913   \n",
       "3        39030                    71.5            1260913   \n",
       "4        47970                    71.5            1260913   \n",
       "...        ...                     ...                ...   \n",
       "1764431  43400                    61.6           19999657   \n",
       "1764432  48990                    61.6           19999657   \n",
       "1764433  29300                    61.6           19999657   \n",
       "1764434  41130                    61.6           19999657   \n",
       "1764435  41300                    61.6           19999657   \n",
       "\n",
       "         employment_rate_before  population_after  employment_rate_after  \n",
       "0                          71.5           1262644                   71.6  \n",
       "1                          71.5           1262644                   71.6  \n",
       "2                          71.5           1262644                   71.6  \n",
       "3                          71.5           1262644                   71.6  \n",
       "4                          71.5           1262644                   71.6  \n",
       "...                         ...               ...                    ...  \n",
       "1764431                    61.6          20101104                   61.6  \n",
       "1764432                    61.6          20101104                   61.6  \n",
       "1764433                    61.6          20101104                   61.6  \n",
       "1764434                    61.6          20101104                   61.6  \n",
       "1764435                    61.6          20101104                   61.6  \n",
       "\n",
       "[1764436 rows x 19 columns]"
      ]
     },
     "execution_count": 119,
     "metadata": {},
     "output_type": "execute_result"
    }
   ],
   "source": [
    "df3.rename(columns = {'area_population_y':'population_before','area_population':'population_after'})"
   ]
  },
  {
   "cell_type": "code",
   "execution_count": 120,
   "metadata": {},
   "outputs": [],
   "source": [
    "df4 = df3.drop(columns = ['month_before','year_before','two_months_after','year_two_months_after'])"
   ]
  },
  {
   "cell_type": "code",
   "execution_count": 122,
   "metadata": {},
   "outputs": [],
   "source": [
    "df4.rename(columns = {'area_population_y':'population_before','area_population':'population_after'},inplace = True)"
   ]
  },
  {
   "cell_type": "code",
   "execution_count": 123,
   "metadata": {},
   "outputs": [
    {
     "data": {
      "text/html": [
       "<div>\n",
       "<style scoped>\n",
       "    .dataframe tbody tr th:only-of-type {\n",
       "        vertical-align: middle;\n",
       "    }\n",
       "\n",
       "    .dataframe tbody tr th {\n",
       "        vertical-align: top;\n",
       "    }\n",
       "\n",
       "    .dataframe thead th {\n",
       "        text-align: right;\n",
       "    }\n",
       "</style>\n",
       "<table border=\"1\" class=\"dataframe\">\n",
       "  <thead>\n",
       "    <tr style=\"text-align: right;\">\n",
       "      <th></th>\n",
       "      <th>disasterNumber</th>\n",
       "      <th>state</th>\n",
       "      <th>incidentType</th>\n",
       "      <th>year</th>\n",
       "      <th>month</th>\n",
       "      <th>occ_code</th>\n",
       "      <th>occ_title</th>\n",
       "      <th>tot_emp</th>\n",
       "      <th>h_mean</th>\n",
       "      <th>a_mean</th>\n",
       "      <th>employment_rate_during</th>\n",
       "      <th>population_before</th>\n",
       "      <th>employment_rate_before</th>\n",
       "      <th>population_after</th>\n",
       "      <th>employment_rate_after</th>\n",
       "    </tr>\n",
       "  </thead>\n",
       "  <tbody>\n",
       "    <tr>\n",
       "      <th>0</th>\n",
       "      <td>1190</td>\n",
       "      <td>NE</td>\n",
       "      <td>Severe Storm(s)</td>\n",
       "      <td>1997.0</td>\n",
       "      <td>11.0</td>\n",
       "      <td>13000</td>\n",
       "      <td>Staff and Administrative Specialty Managerial ...</td>\n",
       "      <td>**</td>\n",
       "      <td>16.9</td>\n",
       "      <td>35150</td>\n",
       "      <td>71.5</td>\n",
       "      <td>1260913</td>\n",
       "      <td>71.5</td>\n",
       "      <td>1262644</td>\n",
       "      <td>71.6</td>\n",
       "    </tr>\n",
       "    <tr>\n",
       "      <th>1</th>\n",
       "      <td>1190</td>\n",
       "      <td>NE</td>\n",
       "      <td>Severe Storm(s)</td>\n",
       "      <td>1997.0</td>\n",
       "      <td>11.0</td>\n",
       "      <td>13002</td>\n",
       "      <td>Financial Managers</td>\n",
       "      <td>3730</td>\n",
       "      <td>24.50</td>\n",
       "      <td>50960</td>\n",
       "      <td>71.5</td>\n",
       "      <td>1260913</td>\n",
       "      <td>71.5</td>\n",
       "      <td>1262644</td>\n",
       "      <td>71.6</td>\n",
       "    </tr>\n",
       "    <tr>\n",
       "      <th>2</th>\n",
       "      <td>1190</td>\n",
       "      <td>NE</td>\n",
       "      <td>Severe Storm(s)</td>\n",
       "      <td>1997.0</td>\n",
       "      <td>11.0</td>\n",
       "      <td>13005</td>\n",
       "      <td>Personnel, Training, and Labor Relations Managers</td>\n",
       "      <td>1420</td>\n",
       "      <td>21.41</td>\n",
       "      <td>44540</td>\n",
       "      <td>71.5</td>\n",
       "      <td>1260913</td>\n",
       "      <td>71.5</td>\n",
       "      <td>1262644</td>\n",
       "      <td>71.6</td>\n",
       "    </tr>\n",
       "    <tr>\n",
       "      <th>3</th>\n",
       "      <td>1190</td>\n",
       "      <td>NE</td>\n",
       "      <td>Severe Storm(s)</td>\n",
       "      <td>1997.0</td>\n",
       "      <td>11.0</td>\n",
       "      <td>13008</td>\n",
       "      <td>Purchasing Managers</td>\n",
       "      <td>1300</td>\n",
       "      <td>18.76</td>\n",
       "      <td>39030</td>\n",
       "      <td>71.5</td>\n",
       "      <td>1260913</td>\n",
       "      <td>71.5</td>\n",
       "      <td>1262644</td>\n",
       "      <td>71.6</td>\n",
       "    </tr>\n",
       "    <tr>\n",
       "      <th>4</th>\n",
       "      <td>1190</td>\n",
       "      <td>NE</td>\n",
       "      <td>Severe Storm(s)</td>\n",
       "      <td>1997.0</td>\n",
       "      <td>11.0</td>\n",
       "      <td>13011</td>\n",
       "      <td>Marketing, Advertising, and Public Relations M...</td>\n",
       "      <td>3380</td>\n",
       "      <td>23.06</td>\n",
       "      <td>47970</td>\n",
       "      <td>71.5</td>\n",
       "      <td>1260913</td>\n",
       "      <td>71.5</td>\n",
       "      <td>1262644</td>\n",
       "      <td>71.6</td>\n",
       "    </tr>\n",
       "  </tbody>\n",
       "</table>\n",
       "</div>"
      ],
      "text/plain": [
       "   disasterNumber state     incidentType    year  month occ_code  \\\n",
       "0            1190    NE  Severe Storm(s)  1997.0   11.0    13000   \n",
       "1            1190    NE  Severe Storm(s)  1997.0   11.0    13002   \n",
       "2            1190    NE  Severe Storm(s)  1997.0   11.0    13005   \n",
       "3            1190    NE  Severe Storm(s)  1997.0   11.0    13008   \n",
       "4            1190    NE  Severe Storm(s)  1997.0   11.0    13011   \n",
       "\n",
       "                                           occ_title tot_emp h_mean a_mean  \\\n",
       "0  Staff and Administrative Specialty Managerial ...      **   16.9  35150   \n",
       "1                                 Financial Managers    3730  24.50  50960   \n",
       "2  Personnel, Training, and Labor Relations Managers    1420  21.41  44540   \n",
       "3                                Purchasing Managers    1300  18.76  39030   \n",
       "4  Marketing, Advertising, and Public Relations M...    3380  23.06  47970   \n",
       "\n",
       "   employment_rate_during  population_before  employment_rate_before  \\\n",
       "0                    71.5            1260913                    71.5   \n",
       "1                    71.5            1260913                    71.5   \n",
       "2                    71.5            1260913                    71.5   \n",
       "3                    71.5            1260913                    71.5   \n",
       "4                    71.5            1260913                    71.5   \n",
       "\n",
       "   population_after  employment_rate_after  \n",
       "0           1262644                   71.6  \n",
       "1           1262644                   71.6  \n",
       "2           1262644                   71.6  \n",
       "3           1262644                   71.6  \n",
       "4           1262644                   71.6  "
      ]
     },
     "execution_count": 123,
     "metadata": {},
     "output_type": "execute_result"
    }
   ],
   "source": [
    "df4.head()"
   ]
  },
  {
   "cell_type": "code",
   "execution_count": 124,
   "metadata": {},
   "outputs": [],
   "source": [
    "df4['employment_rate_change'] = df4['employment_rate_before']-df4['employment_rate_after']"
   ]
  },
  {
   "cell_type": "code",
   "execution_count": 126,
   "metadata": {},
   "outputs": [],
   "source": [
    "df4 = df4[(df4['h_mean'] != '*') & (df4['h_mean']!= '#') ]"
   ]
  },
  {
   "cell_type": "code",
   "execution_count": 127,
   "metadata": {},
   "outputs": [],
   "source": [
    "df4 = df4[df4['tot_emp'] != '**'].copy()"
   ]
  },
  {
   "cell_type": "code",
   "execution_count": 128,
   "metadata": {},
   "outputs": [],
   "source": [
    "df4 = df4.astype({'h_mean':'float64','tot_emp':'float64'}).copy()"
   ]
  },
  {
   "cell_type": "markdown",
   "metadata": {},
   "source": [
    "Here we calculate wage loss:\n",
    "\n",
    "(percent change in state employment rate)x(hourly average wage for that job in that state at that time)x(40 hrs per week)x(12 weeks)x(number of people employed in that job type in that state)"
   ]
  },
  {
   "cell_type": "code",
   "execution_count": 130,
   "metadata": {},
   "outputs": [],
   "source": [
    "df4['wage_loss'] = (df4['employment_rate_change']/100)*df4['h_mean']*40*12*df4['tot_emp']"
   ]
  },
  {
   "cell_type": "code",
   "execution_count": 132,
   "metadata": {},
   "outputs": [],
   "source": [
    "df4.rename(columns = {'wage_loss':'wage_change'},inplace = True)"
   ]
  },
  {
   "cell_type": "code",
   "execution_count": 135,
   "metadata": {},
   "outputs": [
    {
     "data": {
      "text/html": [
       "<div>\n",
       "<style scoped>\n",
       "    .dataframe tbody tr th:only-of-type {\n",
       "        vertical-align: middle;\n",
       "    }\n",
       "\n",
       "    .dataframe tbody tr th {\n",
       "        vertical-align: top;\n",
       "    }\n",
       "\n",
       "    .dataframe thead th {\n",
       "        text-align: right;\n",
       "    }\n",
       "</style>\n",
       "<table border=\"1\" class=\"dataframe\">\n",
       "  <thead>\n",
       "    <tr style=\"text-align: right;\">\n",
       "      <th></th>\n",
       "      <th>disasterNumber</th>\n",
       "      <th>state</th>\n",
       "      <th>incidentType</th>\n",
       "      <th>year</th>\n",
       "      <th>month</th>\n",
       "      <th>occ_code</th>\n",
       "      <th>occ_title</th>\n",
       "      <th>tot_emp</th>\n",
       "      <th>h_mean</th>\n",
       "      <th>a_mean</th>\n",
       "      <th>employment_rate_during</th>\n",
       "      <th>employment_rate_before</th>\n",
       "      <th>employment_rate_after</th>\n",
       "      <th>employment_rate_change</th>\n",
       "      <th>wage_change</th>\n",
       "    </tr>\n",
       "  </thead>\n",
       "  <tbody>\n",
       "    <tr>\n",
       "      <th>1</th>\n",
       "      <td>1190</td>\n",
       "      <td>NE</td>\n",
       "      <td>Severe Storm(s)</td>\n",
       "      <td>1997.0</td>\n",
       "      <td>11.0</td>\n",
       "      <td>13002</td>\n",
       "      <td>Financial Managers</td>\n",
       "      <td>3730.0</td>\n",
       "      <td>24.50</td>\n",
       "      <td>50960</td>\n",
       "      <td>71.5</td>\n",
       "      <td>71.5</td>\n",
       "      <td>71.6</td>\n",
       "      <td>-0.1</td>\n",
       "      <td>-43864.800</td>\n",
       "    </tr>\n",
       "    <tr>\n",
       "      <th>2</th>\n",
       "      <td>1190</td>\n",
       "      <td>NE</td>\n",
       "      <td>Severe Storm(s)</td>\n",
       "      <td>1997.0</td>\n",
       "      <td>11.0</td>\n",
       "      <td>13005</td>\n",
       "      <td>Personnel, Training, and Labor Relations Managers</td>\n",
       "      <td>1420.0</td>\n",
       "      <td>21.41</td>\n",
       "      <td>44540</td>\n",
       "      <td>71.5</td>\n",
       "      <td>71.5</td>\n",
       "      <td>71.6</td>\n",
       "      <td>-0.1</td>\n",
       "      <td>-14593.056</td>\n",
       "    </tr>\n",
       "    <tr>\n",
       "      <th>3</th>\n",
       "      <td>1190</td>\n",
       "      <td>NE</td>\n",
       "      <td>Severe Storm(s)</td>\n",
       "      <td>1997.0</td>\n",
       "      <td>11.0</td>\n",
       "      <td>13008</td>\n",
       "      <td>Purchasing Managers</td>\n",
       "      <td>1300.0</td>\n",
       "      <td>18.76</td>\n",
       "      <td>39030</td>\n",
       "      <td>71.5</td>\n",
       "      <td>71.5</td>\n",
       "      <td>71.6</td>\n",
       "      <td>-0.1</td>\n",
       "      <td>-11706.240</td>\n",
       "    </tr>\n",
       "    <tr>\n",
       "      <th>4</th>\n",
       "      <td>1190</td>\n",
       "      <td>NE</td>\n",
       "      <td>Severe Storm(s)</td>\n",
       "      <td>1997.0</td>\n",
       "      <td>11.0</td>\n",
       "      <td>13011</td>\n",
       "      <td>Marketing, Advertising, and Public Relations M...</td>\n",
       "      <td>3380.0</td>\n",
       "      <td>23.06</td>\n",
       "      <td>47970</td>\n",
       "      <td>71.5</td>\n",
       "      <td>71.5</td>\n",
       "      <td>71.6</td>\n",
       "      <td>-0.1</td>\n",
       "      <td>-37412.544</td>\n",
       "    </tr>\n",
       "    <tr>\n",
       "      <th>5</th>\n",
       "      <td>1190</td>\n",
       "      <td>NE</td>\n",
       "      <td>Severe Storm(s)</td>\n",
       "      <td>1997.0</td>\n",
       "      <td>11.0</td>\n",
       "      <td>13014</td>\n",
       "      <td>Administrative Services Managers</td>\n",
       "      <td>2060.0</td>\n",
       "      <td>19.43</td>\n",
       "      <td>40410</td>\n",
       "      <td>71.5</td>\n",
       "      <td>71.5</td>\n",
       "      <td>71.6</td>\n",
       "      <td>-0.1</td>\n",
       "      <td>-19212.384</td>\n",
       "    </tr>\n",
       "  </tbody>\n",
       "</table>\n",
       "</div>"
      ],
      "text/plain": [
       "   disasterNumber state     incidentType    year  month occ_code  \\\n",
       "1            1190    NE  Severe Storm(s)  1997.0   11.0    13002   \n",
       "2            1190    NE  Severe Storm(s)  1997.0   11.0    13005   \n",
       "3            1190    NE  Severe Storm(s)  1997.0   11.0    13008   \n",
       "4            1190    NE  Severe Storm(s)  1997.0   11.0    13011   \n",
       "5            1190    NE  Severe Storm(s)  1997.0   11.0    13014   \n",
       "\n",
       "                                           occ_title  tot_emp  h_mean a_mean  \\\n",
       "1                                 Financial Managers   3730.0   24.50  50960   \n",
       "2  Personnel, Training, and Labor Relations Managers   1420.0   21.41  44540   \n",
       "3                                Purchasing Managers   1300.0   18.76  39030   \n",
       "4  Marketing, Advertising, and Public Relations M...   3380.0   23.06  47970   \n",
       "5                   Administrative Services Managers   2060.0   19.43  40410   \n",
       "\n",
       "   employment_rate_during  employment_rate_before  employment_rate_after  \\\n",
       "1                    71.5                    71.5                   71.6   \n",
       "2                    71.5                    71.5                   71.6   \n",
       "3                    71.5                    71.5                   71.6   \n",
       "4                    71.5                    71.5                   71.6   \n",
       "5                    71.5                    71.5                   71.6   \n",
       "\n",
       "   employment_rate_change  wage_change  \n",
       "1                    -0.1   -43864.800  \n",
       "2                    -0.1   -14593.056  \n",
       "3                    -0.1   -11706.240  \n",
       "4                    -0.1   -37412.544  \n",
       "5                    -0.1   -19212.384  "
      ]
     },
     "execution_count": 135,
     "metadata": {},
     "output_type": "execute_result"
    }
   ],
   "source": [
    "df4.head()"
   ]
  },
  {
   "cell_type": "code",
   "execution_count": 134,
   "metadata": {},
   "outputs": [],
   "source": [
    "df4.drop(columns = ['population_before','population_after'],inplace = True)"
   ]
  },
  {
   "cell_type": "code",
   "execution_count": 136,
   "metadata": {},
   "outputs": [
    {
     "data": {
      "text/plain": [
       "(1566063, 15)"
      ]
     },
     "execution_count": 136,
     "metadata": {},
     "output_type": "execute_result"
    }
   ],
   "source": [
    "df4.shape"
   ]
  },
  {
   "cell_type": "markdown",
   "metadata": {},
   "source": [
    "All merged and ready to go! Saving as a csv file:"
   ]
  },
  {
   "cell_type": "code",
   "execution_count": 137,
   "metadata": {},
   "outputs": [],
   "source": [
    "df4.to_csv('../data/main_df.csv', index = False)"
   ]
  },
  {
   "cell_type": "code",
   "execution_count": null,
   "metadata": {},
   "outputs": [],
   "source": []
  },
  {
   "cell_type": "markdown",
   "metadata": {},
   "source": [
    "### Creating Data Dictionary: "
   ]
  },
  {
   "cell_type": "markdown",
   "metadata": {},
   "source": [
    "\n",
    "|Feature|Type|Dataset|Description|\n",
    "|---|---|---|---|\n",
    "|**disasterNumber**|*integer*|main_df|ID number associated to each disaster event.| \n",
    "|**state**|*object*|main_df|State where disaster occurred.|\n",
    "|**incidentType**|*object*|main_df|Type of disaster (tornado, fire, hurricane, etc.).|\n",
    "|**year**|*float*|main_df|Year disaster declared.|\n",
    "|**month**|*float*|main_df|Month dsaster declared.|\n",
    "|**occ_code**|*object*|main_df|Occupation code (first two digits indicate industry type).|\n",
    "|**occ_title**|*object*|main_df|Occupation title.|\n",
    "|**tot_emp**|*integer*|main_df|Total number of people employed in occupation in state at time of disaster.|\n",
    "|**h_mean**|*integer*|main_df|Hourly average wage for occupation in state.|\n",
    "|**a_mean**|*integer*|main_df|Annual average wage for occupation in state.|\n",
    "|**employment_rate_during**|*integer*|main_df|State employment rate at time of disaster.|\n",
    "|**employment_rate_before**|*integer*|main_df|State employment rate at one month before time of disaster.|\n",
    "|**employment_rate_after**|*integer*|main_df|State employment rate two months after time of disaster.|\n",
    "|**wage_change**|*integer*|main_df|Wage change across time one month before disaster and two months after. Total wages gained or lost from all people working in a particular occupation in each state at time of disaster.|"
   ]
  },
  {
   "cell_type": "code",
   "execution_count": null,
   "metadata": {},
   "outputs": [],
   "source": []
  }
 ],
 "metadata": {
  "kernelspec": {
   "display_name": "Python 3",
   "language": "python",
   "name": "python3"
  },
  "language_info": {
   "codemirror_mode": {
    "name": "ipython",
    "version": 3
   },
   "file_extension": ".py",
   "mimetype": "text/x-python",
   "name": "python",
   "nbconvert_exporter": "python",
   "pygments_lexer": "ipython3",
   "version": "3.7.4"
  }
 },
 "nbformat": 4,
 "nbformat_minor": 2
}
